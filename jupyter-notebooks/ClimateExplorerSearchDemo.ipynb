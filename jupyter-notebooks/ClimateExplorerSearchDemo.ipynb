{
 "cells": [
  {
   "cell_type": "markdown",
   "id": "be8dbd54-c6b2-4246-b24f-8f1761547059",
   "metadata": {},
   "source": [
    "# Climate Explorer Search Demo\n",
    "\n",
    "This notebook demonstrates Sust Global's Climate Explorer \"Search\" functionality. This enables rapid retrieval of physical risk exposure at the individual asset/property level.\n",
    "\n",
    "Use the \"Notebook Configuration\" section below to provide your Climate Explorer credentials, as well as a Google Maps API Key. Attendees of the Climate Data Studio will be given this information. To use your own Google Maps API key, please visit the [Google Maps API documentation](https://developers.google.com/maps/documentation/javascript/get-api-key).\n",
    "\n",
    "The \"Search Execution\" section demonstrates address-based risk exposure retrieval. Configure `SEARCH_ADDRESS` with the value you wish to search for, then run the relevant cells in this notebook. The \"Utility Functions\" section contains the actual code used to interact with the Climate Explorer Search API."
   ]
  },
  {
   "cell_type": "markdown",
   "id": "f475f727-ecaa-467f-a22b-2aa2db580222",
   "metadata": {},
   "source": [
    "## Notebook Configuration"
   ]
  },
  {
   "cell_type": "code",
   "execution_count": 1,
   "id": "9e995b66-fa17-4fba-9f00-b97eac3e7a58",
   "metadata": {},
   "outputs": [],
   "source": [
    "import os\n",
    "\n",
    "# Your Climate Explorer API key and project must be provided. Use the environment variables already\n",
    "# wired up, or overwrite the following lines with your own values manually.\n",
    "API_KEY = os.environ.get('SUST_API_KEY')\n",
    "PROJECT = os.environ.get('SUST_PROJECT')\n",
    "\n",
    "# A Google Maps API Key must be provided to support address geocoding. Provide this value via an\n",
    "# environment variable, or override the value below.\n",
    "GOOGLE_MAPS_API_KEY = os.environ.get('GOOGLE_MAPS_API_KEY')"
   ]
  },
  {
   "cell_type": "markdown",
   "id": "1198c6cb-dee5-4e6e-bd06-6c12274d339d",
   "metadata": {
    "jp-MarkdownHeadingCollapsed": true,
    "tags": []
   },
   "source": [
    "## Utility Functions"
   ]
  },
  {
   "cell_type": "code",
   "execution_count": 2,
   "id": "3c64ec57-aa4c-49a1-a57e-b6b62f8c9c98",
   "metadata": {},
   "outputs": [],
   "source": [
    "from dataclasses import asdict, dataclass\n",
    "from typing import List\n",
    "import urllib.parse\n",
    "\n",
    "import googlemaps\n",
    "import pandas as pd\n",
    "import requests\n",
    "\n",
    "\n",
    "@dataclass\n",
    "class Point:\n",
    "    lat: float\n",
    "    lng: float\n",
    "    \n",
    "\n",
    "def geocode(address: str) -> Point:\n",
    "    cl = googlemaps.Client(key=GOOGLE_MAPS_API_KEY)\n",
    "    res = cl.geocode(address)\n",
    "\n",
    "    if len(res) != 1:\n",
    "        raise Exception(f\"geocoder returned {len(res)} results, expected 1\")\n",
    "\n",
    "    loc = res[0]['geometry']['location']\n",
    "    return Point(**loc)\n",
    "\n",
    "\n",
    "def get_physical_risk_exposure(point: Point) -> dict:\n",
    "    qp = urllib.parse.urlencode({\n",
    "        \"lat\": point.lat,\n",
    "        \"lng\": point.lng,\n",
    "    })\n",
    "    \n",
    "    headers = {\n",
    "        \"X-SustGlobal-APIKey\": API_KEY, \n",
    "        \"X-SustGlobal-Project\": PROJECT\n",
    "    }\n",
    "\n",
    "    ep = f\"https://explorer.sustglobal.io/api/search?{qp}\"\n",
    "\n",
    "    resp = requests.get(ep, headers=headers)\n",
    "    if resp.status_code != 200:\n",
    "        raise Exception(f\"API request failed: code={resp.status_code} body={resp.text}\")\n",
    "\n",
    "    return resp.json()['features'][0]['properties']['physical_risk_exposure']"
   ]
  },
  {
   "cell_type": "markdown",
   "id": "5eb562e1-4778-4bb0-bf79-889f994da22b",
   "metadata": {},
   "source": [
    "## Search Execution\n",
    "\n",
    "The primary input to a search query is an address. This value is geocoded to set of coordinates using the Google Maps Geocoding API before submitting the query itself.\n",
    "\n",
    "Note that the provided address MUST be located within the \"lower 48\" continguous United States."
   ]
  },
  {
   "cell_type": "code",
   "execution_count": 3,
   "id": "9f79f09b-6d40-4136-8d5a-08d07aa6c7bf",
   "metadata": {},
   "outputs": [],
   "source": [
    "# Define your search input below.\n",
    "SEARCH_ADDRESS = \"595 Pacific Ave, San Francisco, CA\""
   ]
  },
  {
   "cell_type": "code",
   "execution_count": 4,
   "id": "f270d54c-8e18-457e-aa74-b822ab3301e7",
   "metadata": {},
   "outputs": [
    {
     "name": "stdout",
     "output_type": "stream",
     "text": [
      "Successfully resolved address: search=\"595 Pacific Ave, San Francisco, CA\" geom=Point(lat=37.7970119, lng=-122.4050949)\n"
     ]
    }
   ],
   "source": [
    "pt = geocode(SEARCH_ADDRESS)\n",
    "print(f\"Successfully resolved address: search=\\\"{SEARCH_ADDRESS}\\\" geom={pt}\")"
   ]
  },
  {
   "cell_type": "code",
   "execution_count": 5,
   "id": "341ddd01-8210-4498-a4c0-18ee0eb2887f",
   "metadata": {},
   "outputs": [
    {
     "name": "stdout",
     "output_type": "stream",
     "text": [
      "Successfully retrieved risk summary data\n"
     ]
    }
   ],
   "source": [
    "exp = get_physical_risk_exposure(pt)\n",
    "print(\"Successfully retrieved risk summary data\")"
   ]
  },
  {
   "cell_type": "markdown",
   "id": "d0a752c5-8b67-4957-b3ce-deeb02a0341f",
   "metadata": {},
   "source": [
    "## Search Results\n",
    "\n",
    "Below you will find the results of your search query. Find more information about individual hazards in the [Sust Global Climate Data Guide](https://developers.sustglobal.com/dataguide.html).\n",
    "\n",
    "### Local Results\n",
    "\n",
    "The local physical risk exposure summary below represents exposure at the location of interest within a ~10km radius."
   ]
  },
  {
   "cell_type": "code",
   "execution_count": 6,
   "id": "7e2ff2f9-4e7c-428d-9ab7-7d73172ef338",
   "metadata": {},
   "outputs": [
    {
     "data": {
      "text/html": [
       "<div>\n",
       "<style scoped>\n",
       "    .dataframe tbody tr th:only-of-type {\n",
       "        vertical-align: middle;\n",
       "    }\n",
       "\n",
       "    .dataframe tbody tr th {\n",
       "        vertical-align: top;\n",
       "    }\n",
       "\n",
       "    .dataframe thead th {\n",
       "        text-align: right;\n",
       "    }\n",
       "</style>\n",
       "<table border=\"1\" class=\"dataframe\">\n",
       "  <thead>\n",
       "    <tr style=\"text-align: right;\">\n",
       "      <th></th>\n",
       "      <th>hazard</th>\n",
       "      <th>score</th>\n",
       "      <th>label</th>\n",
       "    </tr>\n",
       "  </thead>\n",
       "  <tbody>\n",
       "    <tr>\n",
       "      <th>0</th>\n",
       "      <td>cyclones</td>\n",
       "      <td>0.000000</td>\n",
       "      <td>LOW</td>\n",
       "    </tr>\n",
       "    <tr>\n",
       "      <th>1</th>\n",
       "      <td>drought</td>\n",
       "      <td>0.200400</td>\n",
       "      <td>LOW</td>\n",
       "    </tr>\n",
       "    <tr>\n",
       "      <th>5</th>\n",
       "      <td>floods</td>\n",
       "      <td>0.000000</td>\n",
       "      <td>LOW</td>\n",
       "    </tr>\n",
       "    <tr>\n",
       "      <th>3</th>\n",
       "      <td>heatwaves</td>\n",
       "      <td>17.333334</td>\n",
       "      <td>LOW</td>\n",
       "    </tr>\n",
       "    <tr>\n",
       "      <th>4</th>\n",
       "      <td>sea_level_rise</td>\n",
       "      <td>0.143112</td>\n",
       "      <td>LOW</td>\n",
       "    </tr>\n",
       "    <tr>\n",
       "      <th>2</th>\n",
       "      <td>wildfire</td>\n",
       "      <td>0.000000</td>\n",
       "      <td>LOW</td>\n",
       "    </tr>\n",
       "  </tbody>\n",
       "</table>\n",
       "</div>"
      ],
      "text/plain": [
       "           hazard      score label\n",
       "0        cyclones   0.000000   LOW\n",
       "1         drought   0.200400   LOW\n",
       "5          floods   0.000000   LOW\n",
       "3       heatwaves  17.333334   LOW\n",
       "4  sea_level_rise   0.143112   LOW\n",
       "2        wildfire   0.000000   LOW"
      ]
     },
     "execution_count": 6,
     "metadata": {},
     "output_type": "execute_result"
    }
   ],
   "source": [
    "pd.DataFrame(exp['local']['30yr']).sort_values(by=['hazard'])"
   ]
  },
  {
   "cell_type": "markdown",
   "id": "8d8e8475-0c2c-467e-9046-8a17e5b1c793",
   "metadata": {},
   "source": [
    "### Background Results\n",
    "\n",
    "The background physical risk exposure summary below represents exposure at the location of interest within a ~30km radius."
   ]
  },
  {
   "cell_type": "code",
   "execution_count": 7,
   "id": "614d19d0-c197-48c3-8646-e4600297267b",
   "metadata": {},
   "outputs": [
    {
     "data": {
      "text/html": [
       "<div>\n",
       "<style scoped>\n",
       "    .dataframe tbody tr th:only-of-type {\n",
       "        vertical-align: middle;\n",
       "    }\n",
       "\n",
       "    .dataframe tbody tr th {\n",
       "        vertical-align: top;\n",
       "    }\n",
       "\n",
       "    .dataframe thead th {\n",
       "        text-align: right;\n",
       "    }\n",
       "</style>\n",
       "<table border=\"1\" class=\"dataframe\">\n",
       "  <thead>\n",
       "    <tr style=\"text-align: right;\">\n",
       "      <th></th>\n",
       "      <th>hazard</th>\n",
       "      <th>score</th>\n",
       "      <th>label</th>\n",
       "    </tr>\n",
       "  </thead>\n",
       "  <tbody>\n",
       "    <tr>\n",
       "      <th>0</th>\n",
       "      <td>cyclones</td>\n",
       "      <td>0.000000</td>\n",
       "      <td>LOW</td>\n",
       "    </tr>\n",
       "    <tr>\n",
       "      <th>1</th>\n",
       "      <td>drought</td>\n",
       "      <td>0.239762</td>\n",
       "      <td>LOW</td>\n",
       "    </tr>\n",
       "    <tr>\n",
       "      <th>5</th>\n",
       "      <td>floods</td>\n",
       "      <td>0.000000</td>\n",
       "      <td>LOW</td>\n",
       "    </tr>\n",
       "    <tr>\n",
       "      <th>3</th>\n",
       "      <td>heatwaves</td>\n",
       "      <td>17.367512</td>\n",
       "      <td>LOW</td>\n",
       "    </tr>\n",
       "    <tr>\n",
       "      <th>4</th>\n",
       "      <td>sea_level_rise</td>\n",
       "      <td>0.113159</td>\n",
       "      <td>LOW</td>\n",
       "    </tr>\n",
       "    <tr>\n",
       "      <th>2</th>\n",
       "      <td>wildfire</td>\n",
       "      <td>0.000000</td>\n",
       "      <td>LOW</td>\n",
       "    </tr>\n",
       "  </tbody>\n",
       "</table>\n",
       "</div>"
      ],
      "text/plain": [
       "           hazard      score label\n",
       "0        cyclones   0.000000   LOW\n",
       "1         drought   0.239762   LOW\n",
       "5          floods   0.000000   LOW\n",
       "3       heatwaves  17.367512   LOW\n",
       "4  sea_level_rise   0.113159   LOW\n",
       "2        wildfire   0.000000   LOW"
      ]
     },
     "execution_count": 7,
     "metadata": {},
     "output_type": "execute_result"
    }
   ],
   "source": [
    "pd.DataFrame(exp['background']['30yr']).sort_values(by=['hazard'])"
   ]
  }
 ],
 "metadata": {
  "kernelspec": {
   "display_name": "Python 3 (ipykernel)",
   "language": "python",
   "name": "python3"
  },
  "language_info": {
   "codemirror_mode": {
    "name": "ipython",
    "version": 3
   },
   "file_extension": ".py",
   "mimetype": "text/x-python",
   "name": "python",
   "nbconvert_exporter": "python",
   "pygments_lexer": "ipython3",
   "version": "3.8.10"
  }
 },
 "nbformat": 4,
 "nbformat_minor": 5
}
