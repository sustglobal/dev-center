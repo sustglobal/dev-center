{
 "cells": [
  {
   "cell_type": "code",
   "execution_count": 1,
   "id": "9e995b66-fa17-4fba-9f00-b97eac3e7a58",
   "metadata": {},
   "outputs": [],
   "source": [
    "import os\n",
    "\n",
    "# Your API key and project must be provided. Use the environment variables already\n",
    "# wired up, or overwrite the following lines with your own values manually.\n",
    "API_KEY = os.environ.get('SUST_API_KEY')\n",
    "PROJECT = os.environ.get('SUST_PROJECT', 'cds-demo')\n",
    "\n",
    "# This value will be provided to you for use during the workshop.\n",
    "GOOGLE_MAPS_API_KEY = os.environ.get('GOOGLE_MAPS_API_KEY')\n",
    "\n",
    "# Define your search input below.\n",
    "SEARCH_ADDRESS = \"595 Pacific Ave, San Francisco, CA\""
   ]
  },
  {
   "cell_type": "code",
   "execution_count": 2,
   "id": "3c64ec57-aa4c-49a1-a57e-b6b62f8c9c98",
   "metadata": {},
   "outputs": [],
   "source": [
    "from dataclasses import asdict, dataclass\n",
    "from typing import List\n",
    "import urllib.parse\n",
    "\n",
    "import googlemaps\n",
    "import pandas as pd\n",
    "import requests\n",
    "\n",
    "\n",
    "@dataclass\n",
    "class Point:\n",
    "    lat: float\n",
    "    lng: float\n",
    "    \n",
    "\n",
    "def geocode(address: str) -> Point:\n",
    "    cl = googlemaps.Client(key=GOOGLE_MAPS_API_KEY)\n",
    "    res = cl.geocode(address)\n",
    "\n",
    "    if len(res) != 1:\n",
    "        raise Exception(f\"geocoder returned {len(res)} results, expected 1\")\n",
    "\n",
    "    loc = res[0]['geometry']['location']\n",
    "    return Point(**loc)\n",
    "\n",
    "\n",
    "def get_physical_risk_exposure(point: Point) -> dict:\n",
    "    qp = urllib.parse.urlencode({\n",
    "        \"api_key\": API_KEY,\n",
    "        \"project\": PROJECT,\n",
    "        \"lat\": point.lat,\n",
    "        \"lng\": point.lng,\n",
    "    })\n",
    "\n",
    "    ep = f\"https://explorer.sustglobal.io/api/experimental/search?{qp}\"\n",
    "\n",
    "    resp = requests.get(ep)\n",
    "    if resp.status_code != 200:\n",
    "        raise Exception(f\"API request failed: code={resp.status_code} body={resp.text}\")\n",
    "\n",
    "    return resp.json()['features'][0]['properties']['physical_risk_exposure']"
   ]
  },
  {
   "cell_type": "code",
   "execution_count": 3,
   "id": "1cdc09f2-5ac0-46de-beda-fa47db9e85fc",
   "metadata": {},
   "outputs": [
    {
     "name": "stdout",
     "output_type": "stream",
     "text": [
      "Successfully resolved address: search=\"595 Pacific Ave, San Francisco, CA\" geom=Point(lat=37.7970119, lng=-122.4050949)\n"
     ]
    }
   ],
   "source": [
    "pt = geocode(SEARCH_ADDRESS)\n",
    "print(f\"Successfully resolved address: search=\\\"{SEARCH_ADDRESS}\\\" geom={pt}\")"
   ]
  },
  {
   "cell_type": "code",
   "execution_count": 4,
   "id": "341ddd01-8210-4498-a4c0-18ee0eb2887f",
   "metadata": {},
   "outputs": [
    {
     "name": "stdout",
     "output_type": "stream",
     "text": [
      "Successfully retrieved risk summary data\n"
     ]
    }
   ],
   "source": [
    "exp = get_physical_risk_exposure(pt)\n",
    "print(\"Successfully retrieved risk summary data\")"
   ]
  },
  {
   "cell_type": "code",
   "execution_count": 5,
   "id": "7e2ff2f9-4e7c-428d-9ab7-7d73172ef338",
   "metadata": {},
   "outputs": [
    {
     "name": "stdout",
     "output_type": "stream",
     "text": [
      "Local physical risk exposure\n"
     ]
    },
    {
     "data": {
      "text/html": [
       "<div>\n",
       "<style scoped>\n",
       "    .dataframe tbody tr th:only-of-type {\n",
       "        vertical-align: middle;\n",
       "    }\n",
       "\n",
       "    .dataframe tbody tr th {\n",
       "        vertical-align: top;\n",
       "    }\n",
       "\n",
       "    .dataframe thead th {\n",
       "        text-align: right;\n",
       "    }\n",
       "</style>\n",
       "<table border=\"1\" class=\"dataframe\">\n",
       "  <thead>\n",
       "    <tr style=\"text-align: right;\">\n",
       "      <th></th>\n",
       "      <th>hazard</th>\n",
       "      <th>score</th>\n",
       "      <th>label</th>\n",
       "    </tr>\n",
       "  </thead>\n",
       "  <tbody>\n",
       "    <tr>\n",
       "      <th>3</th>\n",
       "      <td>cyclone</td>\n",
       "      <td>0.000000</td>\n",
       "      <td>LOW</td>\n",
       "    </tr>\n",
       "    <tr>\n",
       "      <th>5</th>\n",
       "      <td>flood_potential</td>\n",
       "      <td>0.000000</td>\n",
       "      <td>LOW</td>\n",
       "    </tr>\n",
       "    <tr>\n",
       "      <th>0</th>\n",
       "      <td>heatwave</td>\n",
       "      <td>0.162500</td>\n",
       "      <td>MEDIUM</td>\n",
       "    </tr>\n",
       "    <tr>\n",
       "      <th>2</th>\n",
       "      <td>sea_level_rise</td>\n",
       "      <td>0.229840</td>\n",
       "      <td>MEDIUM</td>\n",
       "    </tr>\n",
       "    <tr>\n",
       "      <th>1</th>\n",
       "      <td>water_stress</td>\n",
       "      <td>0.463986</td>\n",
       "      <td>MEDIUM</td>\n",
       "    </tr>\n",
       "    <tr>\n",
       "      <th>4</th>\n",
       "      <td>wildfire</td>\n",
       "      <td>0.000000</td>\n",
       "      <td>LOW</td>\n",
       "    </tr>\n",
       "  </tbody>\n",
       "</table>\n",
       "</div>"
      ],
      "text/plain": [
       "            hazard     score   label\n",
       "3          cyclone  0.000000     LOW\n",
       "5  flood_potential  0.000000     LOW\n",
       "0         heatwave  0.162500  MEDIUM\n",
       "2   sea_level_rise  0.229840  MEDIUM\n",
       "1     water_stress  0.463986  MEDIUM\n",
       "4         wildfire  0.000000     LOW"
      ]
     },
     "execution_count": 5,
     "metadata": {},
     "output_type": "execute_result"
    }
   ],
   "source": [
    "print(\"Local physical risk exposure\")\n",
    "pd.DataFrame(exp['local']['30yr']).sort_values(by=['hazard'])"
   ]
  },
  {
   "cell_type": "code",
   "execution_count": 6,
   "id": "614d19d0-c197-48c3-8646-e4600297267b",
   "metadata": {},
   "outputs": [
    {
     "name": "stdout",
     "output_type": "stream",
     "text": [
      "Background physical risk exposure\n"
     ]
    },
    {
     "data": {
      "text/html": [
       "<div>\n",
       "<style scoped>\n",
       "    .dataframe tbody tr th:only-of-type {\n",
       "        vertical-align: middle;\n",
       "    }\n",
       "\n",
       "    .dataframe tbody tr th {\n",
       "        vertical-align: top;\n",
       "    }\n",
       "\n",
       "    .dataframe thead th {\n",
       "        text-align: right;\n",
       "    }\n",
       "</style>\n",
       "<table border=\"1\" class=\"dataframe\">\n",
       "  <thead>\n",
       "    <tr style=\"text-align: right;\">\n",
       "      <th></th>\n",
       "      <th>hazard</th>\n",
       "      <th>score</th>\n",
       "      <th>label</th>\n",
       "    </tr>\n",
       "  </thead>\n",
       "  <tbody>\n",
       "    <tr>\n",
       "      <th>0</th>\n",
       "      <td>cyclone</td>\n",
       "      <td>0.000000</td>\n",
       "      <td>LOW</td>\n",
       "    </tr>\n",
       "    <tr>\n",
       "      <th>3</th>\n",
       "      <td>flood_potential</td>\n",
       "      <td>0.000000</td>\n",
       "      <td>LOW</td>\n",
       "    </tr>\n",
       "    <tr>\n",
       "      <th>4</th>\n",
       "      <td>heatwave</td>\n",
       "      <td>0.160052</td>\n",
       "      <td>MEDIUM</td>\n",
       "    </tr>\n",
       "    <tr>\n",
       "      <th>5</th>\n",
       "      <td>sea_level_rise</td>\n",
       "      <td>0.229840</td>\n",
       "      <td>MEDIUM</td>\n",
       "    </tr>\n",
       "    <tr>\n",
       "      <th>2</th>\n",
       "      <td>water_stress</td>\n",
       "      <td>0.484284</td>\n",
       "      <td>MEDIUM</td>\n",
       "    </tr>\n",
       "    <tr>\n",
       "      <th>1</th>\n",
       "      <td>wildfire</td>\n",
       "      <td>0.000279</td>\n",
       "      <td>LOW</td>\n",
       "    </tr>\n",
       "  </tbody>\n",
       "</table>\n",
       "</div>"
      ],
      "text/plain": [
       "            hazard     score   label\n",
       "0          cyclone  0.000000     LOW\n",
       "3  flood_potential  0.000000     LOW\n",
       "4         heatwave  0.160052  MEDIUM\n",
       "5   sea_level_rise  0.229840  MEDIUM\n",
       "2     water_stress  0.484284  MEDIUM\n",
       "1         wildfire  0.000279     LOW"
      ]
     },
     "execution_count": 6,
     "metadata": {},
     "output_type": "execute_result"
    }
   ],
   "source": [
    "print(\"Background physical risk exposure\")\n",
    "pd.DataFrame(exp['background']['30yr']).sort_values(by=['hazard'])"
   ]
  }
 ],
 "metadata": {
  "kernelspec": {
   "display_name": "Python 3 (ipykernel)",
   "language": "python",
   "name": "python3"
  },
  "language_info": {
   "codemirror_mode": {
    "name": "ipython",
    "version": 3
   },
   "file_extension": ".py",
   "mimetype": "text/x-python",
   "name": "python",
   "nbconvert_exporter": "python",
   "pygments_lexer": "ipython3",
   "version": "3.9.7"
  }
 },
 "nbformat": 4,
 "nbformat_minor": 5
}
