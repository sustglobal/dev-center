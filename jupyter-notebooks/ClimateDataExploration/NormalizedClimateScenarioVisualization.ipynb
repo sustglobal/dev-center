{
 "cells": [
  {
   "cell_type": "markdown",
   "id": "1954f959",
   "metadata": {},
   "source": [
    "## Introduction\n",
    "\n",
    "Sust Global's climate scenario analysis datasets allow operational risk analysts, quantitative modellers and ESG analysts to assess historic, near term and long term impacts of climate change. We provide historic risk exposure scores for fires, floods and cyclones over the past 11 years (Jan 2010- Dec 2020). For forward looking projections of extreme physical climate hazards, we provide risk exposures across standardized climate scenarios. In this User Guide, we give an overview of the outputs from climate scenario analysis and describe the hazards that we are covering in our analysis. We describe the different views in our platform and provide guidance on interpreting the results from our climate scenario analysis. \n",
    "\n",
    "### Physical Hazard Modeling \n",
    "\n",
    "We model rising temperatures and varying precipitation at the asset level.  We report on 5 physical hazards: Wildfire, floods, heatwaves, droughts (SPEI) and sea level rise (SLR). The modelled results are stored as time series for each specific asset within the portfolio of assets.\n",
    "\n",
    "### References\n",
    "\n",
    "More details on our dataset, descriptio of climate scenarios and risk modalities and value ranges can be found in our [Climate Scenario Analysis User Guide](https://drive.google.com/file/d/1ksBEYJexyLafInkZzEbcLnb3Kuc5eVsx/view) which also outlines a collection of technical references. \n",
    "\n",
    "Visit the [Sust Global's website](https://www.sustglobal.com/financial-services) to learn more about our unique climate risk analytics capabilities.\n",
    "\n"
   ]
  },
  {
   "cell_type": "code",
   "execution_count": 52,
   "id": "93076ab7",
   "metadata": {},
   "outputs": [],
   "source": [
    "import json\n",
    "import plotly.express as px\n",
    "import pandas as pd\n",
    "import plotly.io as pio\n",
    "import plotly.graph_objects as go\n",
    "from plotly.subplots import make_subplots\n",
    "import numpy as np"
   ]
  },
  {
   "cell_type": "markdown",
   "id": "46cf4dea",
   "metadata": {},
   "source": [
    "## Parameters\n",
    "\n",
    "`DATASET_ROOT` folder indicates the parent folder of the collections folder. Kindly change this to reflect the right folder on your local machine. Place the multiple climate scenario analysis collections from Sust Global for your different portfolios/asset collections in this parent folder. `US_ZIPCODES` with it's 73 csv files would be a folder in this parent folder/\n",
    "\n",
    "`START_YEAR` indicates the beginning of the analysis window\n",
    "\n",
    "`END_YEAR` indicates the conclusion of the analysis window\n"
   ]
  },
  {
   "cell_type": "code",
   "execution_count": 53,
   "id": "38986452",
   "metadata": {},
   "outputs": [],
   "source": [
    "DATASET_ROOT = '../../data/'\n",
    "START_YEAR = 2010\n",
    "END_YEAR = 2100\n",
    "START_DATE_HISTORIC = '20100101'\n",
    "FLOODING_THRESHOLD = 0.05\n",
    "STEP_YEAR = 10\n",
    "EPSILON = 1e-8\n",
    "max_risk_values = {'fire':6.0, \n",
    "                'flood':1.0, \n",
    "                'heatwaves':200.0, #100.00\n",
    "                'SPEI':3.0, \n",
    "                'SLR':0.75, #1.5,\n",
    "                'Cyclone':1.3,\n",
    "                'combined':1.0}\n",
    "low_risk_breakpoint = {'fire':2.0, \n",
    "                'flood':0.0, \n",
    "                'heatwaves':30.0,\n",
    "                'SPEI':1.5, \n",
    "                'SLR':0.1,\n",
    "                'Cyclone':0.6,\n",
    "                'combined':0.5}\n",
    "high_risk_breakpoint = {'fire':4.0, \n",
    "                'flood':3.0, \n",
    "                'heatwaves':50.0,\n",
    "                'SPEI':2.0, \n",
    "                'SLR':0.3,\n",
    "                'Cyclone':0.79,\n",
    "                'combined':0.7}\n",
    "\n",
    "his_risk_type = dict({'Fire': 'M_FIRE', \n",
    "                'Flood': 'FLOOD', \n",
    "                'Cyclone': 'CYCLONE'}) \n",
    "\n",
    "colors = {\n",
    "    'background': '#FFFFFF',\n",
    "    'text': '#AAAAAA'\n",
    "}\n",
    "\n",
    "PORTFOLIO_FRACTION_EXPOSED = 0.4 "
   ]
  },
  {
   "cell_type": "markdown",
   "id": "6a49a1c4",
   "metadata": {},
   "source": [
    "## Converting flood risk probabilities to decadal flood exceedance"
   ]
  },
  {
   "cell_type": "code",
   "execution_count": 54,
   "id": "0ef6afa7",
   "metadata": {},
   "outputs": [],
   "source": [
    "def transform_flood_probability_to_time_series(df_filtered, flooding_threshold):\n",
    "    df_filtered.reset_index(drop=True, inplace=True)\n",
    "    for col in df_filtered.columns:\n",
    "        if df_filtered.at[0, col] > flooding_threshold:\n",
    "            df_filtered.at[0, col] = 1.0\n",
    "        else:\n",
    "            df_filtered.at[0, col] = 0.0\n",
    "    for year in range(START_YEAR, END_YEAR, STEP_YEAR):\n",
    "        acc_floor_years = 0.0\n",
    "        for inc_year in range(STEP_YEAR):\n",
    "            acc_floor_years = acc_floor_years + df_filtered.at[0,str(year+inc_year)]\n",
    "        for inc_year in range(STEP_YEAR):\n",
    "            df_filtered.at[0,str(year+inc_year)] = acc_floor_years/STEP_YEAR\n",
    "    return df_filtered"
   ]
  },
  {
   "cell_type": "markdown",
   "id": "3a8c754a",
   "metadata": {},
   "source": [
    "## Display forward looking climate scenario analysis time series data"
   ]
  },
  {
   "cell_type": "code",
   "execution_count": 55,
   "id": "a105ba94",
   "metadata": {},
   "outputs": [],
   "source": [
    "def display_fwd_timeseries_data(asset_index, selected_ssp, selected_portfolio):\n",
    "\n",
    "    upper_bound_collection =[]\n",
    "    lower_bound_collection = []\n",
    "    trace_collection = []\n",
    "\n",
    "    for selected_risk in ['fire', 'flood', 'heatwaves', 'SPEI', 'SLR']:\n",
    "\n",
    "        data_file_asset_ssp585 = DATASET_ROOT+selected_portfolio+'/sustglobal_asset_fwd_' + \\\n",
    "            selected_risk+'_risk_'+selected_portfolio+'_'+selected_ssp+'.csv'\n",
    "        data_file_asset_ssp585_lbd = DATASET_ROOT+selected_portfolio+'/sustglobal_asset_fwd_' + \\\n",
    "            selected_risk+'_risk_'+selected_portfolio+'_'+selected_ssp+'_lbd.csv'\n",
    "        data_file_asset_ssp585_ubd = DATASET_ROOT+selected_portfolio+'/sustglobal_asset_fwd_' + \\\n",
    "            selected_risk+'_risk_'+selected_portfolio+'_'+selected_ssp+'_ubd.csv'\n",
    "\n",
    "        df_asset_ssp585 = pd.read_csv(data_file_asset_ssp585)\n",
    "        df_asset_ssp585_lbd = pd.read_csv(data_file_asset_ssp585_lbd)\n",
    "        df_asset_ssp585_ubd = pd.read_csv(data_file_asset_ssp585_ubd)\n",
    "\n",
    "        risk_colnames = [str(i) for i in list(range(START_YEAR, END_YEAR+1))]\n",
    "        df_selected = df_asset_ssp585[risk_colnames]\n",
    "        df_selected_lbd = df_asset_ssp585_lbd[risk_colnames]\n",
    "        df_selected_ubd = df_asset_ssp585_ubd[risk_colnames]\n",
    "\n",
    "        # attending to the case where you are switching portfolios and starting \n",
    "        # with an asset index greater that the size of the asset risk collection\n",
    "        if asset_index > df_selected.shape[0]:\n",
    "            asset_index = 0\n",
    "\n",
    "        df_filtered = df_selected[asset_index:asset_index+1].copy()\n",
    "        df_filtered_lbd = df_selected_lbd[asset_index:asset_index+1]\n",
    "        df_filtered_ubd = df_selected_ubd[asset_index:asset_index+1]\n",
    "\n",
    "        year_labels = [x for x in df_filtered.columns.values]\n",
    "        year_val = pd.to_numeric(year_labels)\n",
    "\n",
    "        if selected_risk == 'flood':\n",
    "            df_filtered = transform_flood_probability_to_time_series(df_filtered, FLOODING_THRESHOLD)\n",
    "            df_filtered_lbd = transform_flood_probability_to_time_series(df_filtered_lbd, FLOODING_THRESHOLD+0.02)\n",
    "            df_filtered_ubd = transform_flood_probability_to_time_series(df_filtered_ubd, FLOODING_THRESHOLD-0.02)\n",
    "\n",
    "        if selected_risk == 'SPEI':\n",
    "            df_filtered = df_filtered*-1.0\n",
    "            df_filtered_lbd = df_filtered_lbd*-1.0\n",
    "            df_filtered_ubd = df_filtered_ubd*-1.0\n",
    "\n",
    "        risk_val = df_filtered.values[0]/max_risk_values[selected_risk]\n",
    "        risk_lbd_val = df_filtered_lbd.values[0]/(max_risk_values[selected_risk]*4.0)\n",
    "        risk_ubd_val = df_filtered_ubd.values[0]/(max_risk_values[selected_risk]*4.0)\n",
    "\n",
    "        trace_color = {'fire':'rgb(255, 0, 0)', \n",
    "                       'flood':'rgb(0, 255, 255)', \n",
    "                       'heatwaves':'rgb(153, 0, 0)', \n",
    "                       'SPEI':'rgb(255, 123, 0)', \n",
    "                       'SLR':'rgb(0, 0, 255)'}\n",
    "\n",
    "        upper_bound = go.Scatter(\n",
    "            name='',\n",
    "            x=year_val,\n",
    "            y=risk_ubd_val,\n",
    "            mode='lines',\n",
    "            line=dict(width=0.5, color=\"rgba(255, 255, 255, 0)\"),\n",
    "            showlegend=False)\n",
    "\n",
    "        trace = go.Scatter(\n",
    "            name=selected_risk,\n",
    "            x=year_val,\n",
    "            y=risk_val,\n",
    "            mode='lines',\n",
    "            line=dict(width=3.0, color=trace_color[selected_risk]),\n",
    "            fillcolor='rgba(100, 100, 100, 0.2)',\n",
    "            fill='tonexty')\n",
    "\n",
    "        lower_bound = go.Scatter(\n",
    "            name='',\n",
    "            x=year_val,\n",
    "            y=risk_lbd_val,\n",
    "            mode='lines',\n",
    "            line=dict(width=0.5, color=\"rgba(255, 255, 255, 0)\"),\n",
    "            showlegend=False,\n",
    "            fillcolor='rgba(100, 100, 100, 0.2)',\n",
    "            fill='tonexty')\n",
    "\n",
    "        upper_bound_collection.append(upper_bound)\n",
    "        trace_collection.append(trace)\n",
    "        lower_bound_collection.append(lower_bound)\n",
    "\n",
    "    risk_label = 'Risk Exposure'\n",
    "    data = []\n",
    "    for trace_index in range(len(upper_bound_collection)):\n",
    "        data.append(upper_bound_collection[trace_index])\n",
    "        data.append(trace_collection[trace_index])\n",
    "        data.append(lower_bound_collection[trace_index])\n",
    "\n",
    "    df_asset = pd.read_csv(DATASET_ROOT+selected_portfolio+'/sustglobal_asset_fwd_' + \\\n",
    "            'fire'+'_risk_'+selected_portfolio+'_'+selected_ssp+'.csv')\n",
    "    address_label = df_asset[asset_index:asset_index+1]['Address'].values[0]\n",
    "    print(\"Address : \", address_label)\n",
    "    \n",
    "    layout = go.Layout(\n",
    "        title='Normalized Multi-Hazard Predictive Risk Exposure : '+str(address_label),\n",
    "        yaxis=dict(title=risk_label,\n",
    "                   showline=True,\n",
    "                   showgrid=False,\n",
    "                   showticklabels=True,\n",
    "                   linecolor='rgb(82, 82, 82)',\n",
    "                   linewidth=2,\n",
    "                   ticks='outside',\n",
    "                   range=[0,1.1],\n",
    "                   tickfont=dict(\n",
    "                         family='Arial',\n",
    "                         size=12,\n",
    "                         color='rgb(82, 82, 82)')\n",
    "                   ),\n",
    "        xaxis=dict(title='Year of Assessment',\n",
    "                   showline=True,\n",
    "                   showgrid=False,\n",
    "                   showticklabels=True,\n",
    "                   linecolor='rgb(82, 82, 82)',\n",
    "                   linewidth=2,\n",
    "                   ticks='outside',\n",
    "                   tickfont=dict(\n",
    "                         family='Arial',\n",
    "                         size=12,\n",
    "                         color='rgb(82, 82, 82)'),\n",
    "                   rangeselector=dict(\n",
    "                       buttons=list([\n",
    "                           dict(count=1,\n",
    "                                label='1y',\n",
    "                                step='year',\n",
    "                                stepmode='backward'),\n",
    "                           dict(count=3,\n",
    "                                label='3y',\n",
    "                                step='year',\n",
    "                                stepmode='backward'),\n",
    "                           dict(count=6,\n",
    "                                label='10y',\n",
    "                                step='year',\n",
    "                                stepmode='backward'),\n",
    "                           dict(step='all')\n",
    "                       ])\n",
    "                   ),\n",
    "                   rangeslider=dict(\n",
    "                       visible=True\n",
    "                   ),\n",
    "                   type='date'),\n",
    "        showlegend=True,\n",
    "        legend=dict(x=0, y=1.0),\n",
    "        transition_duration=50,\n",
    "        plot_bgcolor=colors['background'],\n",
    "        paper_bgcolor=colors['background'])\n",
    "\n",
    "    fig = go.Figure(data=data, layout=layout)\n",
    "    return fig"
   ]
  },
  {
   "cell_type": "markdown",
   "id": "8eb5bae1",
   "metadata": {},
   "source": [
    "## Display historic observation derived time series data"
   ]
  },
  {
   "cell_type": "code",
   "execution_count": 56,
   "id": "5fd2c622",
   "metadata": {},
   "outputs": [],
   "source": [
    "def display_his_timeseries_data(asset_index, selected_portfolio, selected_risk):\n",
    "\n",
    "    data_file_asset = DATASET_ROOT+selected_portfolio+'/sustglobal_asset_his_risk_' +selected_portfolio+'.csv'\n",
    "    df_asset = pd.read_csv(data_file_asset)\n",
    "\n",
    "    start_date = pd.Timestamp(START_DATE_HISTORIC)\n",
    "    plus_month_period = 1\n",
    "    pd.DateOffset(months=plus_month_period)\n",
    "    # for month in range(132):\n",
    "    #     start_date + pd.DateOffset(months=month*plus_month_period)\n",
    "    colnames = [selected_risk + '_' +(start_date + pd.DateOffset(months=month*plus_month_period)).strftime('%Y-%m-%d') for month in range(NUM_MONTHS_HISTORIC)]\n",
    "    df_selected = df_asset[colnames]\n",
    "    #print(df_selected)\n",
    "\n",
    "    # attending to the case where you are switching portfolios and starting \n",
    "    # with an asset index greater that the size of the asset risk collection\n",
    "    if asset_index > df_selected.shape[0]:\n",
    "        asset_index = 0\n",
    "\n",
    "    df_filtered = df_selected[asset_index:asset_index+1].copy()\n",
    "    address_label = df_asset[asset_index:asset_index+1]['Address'].values[0]\n",
    "\n",
    "    time_labels = [(start_date + pd.DateOffset(months=month*plus_month_period)).strftime('%Y-%m-%d') for month in range(132)]\n",
    "    time_val = time_labels #pd.to_numeric(time_labels)\n",
    "\n",
    "    # print(asset_index, df_filtered)\n",
    "    risk_val = df_filtered.values[0]\n",
    "    risk_lbd_val = df_filtered.values[0]*0.85\n",
    "    risk_ubd_val = df_filtered.values[0]*1.15\n",
    "\n",
    "    upper_bound1 = go.Scatter(\n",
    "        name='',\n",
    "        x=time_val,\n",
    "        y=risk_ubd_val,\n",
    "        mode='lines',\n",
    "        line=dict(width=0.5, color=\"rgba(255, 255, 255, 0)\"),\n",
    "        showlegend=False)\n",
    "\n",
    "    trace1 = go.Scatter(\n",
    "        name='',\n",
    "        x=time_val,\n",
    "        y=risk_val,\n",
    "        mode='lines',\n",
    "        line=dict(color='rgb(50, 50, 50)'),\n",
    "        fillcolor='rgba(100, 100, 100, 0.2)',\n",
    "        fill='tonexty')\n",
    "\n",
    "    lower_bound1 = go.Scatter(\n",
    "        name='',\n",
    "        x=time_val,\n",
    "        y=risk_lbd_val,\n",
    "        mode='lines',\n",
    "        line=dict(width=0.5, color=\"rgba(255, 255, 255, 0)\"),\n",
    "        showlegend=False,\n",
    "        fillcolor='rgba(100, 100, 100, 0.2)',\n",
    "        fill='tonexty',\n",
    "    )\n",
    "\n",
    "    df_asset = pd.read_csv(DATASET_ROOT+selected_portfolio+'/sustglobal_asset_fwd_' + \\\n",
    "            'fire'+'_risk_'+selected_portfolio+'_ssp585.csv')\n",
    "    address_label = df_asset[asset_index:asset_index+1]['Address'].values[0]\n",
    "    print(\"Address : \", address_label)\n",
    "    \n",
    "    risk_label = 'Hazard Severity [0.0-1.0]'\n",
    "\n",
    "    data = [trace1] #[upper_bound1, trace1, lower_bound1]\n",
    "\n",
    "    layout = go.Layout(\n",
    "        title='Historic Risk Event Exposure for ' + selected_risk + ' : '+ str(address_label),\n",
    "        yaxis=dict(title=risk_label,\n",
    "                   showline=True,\n",
    "                   #       range = [0.0, 30.0],\n",
    "                   showgrid=False,\n",
    "                   showticklabels=True,\n",
    "                   linecolor='rgb(82, 82, 82)',\n",
    "                   linewidth=2,\n",
    "                   ticks='outside',\n",
    "                   tickfont=dict(\n",
    "                         family='Arial',\n",
    "                         size=12,\n",
    "                         color='rgb(82, 82, 82)')\n",
    "                   ),\n",
    "        xaxis=dict(title='Year of Assessment',\n",
    "                   showline=True,\n",
    "                   showgrid=False,\n",
    "                   showticklabels=True,\n",
    "                   linecolor='rgb(82, 82, 82)',\n",
    "                   linewidth=2,\n",
    "                   ticks='outside',\n",
    "                   tickfont=dict(\n",
    "                         family='Arial',\n",
    "                         size=12,\n",
    "                         color='rgb(82, 82, 82)'),\n",
    "                   rangeselector=dict(\n",
    "                       buttons=list([\n",
    "                           dict(count=1,\n",
    "                                label='1y',\n",
    "                                step='year',\n",
    "                                stepmode='backward'),\n",
    "                           dict(count=3,\n",
    "                                label='3y',\n",
    "                                step='year',\n",
    "                                stepmode='backward'),\n",
    "                           dict(count=6,\n",
    "                                label='10y',\n",
    "                                step='year',\n",
    "                                stepmode='backward'),\n",
    "                           dict(step='all')\n",
    "                       ])\n",
    "                   ),\n",
    "                   rangeslider=dict(\n",
    "                       visible=True\n",
    "                   ),\n",
    "                   type='date'),\n",
    "        showlegend=False,\n",
    "        legend=dict(x=0, y=1.1),\n",
    "        transition_duration=500,\n",
    "        plot_bgcolor=colors['background'],\n",
    "        paper_bgcolor=colors['background'])\n",
    "\n",
    "    fig = go.Figure(data=data, layout=layout)\n",
    "    return fig"
   ]
  },
  {
   "cell_type": "markdown",
   "id": "be2ffe0b",
   "metadata": {},
   "source": [
    "## Pick a scenario, pick a portfolio and plot the forward time series for a specific asset\n",
    "\n",
    "Results are derived from the model responses"
   ]
  },
  {
   "cell_type": "code",
   "execution_count": 57,
   "id": "30ee5295",
   "metadata": {},
   "outputs": [],
   "source": [
    "scenario = 'ssp585'\n",
    "portfolio = 'US_ZIPCODES'\n",
    "asset_index = 1000"
   ]
  },
  {
   "cell_type": "code",
   "execution_count": 58,
   "id": "bba0175f",
   "metadata": {},
   "outputs": [
    {
     "name": "stdout",
     "output_type": "stream",
     "text": [
      "Address :  33837\n"
     ]
    },
    {
     "data": {
      "application/vnd.plotly.v1+json": {
       "config": {
        "plotlyServerURL": "https://plot.ly"
       },
       "data": [
        {
         "line": {
          "color": "rgba(255, 255, 255, 0)",
          "width": 0.5
         },
         "mode": "lines",
         "name": "",
         "showlegend": false,
         "type": "scatter",
         "x": [
          2010,
          2011,
          2012,
          2013,
          2014,
          2015,
          2016,
          2017,
          2018,
          2019,
          2020,
          2021,
          2022,
          2023,
          2024,
          2025,
          2026,
          2027,
          2028,
          2029,
          2030,
          2031,
          2032,
          2033,
          2034,
          2035,
          2036,
          2037,
          2038,
          2039,
          2040,
          2041,
          2042,
          2043,
          2044,
          2045,
          2046,
          2047,
          2048,
          2049,
          2050,
          2051,
          2052,
          2053,
          2054,
          2055,
          2056,
          2057,
          2058,
          2059,
          2060,
          2061,
          2062,
          2063,
          2064,
          2065,
          2066,
          2067,
          2068,
          2069,
          2070,
          2071,
          2072,
          2073,
          2074,
          2075,
          2076,
          2077,
          2078,
          2079,
          2080,
          2081,
          2082,
          2083,
          2084,
          2085,
          2086,
          2087,
          2088,
          2089,
          2090,
          2091,
          2092,
          2093,
          2094,
          2095,
          2096,
          2097,
          2098,
          2099,
          2100
         ],
         "y": [
          0.02143236401430942,
          0.009735271285159766,
          0.012301274426850547,
          0.014167732267436617,
          0.02002900626652915,
          0.01734855946259631,
          0.008933910960396104,
          0.007844699898901438,
          0.021463914041216014,
          0.02927216805169373,
          0.01678448092763337,
          0.009032714762469847,
          0.015393532919959138,
          0.023921201521903784,
          0.013823321563676232,
          0.006900096949412828,
          0.010279871621777287,
          0.011225533839931454,
          0.00895032616345271,
          0.011211644686178876,
          0.019897127146991225,
          0.015622106942748145,
          0.013438174053254462,
          0.012577771998145875,
          0.01611716205864468,
          0.01859966734909913,
          0.02500180168947416,
          0.008637951385947192,
          0.02179978707185327,
          0.01708010396723646,
          0.008431372100485493,
          0.01998445869794341,
          0.01364453537221712,
          0.01493650562732358,
          0.013608512950752492,
          0.01125529280528975,
          0.012438895070151388,
          0.008919468207892542,
          0.017818080526709964,
          0.0067163112861905955,
          0.010536022700150513,
          0.010655025664845696,
          0.0057274612757265584,
          0.0031372686850725793,
          0.007576081533289703,
          0.009707717799822279,
          0.004424018060423171,
          0.006504166513060142,
          0.010580639227048425,
          0.009506443735993055,
          0.00575855486139725,
          0.0051549809915796664,
          0.008659769700511416,
          0.005691773178985304,
          0.011891256515683525,
          0.008286514470264942,
          0.00600817019356185,
          0.010667525898117041,
          0.005884125424112659,
          0.010224159503375458,
          0.0051503755887948996,
          0.004135486134786958,
          0.005410722698239621,
          0.007742396586437317,
          0.004030985692358925,
          0.008513108201382005,
          0.006400200302328779,
          0.005758030248869713,
          0.00579826992662013,
          0.004447864740543804,
          0.006773670923072863,
          0.007678307796413445,
          0.008160985810607634,
          0.007672009285605109,
          0.0043114193133516705,
          0.003947593387362004,
          0.0045010435858644,
          0.004531890454438921,
          0.00640346143748205,
          0.0036828792714866496,
          0.0054778840428022745,
          0.005904515265148933,
          0.0052084935727285744,
          0.005586610586580971,
          0.003785783796632225,
          0.0054759969694334045,
          0.0038063179881287997,
          0.004683173097161592,
          0.004033078211534904,
          0.005555194382787066,
          0.006160113114536846
         ]
        },
        {
         "fill": "tonexty",
         "fillcolor": "rgba(100, 100, 100, 0.2)",
         "line": {
          "color": "rgb(255, 0, 0)",
          "width": 3
         },
         "mode": "lines",
         "name": "fire",
         "type": "scatter",
         "x": [
          2010,
          2011,
          2012,
          2013,
          2014,
          2015,
          2016,
          2017,
          2018,
          2019,
          2020,
          2021,
          2022,
          2023,
          2024,
          2025,
          2026,
          2027,
          2028,
          2029,
          2030,
          2031,
          2032,
          2033,
          2034,
          2035,
          2036,
          2037,
          2038,
          2039,
          2040,
          2041,
          2042,
          2043,
          2044,
          2045,
          2046,
          2047,
          2048,
          2049,
          2050,
          2051,
          2052,
          2053,
          2054,
          2055,
          2056,
          2057,
          2058,
          2059,
          2060,
          2061,
          2062,
          2063,
          2064,
          2065,
          2066,
          2067,
          2068,
          2069,
          2070,
          2071,
          2072,
          2073,
          2074,
          2075,
          2076,
          2077,
          2078,
          2079,
          2080,
          2081,
          2082,
          2083,
          2084,
          2085,
          2086,
          2087,
          2088,
          2089,
          2090,
          2091,
          2092,
          2093,
          2094,
          2095,
          2096,
          2097,
          2098,
          2099,
          2100
         ],
         "y": [
          0.05051414500205703,
          0.020909924750246483,
          0.025679324796376416,
          0.028211887130896184,
          0.043147681350199814,
          0.03970467681387535,
          0.015585484208888034,
          0.018251604416477735,
          0.04995488175731663,
          0.05170465279572095,
          0.038112730877251304,
          0.023007938106288015,
          0.027012546137711767,
          0.0483224201016672,
          0.03627212986790967,
          0.019481157630687966,
          0.031012845714368367,
          0.02593880452551195,
          0.020306091531452432,
          0.028030048166906563,
          0.043638448090177966,
          0.03222323719044192,
          0.026597581694725616,
          0.0270645227360409,
          0.03483572590435607,
          0.039615605569423486,
          0.04023344102883582,
          0.01777026768992763,
          0.05286861919066558,
          0.03725425562400025,
          0.0219903327121159,
          0.03358697386004367,
          0.025788797160636232,
          0.03814600910510692,
          0.030913543921714016,
          0.022851328489639767,
          0.02715480613701943,
          0.0190010652874339,
          0.031114068081571532,
          0.0176050518516817,
          0.0239760917231203,
          0.02503982534974275,
          0.0131924866138335,
          0.0080469524062651,
          0.01643050499205345,
          0.020763050842960533,
          0.010268674522870534,
          0.01674772606047247,
          0.025792867566960715,
          0.025401561037867518,
          0.01623244285701975,
          0.013988005199458116,
          0.023516194905617367,
          0.01230071853750085,
          0.026150408217084767,
          0.022158129836326503,
          0.01581449489800942,
          0.02395179250776475,
          0.014953770689945035,
          0.022768054887071783,
          0.01475984482699935,
          0.0123618291504466,
          0.015831909198679817,
          0.01720352915590815,
          0.010489479384216167,
          0.01844221463232035,
          0.018382988203802783,
          0.014488626128821116,
          0.012648210919527217,
          0.012193199015447867,
          0.020457022925455665,
          0.019537453681024632,
          0.020779818981043332,
          0.01784817119234425,
          0.012484252220787232,
          0.009198727539512617,
          0.013099082503982368,
          0.0125240764835095,
          0.017559443548513583,
          0.01003744281939295,
          0.015176456844514317,
          0.015851837413779702,
          0.0159585246550465,
          0.012736109243817517,
          0.0105997829714609,
          0.016406148970273433,
          0.009529437457618417,
          0.013593966545121933,
          0.010720196467546683,
          0.014377038419574483,
          0.016451240048055486
         ]
        },
        {
         "fill": "tonexty",
         "fillcolor": "rgba(100, 100, 100, 0.2)",
         "line": {
          "color": "rgba(255, 255, 255, 0)",
          "width": 0.5
         },
         "mode": "lines",
         "name": "",
         "showlegend": false,
         "type": "scatter",
         "x": [
          2010,
          2011,
          2012,
          2013,
          2014,
          2015,
          2016,
          2017,
          2018,
          2019,
          2020,
          2021,
          2022,
          2023,
          2024,
          2025,
          2026,
          2027,
          2028,
          2029,
          2030,
          2031,
          2032,
          2033,
          2034,
          2035,
          2036,
          2037,
          2038,
          2039,
          2040,
          2041,
          2042,
          2043,
          2044,
          2045,
          2046,
          2047,
          2048,
          2049,
          2050,
          2051,
          2052,
          2053,
          2054,
          2055,
          2056,
          2057,
          2058,
          2059,
          2060,
          2061,
          2062,
          2063,
          2064,
          2065,
          2066,
          2067,
          2068,
          2069,
          2070,
          2071,
          2072,
          2073,
          2074,
          2075,
          2076,
          2077,
          2078,
          2079,
          2080,
          2081,
          2082,
          2083,
          2084,
          2085,
          2086,
          2087,
          2088,
          2089,
          2090,
          2091,
          2092,
          2093,
          2094,
          2095,
          2096,
          2097,
          2098,
          2099,
          2100
         ],
         "y": [
          0.0038247084867190956,
          0.0007196910899634751,
          0.0005383879713376625,
          -6.178870198852083e-05,
          0.0015448344085707583,
          0.0025037789443413667,
          -0.0011411688559520834,
          0.0012811023093374334,
          0.003513526837442304,
          -0.0034198416538332543,
          0.0022718845109922794,
          0.0024712542906741666,
          -0.00188725985110325,
          0.0002400085289298167,
          0.0043127433702786,
          0.002840481865931154,
          0.005226551235406896,
          0.001743868422824529,
          0.0012027196022735083,
          0.002803379397274408,
          0.0019220968980977584,
          0.0004895116524728166,
          -0.00013938320589165415,
          0.0009544893698745751,
          0.0013007008935333542,
          0.0012081354356126125,
          -0.004885081175056246,
          0.000247182459016625,
          0.004634522523479516,
          0.0015470238447636625,
          0.0025637942555724585,
          -0.0031909717679215748,
          -0.0007501367918990042,
          0.004136498925229884,
          0.0018482590101045167,
          0.00017037143953013332,
          0.0011385079983583291,
          0.0005810644358244083,
          -0.0022610464859241916,
          0.0020862146396502584,
          0.0014520231614096333,
          0.001864887010025679,
          0.0008687820311901917,
          0.0008862075180599709,
          0.0006391709627370208,
          0.0006738076216579917,
          0.0007103192010120999,
          0.001869696517176096,
          0.002315794556431929,
          0.0031943367829407043,
          0.0023576665671126208,
          0.0018390216081493917,
          0.0030983277522972663,
          0.000458586089765125,
          0.0011839475928588584,
          0.0027925504478983044,
          0.0018990772554428584,
          0.0013083703557653292,
          0.0015927599208598626,
          0.0011598679401604334,
          0.002229546824704775,
          0.0020454284404363373,
          0.0025052319011002874,
          0.0008593679915167583,
          0.0012137539997491584,
          0.0007079991147781751,
          0.002791293799572613,
          0.0014862828155408458,
          0.000525835533143475,
          0.0016487347671801291,
          0.0034548405396549707,
          0.0020904190440988665,
          0.0022289236799140333,
          0.0012520763105670167,
          0.00193070679704195,
          0.0006517703823943041,
          0.0020484976661267833,
          0.0017301477873158293,
          0.0023762603367747416,
          0.0013358421382098293,
          0.0021103443794548873,
          0.0020214034417409166,
          0.002770768754794671,
          0.0007814440353277833,
          0.001514107689098225,
          0.0027270775157033126,
          0.0009584007406804084,
          0.002113810175399375,
          0.0013270200222384376,
          0.001633324827000175,
          0.0020655069094908957
         ]
        },
        {
         "line": {
          "color": "rgba(255, 255, 255, 0)",
          "width": 0.5
         },
         "mode": "lines",
         "name": "",
         "showlegend": false,
         "type": "scatter",
         "x": [
          2010,
          2011,
          2012,
          2013,
          2014,
          2015,
          2016,
          2017,
          2018,
          2019,
          2020,
          2021,
          2022,
          2023,
          2024,
          2025,
          2026,
          2027,
          2028,
          2029,
          2030,
          2031,
          2032,
          2033,
          2034,
          2035,
          2036,
          2037,
          2038,
          2039,
          2040,
          2041,
          2042,
          2043,
          2044,
          2045,
          2046,
          2047,
          2048,
          2049,
          2050,
          2051,
          2052,
          2053,
          2054,
          2055,
          2056,
          2057,
          2058,
          2059,
          2060,
          2061,
          2062,
          2063,
          2064,
          2065,
          2066,
          2067,
          2068,
          2069,
          2070,
          2071,
          2072,
          2073,
          2074,
          2075,
          2076,
          2077,
          2078,
          2079,
          2080,
          2081,
          2082,
          2083,
          2084,
          2085,
          2086,
          2087,
          2088,
          2089,
          2090,
          2091,
          2092,
          2093,
          2094,
          2095,
          2096,
          2097,
          2098,
          2099,
          2100
         ],
         "y": [
          0,
          0,
          0,
          0,
          0,
          0,
          0,
          0,
          0,
          0,
          0,
          0,
          0,
          0,
          0,
          0,
          0,
          0,
          0,
          0,
          0,
          0,
          0,
          0,
          0,
          0,
          0,
          0,
          0,
          0,
          0,
          0,
          0,
          0,
          0,
          0,
          0,
          0,
          0,
          0,
          0,
          0,
          0,
          0,
          0,
          0,
          0,
          0,
          0,
          0,
          0,
          0,
          0,
          0,
          0,
          0,
          0,
          0,
          0,
          0,
          0,
          0,
          0,
          0,
          0,
          0,
          0,
          0,
          0,
          0,
          0,
          0,
          0,
          0,
          0,
          0,
          0,
          0,
          0,
          0,
          0,
          0,
          0,
          0,
          0,
          0,
          0,
          0,
          0,
          0,
          0
         ]
        },
        {
         "fill": "tonexty",
         "fillcolor": "rgba(100, 100, 100, 0.2)",
         "line": {
          "color": "rgb(0, 255, 255)",
          "width": 3
         },
         "mode": "lines",
         "name": "flood",
         "type": "scatter",
         "x": [
          2010,
          2011,
          2012,
          2013,
          2014,
          2015,
          2016,
          2017,
          2018,
          2019,
          2020,
          2021,
          2022,
          2023,
          2024,
          2025,
          2026,
          2027,
          2028,
          2029,
          2030,
          2031,
          2032,
          2033,
          2034,
          2035,
          2036,
          2037,
          2038,
          2039,
          2040,
          2041,
          2042,
          2043,
          2044,
          2045,
          2046,
          2047,
          2048,
          2049,
          2050,
          2051,
          2052,
          2053,
          2054,
          2055,
          2056,
          2057,
          2058,
          2059,
          2060,
          2061,
          2062,
          2063,
          2064,
          2065,
          2066,
          2067,
          2068,
          2069,
          2070,
          2071,
          2072,
          2073,
          2074,
          2075,
          2076,
          2077,
          2078,
          2079,
          2080,
          2081,
          2082,
          2083,
          2084,
          2085,
          2086,
          2087,
          2088,
          2089,
          2090,
          2091,
          2092,
          2093,
          2094,
          2095,
          2096,
          2097,
          2098,
          2099,
          2100
         ],
         "y": [
          0,
          0,
          0,
          0,
          0,
          0,
          0,
          0,
          0,
          0,
          0,
          0,
          0,
          0,
          0,
          0,
          0,
          0,
          0,
          0,
          0,
          0,
          0,
          0,
          0,
          0,
          0,
          0,
          0,
          0,
          0,
          0,
          0,
          0,
          0,
          0,
          0,
          0,
          0,
          0,
          0,
          0,
          0,
          0,
          0,
          0,
          0,
          0,
          0,
          0,
          0,
          0,
          0,
          0,
          0,
          0,
          0,
          0,
          0,
          0,
          0,
          0,
          0,
          0,
          0,
          0,
          0,
          0,
          0,
          0,
          0,
          0,
          0,
          0,
          0,
          0,
          0,
          0,
          0,
          0,
          0,
          0,
          0,
          0,
          0,
          0,
          0,
          0,
          0,
          0,
          0
         ]
        },
        {
         "fill": "tonexty",
         "fillcolor": "rgba(100, 100, 100, 0.2)",
         "line": {
          "color": "rgba(255, 255, 255, 0)",
          "width": 0.5
         },
         "mode": "lines",
         "name": "",
         "showlegend": false,
         "type": "scatter",
         "x": [
          2010,
          2011,
          2012,
          2013,
          2014,
          2015,
          2016,
          2017,
          2018,
          2019,
          2020,
          2021,
          2022,
          2023,
          2024,
          2025,
          2026,
          2027,
          2028,
          2029,
          2030,
          2031,
          2032,
          2033,
          2034,
          2035,
          2036,
          2037,
          2038,
          2039,
          2040,
          2041,
          2042,
          2043,
          2044,
          2045,
          2046,
          2047,
          2048,
          2049,
          2050,
          2051,
          2052,
          2053,
          2054,
          2055,
          2056,
          2057,
          2058,
          2059,
          2060,
          2061,
          2062,
          2063,
          2064,
          2065,
          2066,
          2067,
          2068,
          2069,
          2070,
          2071,
          2072,
          2073,
          2074,
          2075,
          2076,
          2077,
          2078,
          2079,
          2080,
          2081,
          2082,
          2083,
          2084,
          2085,
          2086,
          2087,
          2088,
          2089,
          2090,
          2091,
          2092,
          2093,
          2094,
          2095,
          2096,
          2097,
          2098,
          2099,
          2100
         ],
         "y": [
          0,
          0,
          0,
          0,
          0,
          0,
          0,
          0,
          0,
          0,
          0,
          0,
          0,
          0,
          0,
          0,
          0,
          0,
          0,
          0,
          0,
          0,
          0,
          0,
          0,
          0,
          0,
          0,
          0,
          0,
          0,
          0,
          0,
          0,
          0,
          0,
          0,
          0,
          0,
          0,
          0,
          0,
          0,
          0,
          0,
          0,
          0,
          0,
          0,
          0,
          0,
          0,
          0,
          0,
          0,
          0,
          0,
          0,
          0,
          0,
          0,
          0,
          0,
          0,
          0,
          0,
          0,
          0,
          0,
          0,
          0,
          0,
          0,
          0,
          0,
          0,
          0,
          0,
          0,
          0,
          0,
          0,
          0,
          0,
          0,
          0,
          0,
          0,
          0,
          0,
          0
         ]
        },
        {
         "line": {
          "color": "rgba(255, 255, 255, 0)",
          "width": 0.5
         },
         "mode": "lines",
         "name": "",
         "showlegend": false,
         "type": "scatter",
         "x": [
          2010,
          2011,
          2012,
          2013,
          2014,
          2015,
          2016,
          2017,
          2018,
          2019,
          2020,
          2021,
          2022,
          2023,
          2024,
          2025,
          2026,
          2027,
          2028,
          2029,
          2030,
          2031,
          2032,
          2033,
          2034,
          2035,
          2036,
          2037,
          2038,
          2039,
          2040,
          2041,
          2042,
          2043,
          2044,
          2045,
          2046,
          2047,
          2048,
          2049,
          2050,
          2051,
          2052,
          2053,
          2054,
          2055,
          2056,
          2057,
          2058,
          2059,
          2060,
          2061,
          2062,
          2063,
          2064,
          2065,
          2066,
          2067,
          2068,
          2069,
          2070,
          2071,
          2072,
          2073,
          2074,
          2075,
          2076,
          2077,
          2078,
          2079,
          2080,
          2081,
          2082,
          2083,
          2084,
          2085,
          2086,
          2087,
          2088,
          2089,
          2090,
          2091,
          2092,
          2093,
          2094,
          2095,
          2096,
          2097,
          2098,
          2099,
          2100
         ],
         "y": [
          0.019740329237465205,
          0.01659929089191299,
          0.034870908405415686,
          0.03626920557822271,
          0.020687620077559005,
          0.029826826147248648,
          0.0318254742329431,
          0.02007555053280231,
          0.03148156633463667,
          0.03441495203628736,
          0.02751630254762835,
          0.02534027081748748,
          0.019535479730434745,
          0.025214112305893162,
          0.027082966271766665,
          0.04598914043820464,
          0.043643877397223425,
          0.029316480964392863,
          0.055369730834752294,
          0.0382420809608367,
          0.043399032947640616,
          0.05337365450415634,
          0.0645782714729238,
          0.05013158750548074,
          0.04354186526350178,
          0.038243094034754614,
          0.054204591106529074,
          0.05349868578915586,
          0.05488696168096251,
          0.06213520889937506,
          0.0672015319684702,
          0.07441625751579962,
          0.07867191309985519,
          0.06030941771750406,
          0.06440971729988053,
          0.08092447463092524,
          0.06140784037030281,
          0.0681366893405307,
          0.08708855372168456,
          0.06863471053087453,
          0.08009395326996221,
          0.0650197963544936,
          0.08582737277170394,
          0.07446806035000542,
          0.0778224527413067,
          0.0849478346092453,
          0.08888555413957087,
          0.09563391663799863,
          0.10036791413805204,
          0.09929077120733237,
          0.09273263113360589,
          0.09530635064580427,
          0.0896114661820666,
          0.10722411516391359,
          0.10120954056553362,
          0.11269865898209976,
          0.1104968358187488,
          0.10840278182792096,
          0.12247004044018472,
          0.13294400783956947,
          0.1200127735713656,
          0.1399251153940119,
          0.1319440918926366,
          0.11732729823632962,
          0.1466464682049859,
          0.14807719736387534,
          0.1527581598984343,
          0.13939752793811422,
          0.13582616472136425,
          0.15512507249073754,
          0.1389363796477299,
          0.14858597358814038,
          0.1591504214362341,
          0.15010155789325808,
          0.1581631969605069,
          0.16274538909864028,
          0.1504786186760053,
          0.19299512185390447,
          0.16880978208748956,
          0.17464717286637274,
          0.160080129507456,
          0.16983462546236136,
          0.18086365966175474,
          0.18064715101016923,
          0.1931304668939809,
          0.17517712388342338,
          0.19779819265097084,
          0.1889414316719328,
          0.18394168038887265,
          0.19256188561975324,
          0.19113282305225845
         ]
        },
        {
         "fill": "tonexty",
         "fillcolor": "rgba(100, 100, 100, 0.2)",
         "line": {
          "color": "rgb(153, 0, 0)",
          "width": 3
         },
         "mode": "lines",
         "name": "heatwaves",
         "type": "scatter",
         "x": [
          2010,
          2011,
          2012,
          2013,
          2014,
          2015,
          2016,
          2017,
          2018,
          2019,
          2020,
          2021,
          2022,
          2023,
          2024,
          2025,
          2026,
          2027,
          2028,
          2029,
          2030,
          2031,
          2032,
          2033,
          2034,
          2035,
          2036,
          2037,
          2038,
          2039,
          2040,
          2041,
          2042,
          2043,
          2044,
          2045,
          2046,
          2047,
          2048,
          2049,
          2050,
          2051,
          2052,
          2053,
          2054,
          2055,
          2056,
          2057,
          2058,
          2059,
          2060,
          2061,
          2062,
          2063,
          2064,
          2065,
          2066,
          2067,
          2068,
          2069,
          2070,
          2071,
          2072,
          2073,
          2074,
          2075,
          2076,
          2077,
          2078,
          2079,
          2080,
          2081,
          2082,
          2083,
          2084,
          2085,
          2086,
          2087,
          2088,
          2089,
          2090,
          2091,
          2092,
          2093,
          2094,
          2095,
          2096,
          2097,
          2098,
          2099,
          2100
         ],
         "y": [
          0.04302126961353169,
          0.042533562789953974,
          0.0904228573186792,
          0.08419940929954776,
          0.04792994595935073,
          0.06391809233516135,
          0.06582397581361824,
          0.05733479814809282,
          0.07742626611559206,
          0.071576854377257,
          0.06777033224580452,
          0.08195212157803336,
          0.05215659752323435,
          0.05454424229430188,
          0.08246822840863471,
          0.11774360131444142,
          0.11786760263637971,
          0.08702596428368775,
          0.1398892179221866,
          0.0956857315270965,
          0.0993510085665969,
          0.12668435014832288,
          0.1513355045386414,
          0.12884410134577604,
          0.10308824408404657,
          0.11107036573446068,
          0.1430542815371683,
          0.1438519000459525,
          0.14607965346450466,
          0.14157624470850666,
          0.19340700096380486,
          0.18264896988101323,
          0.19439373431834486,
          0.15220816453749392,
          0.16159884131468083,
          0.19847444294717506,
          0.1716585030226894,
          0.18741523504977436,
          0.224800285648475,
          0.17926285343509868,
          0.20843415666730306,
          0.19749937648186386,
          0.25619581749365794,
          0.2026924485388239,
          0.20227455677885828,
          0.24062519383707742,
          0.24962707312107857,
          0.25030395767225083,
          0.23508818184649352,
          0.2815525312708112,
          0.28823654358447814,
          0.23448852433366635,
          0.2414011318770877,
          0.28363128237727625,
          0.25547471300784386,
          0.29535226137626525,
          0.2592703444935178,
          0.25672384584594654,
          0.336270367956958,
          0.35950960726286246,
          0.320442175211207,
          0.35870127327144125,
          0.38155350838978613,
          0.3234139813025475,
          0.40835016529023493,
          0.4459544805994284,
          0.4365754102281862,
          0.4049852458492405,
          0.392610905154105,
          0.4735716304136395,
          0.38705048714917994,
          0.3943018441553987,
          0.43394763383705337,
          0.42084587199244694,
          0.4195488366485782,
          0.5206779519676629,
          0.474024941066443,
          0.5753449985954829,
          0.526219166468233,
          0.5430024200165664,
          0.44080481158742735,
          0.5128057168107032,
          0.5641489530976466,
          0.4842983002754544,
          0.5496056081344025,
          0.5322669451523726,
          0.5790917550276046,
          0.5949261457772902,
          0.5939332642399482,
          0.588574967681167,
          0.608587520227551
         ]
        },
        {
         "fill": "tonexty",
         "fillcolor": "rgba(100, 100, 100, 0.2)",
         "line": {
          "color": "rgba(255, 255, 255, 0)",
          "width": 0.5
         },
         "mode": "lines",
         "name": "",
         "showlegend": false,
         "type": "scatter",
         "x": [
          2010,
          2011,
          2012,
          2013,
          2014,
          2015,
          2016,
          2017,
          2018,
          2019,
          2020,
          2021,
          2022,
          2023,
          2024,
          2025,
          2026,
          2027,
          2028,
          2029,
          2030,
          2031,
          2032,
          2033,
          2034,
          2035,
          2036,
          2037,
          2038,
          2039,
          2040,
          2041,
          2042,
          2043,
          2044,
          2045,
          2046,
          2047,
          2048,
          2049,
          2050,
          2051,
          2052,
          2053,
          2054,
          2055,
          2056,
          2057,
          2058,
          2059,
          2060,
          2061,
          2062,
          2063,
          2064,
          2065,
          2066,
          2067,
          2068,
          2069,
          2070,
          2071,
          2072,
          2073,
          2074,
          2075,
          2076,
          2077,
          2078,
          2079,
          2080,
          2081,
          2082,
          2083,
          2084,
          2085,
          2086,
          2087,
          2088,
          2089,
          2090,
          2091,
          2092,
          2093,
          2094,
          2095,
          2096,
          2097,
          2098,
          2099,
          2100
         ],
         "y": [
          0.0017703055693006398,
          0.0046674905030639965,
          0.010340520253923909,
          0.005830499071551176,
          0.0032773529021163606,
          0.0021322200203320206,
          0.0010865136738660165,
          0.0085918485412441,
          0.007231566723159368,
          0.001373475152341137,
          0.006368863575273913,
          0.015635789971529198,
          0.006542819031182428,
          0.002058008841257777,
          0.014151147932550689,
          0.012882660219016078,
          0.015289923920966432,
          0.01419650117745101,
          0.014574878126341013,
          0.009600784802711551,
          0.006276471335657834,
          0.009968520570005105,
          0.011089480796396876,
          0.014290463167407275,
          0.008002256778521509,
          0.017292088832475724,
          0.01732254966205507,
          0.01842726423382038,
          0.01815286505128981,
          0.00865291345487828,
          0.029501968513432234,
          0.016908227424706986,
          0.018524954059317256,
          0.015794664551242902,
          0.016389703357459887,
          0.018312746842662278,
          0.024421411141041887,
          0.025570928184356464,
          0.02531158910255295,
          0.020996716186674806,
          0.02412312506368931,
          0.03372989188643834,
          0.04227053597512505,
          0.02687816391940654,
          0.02331482564812245,
          0.03536476230929339,
          0.0359279824209684,
          0.0295180621981268,
          0.017176176785194716,
          0.04148549442807323,
          0.0513856406586332,
          0.02193791152102891,
          0.031089099756477254,
          0.03459152602472454,
          0.0265278159383883,
          0.0349774717060329,
          0.019138336428010085,
          0.019959141095052303,
          0.045665143538294276,
          0.04681079579186176,
          0.04020831403423793,
          0.039425521241708734,
          0.058832662302256464,
          0.04437969241494413,
          0.057528614440131555,
          0.07490004293583886,
          0.06552954521565879,
          0.06309509498650605,
          0.06047928785568826,
          0.0816607427160822,
          0.05458886392686009,
          0.04856494848955897,
          0.057823395482292594,
          0.06032137810296539,
          0.051611221363782225,
          0.09759358688519118,
          0.08653385185721621,
          0.09467737744383697,
          0.09429980114662691,
          0.09685403714191047,
          0.060322276286257664,
          0.08656823294299026,
          0.1012108168870686,
          0.061501999127557966,
          0.08167233717322038,
          0.09095634869276294,
          0.09174768486283141,
          0.1085216412167123,
          0.11302495173110146,
          0.10172559822083027,
          0.1131609370615171
         ]
        },
        {
         "line": {
          "color": "rgba(255, 255, 255, 0)",
          "width": 0.5
         },
         "mode": "lines",
         "name": "",
         "showlegend": false,
         "type": "scatter",
         "x": [
          2010,
          2011,
          2012,
          2013,
          2014,
          2015,
          2016,
          2017,
          2018,
          2019,
          2020,
          2021,
          2022,
          2023,
          2024,
          2025,
          2026,
          2027,
          2028,
          2029,
          2030,
          2031,
          2032,
          2033,
          2034,
          2035,
          2036,
          2037,
          2038,
          2039,
          2040,
          2041,
          2042,
          2043,
          2044,
          2045,
          2046,
          2047,
          2048,
          2049,
          2050,
          2051,
          2052,
          2053,
          2054,
          2055,
          2056,
          2057,
          2058,
          2059,
          2060,
          2061,
          2062,
          2063,
          2064,
          2065,
          2066,
          2067,
          2068,
          2069,
          2070,
          2071,
          2072,
          2073,
          2074,
          2075,
          2076,
          2077,
          2078,
          2079,
          2080,
          2081,
          2082,
          2083,
          2084,
          2085,
          2086,
          2087,
          2088,
          2089,
          2090,
          2091,
          2092,
          2093,
          2094,
          2095,
          2096,
          2097,
          2098,
          2099,
          2100
         ],
         "y": [
          -0.04809026363069305,
          -0.031169174104218166,
          -0.09099344669499182,
          -0.01227606313290261,
          -0.006699579819137775,
          -0.014745948402541925,
          -0.018812233794593416,
          -0.024554023458861682,
          0.040139036559759575,
          -0.09446260649418736,
          -0.05088011675658156,
          -0.05513694244331311,
          -0.0034586204727448835,
          -0.016214740565743718,
          0.0010017159898454667,
          -0.04524679176508898,
          0.016315920811088094,
          -0.10029460259553992,
          -0.08454026108356764,
          -0.012068226888004375,
          -0.00809659798469826,
          -0.05935256750897238,
          0.02952455482006101,
          -0.007675682714604275,
          0.007279620414181717,
          -0.018085146395527826,
          0.011650478250699791,
          -0.08105566919401673,
          0.0731248545129909,
          0.022682179010753884,
          0.04637324116187885,
          0.07299495525336899,
          0.04046040419052867,
          -0.05465493138590221,
          -0.08208866228877933,
          0.09279705743879968,
          0.03423115247917981,
          0.02289308656274815,
          -0.06259230691842912,
          0.010337061994786933,
          0.02834362941817294,
          0.10419293671518458,
          0.037731536777285135,
          -0.03766871255713548,
          -0.03323708342888419,
          0.11769998794876074,
          0.060156614661249906,
          -0.04966705670133059,
          -0.03380322146434971,
          -0.021780679260257483,
          0.03905878763052695,
          -0.001132517491620625,
          0.06764349354206807,
          0.060342840607672386,
          0.06786982510429138,
          -0.049208310310487634,
          0.09591897818226369,
          0.022808174955705418,
          0.028186542840978417,
          0.005417984928835567,
          0.034606342329483154,
          0.05105527380004749,
          0.076442935865855,
          0.1181774713829216,
          0.049161517208332034,
          0.02701188903369206,
          0.014119540781443557,
          0.07816418707060453,
          0.08756086899775949,
          0.05149023743913325,
          0.062410612549410306,
          0.00039314560849717503,
          0.07189332644995794,
          0.17881617521895757,
          0.14600784817833543,
          0.10336916889325466,
          0.17908054148313768,
          0.1640457346659836,
          0.13582142962417668,
          0.04247959094380379,
          0.0660606000462566,
          0.16480035353882366,
          0.13009427408989618,
          0.12812863758739565,
          -0.041520236856781,
          0.0769503083506585,
          0.0007227828621863666,
          0.10475019648216465,
          0.08258251969289997,
          0.1561242985319171,
          0.1030960049784992
         ]
        },
        {
         "fill": "tonexty",
         "fillcolor": "rgba(100, 100, 100, 0.2)",
         "line": {
          "color": "rgb(255, 123, 0)",
          "width": 3
         },
         "mode": "lines",
         "name": "SPEI",
         "type": "scatter",
         "x": [
          2010,
          2011,
          2012,
          2013,
          2014,
          2015,
          2016,
          2017,
          2018,
          2019,
          2020,
          2021,
          2022,
          2023,
          2024,
          2025,
          2026,
          2027,
          2028,
          2029,
          2030,
          2031,
          2032,
          2033,
          2034,
          2035,
          2036,
          2037,
          2038,
          2039,
          2040,
          2041,
          2042,
          2043,
          2044,
          2045,
          2046,
          2047,
          2048,
          2049,
          2050,
          2051,
          2052,
          2053,
          2054,
          2055,
          2056,
          2057,
          2058,
          2059,
          2060,
          2061,
          2062,
          2063,
          2064,
          2065,
          2066,
          2067,
          2068,
          2069,
          2070,
          2071,
          2072,
          2073,
          2074,
          2075,
          2076,
          2077,
          2078,
          2079,
          2080,
          2081,
          2082,
          2083,
          2084,
          2085,
          2086,
          2087,
          2088,
          2089,
          2090,
          2091,
          2092,
          2093,
          2094,
          2095,
          2096,
          2097,
          2098,
          2099,
          2100
         ],
         "y": [
          0.1113242453813178,
          0.1459728037382895,
          0.010114943474892533,
          0.23795623989398731,
          0.1379561388159183,
          0.15092194497389516,
          0.3373185964381881,
          0.1608998794559244,
          0.3617328751541316,
          0.18216318635914264,
          0.15104897796962366,
          0.205861076507168,
          0.3297477011930799,
          0.20088013725685408,
          0.3199831657044098,
          0.24086479111844664,
          0.3044417112117049,
          0.11053239409895717,
          0.22376621486057094,
          0.32341411776142326,
          0.15858087060460865,
          0.15192349291210297,
          0.34551034408188336,
          0.34292602577430004,
          0.3107231415961164,
          0.27416256563802693,
          0.3817027152478863,
          0.1634995704304398,
          0.5987130226172727,
          0.4324600944803154,
          0.47570634644537546,
          0.4822169111443533,
          0.5654838191898364,
          0.2041950214725721,
          0.21449448332186286,
          0.6811436835533048,
          0.4955924733771376,
          0.4378769175170573,
          0.18438197346925425,
          0.3889122887708623,
          0.44463569498113403,
          0.6959940172617706,
          0.47765731307603043,
          0.31595301145093946,
          0.30177154881812257,
          0.6823648569630357,
          0.5690456951690862,
          0.32165740214585264,
          0.28280620102630344,
          0.3971574139187919,
          0.5431092724281309,
          0.4377592544246447,
          0.6407476336820989,
          0.5418612803080715,
          0.555836809282133,
          0.3706160349454843,
          0.6915422045459035,
          0.5019193965922134,
          0.5295994294962486,
          0.554440411615172,
          0.54051004227463,
          0.514529124049449,
          0.6666598555653533,
          0.7150943023363255,
          0.525029314902858,
          0.5065598627983662,
          0.4424140706972204,
          0.6082693538996452,
          0.6148980066812267,
          0.5341089022156055,
          0.5973569998517223,
          0.449517172156397,
          0.591869473862363,
          0.8772928667629932,
          0.8127273289462419,
          0.7150728679989773,
          0.8307644322058745,
          0.7981701601322474,
          0.8189912918879684,
          0.530454643134833,
          0.5489129344925411,
          0.8223772197891978,
          0.7584011422434319,
          0.7797350642536732,
          0.442155170626131,
          0.7375029203552314,
          0.5499338323737979,
          0.761857236245543,
          0.7050000642471531,
          0.841255161060785,
          0.7177219152900826
         ]
        },
        {
         "fill": "tonexty",
         "fillcolor": "rgba(100, 100, 100, 0.2)",
         "line": {
          "color": "rgba(255, 255, 255, 0)",
          "width": 0.5
         },
         "mode": "lines",
         "name": "",
         "showlegend": false,
         "type": "scatter",
         "x": [
          2010,
          2011,
          2012,
          2013,
          2014,
          2015,
          2016,
          2017,
          2018,
          2019,
          2020,
          2021,
          2022,
          2023,
          2024,
          2025,
          2026,
          2027,
          2028,
          2029,
          2030,
          2031,
          2032,
          2033,
          2034,
          2035,
          2036,
          2037,
          2038,
          2039,
          2040,
          2041,
          2042,
          2043,
          2044,
          2045,
          2046,
          2047,
          2048,
          2049,
          2050,
          2051,
          2052,
          2053,
          2054,
          2055,
          2056,
          2057,
          2058,
          2059,
          2060,
          2061,
          2062,
          2063,
          2064,
          2065,
          2066,
          2067,
          2068,
          2069,
          2070,
          2071,
          2072,
          2073,
          2074,
          2075,
          2076,
          2077,
          2078,
          2079,
          2080,
          2081,
          2082,
          2083,
          2084,
          2085,
          2086,
          2087,
          2088,
          2089,
          2090,
          2091,
          2092,
          2093,
          2094,
          2095,
          2096,
          2097,
          2098,
          2099,
          2100
         ],
         "y": [
          0.10375238632135193,
          0.10415557597336293,
          0.09605091843243808,
          0.13125418307989625,
          0.07567764922709692,
          0.09020692088948952,
          0.1874715320136875,
          0.10500396318682388,
          0.1407274010173062,
          0.18554419967375868,
          0.12640460574139342,
          0.1580674806968971,
          0.1683324710692848,
          0.11665480919417076,
          0.1589898668623594,
          0.16567918732431233,
          0.13590493479476431,
          0.15556079964501848,
          0.19642336851385309,
          0.173775285768716,
          0.08738703328700259,
          0.13531431396502386,
          0.14323061722088068,
          0.1791386956017543,
          0.14808195038387648,
          0.15516642921454135,
          0.17920087937324336,
          0.16280545440923666,
          0.2262316567956454,
          0.19354786822940384,
          0.19147993206080885,
          0.16811350031880767,
          0.2422815054043895,
          0.15675244212218828,
          0.18933590394971075,
          0.24777478433785274,
          0.213565084209389,
          0.19604537219578053,
          0.15478329365305624,
          0.18411908239064423,
          0.1939742180723941,
          0.24380407191570075,
          0.20109711976073008,
          0.1956452182826052,
          0.18412285783794546,
          0.2234824405327571,
          0.22436623292329325,
          0.21049575777425691,
          0.17520632197750144,
          0.22035938621965342,
          0.23249584858353847,
          0.220012144703943,
          0.25273032329898143,
          0.21058779954636334,
          0.21004857953677514,
          0.23451632778322976,
          0.24985212409068805,
          0.22815152334040126,
          0.2366131719071459,
          0.27180222087875044,
          0.23564867880783183,
          0.206209288224677,
          0.2568869919168217,
          0.23936967978524118,
          0.213353140243097,
          0.22626804236549103,
          0.20708749456716666,
          0.225970489879218,
          0.21988813434285395,
          0.2155642136686695,
          0.23626788737645085,
          0.22436544046970133,
          0.22404141048122364,
          0.259830258162539,
          0.2603558162947855,
          0.25416726510623394,
          0.23630167461979956,
          0.23503934540014013,
          0.27367421631980743,
          0.22274773062361275,
          0.2083958672000139,
          0.2463882563557752,
          0.24910629703181977,
          0.26173889453944105,
          0.2625978221698465,
          0.2918011518269572,
          0.27424413332471254,
          0.27617842164060685,
          0.2699175124306766,
          0.2645032819984754,
          0.25576495266654214
         ]
        },
        {
         "line": {
          "color": "rgba(255, 255, 255, 0)",
          "width": 0.5
         },
         "mode": "lines",
         "name": "",
         "showlegend": false,
         "type": "scatter",
         "x": [
          2010,
          2011,
          2012,
          2013,
          2014,
          2015,
          2016,
          2017,
          2018,
          2019,
          2020,
          2021,
          2022,
          2023,
          2024,
          2025,
          2026,
          2027,
          2028,
          2029,
          2030,
          2031,
          2032,
          2033,
          2034,
          2035,
          2036,
          2037,
          2038,
          2039,
          2040,
          2041,
          2042,
          2043,
          2044,
          2045,
          2046,
          2047,
          2048,
          2049,
          2050,
          2051,
          2052,
          2053,
          2054,
          2055,
          2056,
          2057,
          2058,
          2059,
          2060,
          2061,
          2062,
          2063,
          2064,
          2065,
          2066,
          2067,
          2068,
          2069,
          2070,
          2071,
          2072,
          2073,
          2074,
          2075,
          2076,
          2077,
          2078,
          2079,
          2080,
          2081,
          2082,
          2083,
          2084,
          2085,
          2086,
          2087,
          2088,
          2089,
          2090,
          2091,
          2092,
          2093,
          2094,
          2095,
          2096,
          2097,
          2098,
          2099,
          2100
         ],
         "y": [
          0,
          0,
          0,
          0,
          0,
          0,
          0,
          0,
          0,
          0,
          0,
          0,
          0,
          0,
          0,
          0,
          0,
          0,
          0,
          0,
          0,
          0,
          0,
          0,
          0,
          0,
          0,
          0,
          0,
          0,
          0,
          0,
          0,
          0,
          0,
          0,
          0,
          0,
          0,
          0,
          0,
          0,
          0,
          0,
          0,
          0,
          0,
          0,
          0,
          0,
          0,
          0,
          0,
          0,
          0,
          0,
          0,
          0,
          0,
          0,
          0,
          0,
          0,
          0,
          0,
          0,
          0,
          0,
          0,
          0,
          0,
          0,
          0,
          0,
          0,
          0,
          0,
          0,
          0,
          0,
          0,
          0,
          0,
          0,
          0,
          0,
          0,
          0,
          0,
          0,
          0
         ]
        },
        {
         "fill": "tonexty",
         "fillcolor": "rgba(100, 100, 100, 0.2)",
         "line": {
          "color": "rgb(0, 0, 255)",
          "width": 3
         },
         "mode": "lines",
         "name": "SLR",
         "type": "scatter",
         "x": [
          2010,
          2011,
          2012,
          2013,
          2014,
          2015,
          2016,
          2017,
          2018,
          2019,
          2020,
          2021,
          2022,
          2023,
          2024,
          2025,
          2026,
          2027,
          2028,
          2029,
          2030,
          2031,
          2032,
          2033,
          2034,
          2035,
          2036,
          2037,
          2038,
          2039,
          2040,
          2041,
          2042,
          2043,
          2044,
          2045,
          2046,
          2047,
          2048,
          2049,
          2050,
          2051,
          2052,
          2053,
          2054,
          2055,
          2056,
          2057,
          2058,
          2059,
          2060,
          2061,
          2062,
          2063,
          2064,
          2065,
          2066,
          2067,
          2068,
          2069,
          2070,
          2071,
          2072,
          2073,
          2074,
          2075,
          2076,
          2077,
          2078,
          2079,
          2080,
          2081,
          2082,
          2083,
          2084,
          2085,
          2086,
          2087,
          2088,
          2089,
          2090,
          2091,
          2092,
          2093,
          2094,
          2095,
          2096,
          2097,
          2098,
          2099,
          2100
         ],
         "y": [
          0,
          0,
          0,
          0,
          0,
          0,
          0,
          0,
          0,
          0,
          0,
          0,
          0,
          0,
          0,
          0,
          0,
          0,
          0,
          0,
          0,
          0,
          0,
          0,
          0,
          0,
          0,
          0,
          0,
          0,
          0,
          0,
          0,
          0,
          0,
          0,
          0,
          0,
          0,
          0,
          0,
          0,
          0,
          0,
          0,
          0,
          0,
          0,
          0,
          0,
          0,
          0,
          0,
          0,
          0,
          0,
          0,
          0,
          0,
          0,
          0,
          0,
          0,
          0,
          0,
          0,
          0,
          0,
          0,
          0,
          0,
          0,
          0,
          0,
          0,
          0,
          0,
          0,
          0,
          0,
          0,
          0,
          0,
          0,
          0,
          0,
          0,
          0,
          0,
          0,
          0
         ]
        },
        {
         "fill": "tonexty",
         "fillcolor": "rgba(100, 100, 100, 0.2)",
         "line": {
          "color": "rgba(255, 255, 255, 0)",
          "width": 0.5
         },
         "mode": "lines",
         "name": "",
         "showlegend": false,
         "type": "scatter",
         "x": [
          2010,
          2011,
          2012,
          2013,
          2014,
          2015,
          2016,
          2017,
          2018,
          2019,
          2020,
          2021,
          2022,
          2023,
          2024,
          2025,
          2026,
          2027,
          2028,
          2029,
          2030,
          2031,
          2032,
          2033,
          2034,
          2035,
          2036,
          2037,
          2038,
          2039,
          2040,
          2041,
          2042,
          2043,
          2044,
          2045,
          2046,
          2047,
          2048,
          2049,
          2050,
          2051,
          2052,
          2053,
          2054,
          2055,
          2056,
          2057,
          2058,
          2059,
          2060,
          2061,
          2062,
          2063,
          2064,
          2065,
          2066,
          2067,
          2068,
          2069,
          2070,
          2071,
          2072,
          2073,
          2074,
          2075,
          2076,
          2077,
          2078,
          2079,
          2080,
          2081,
          2082,
          2083,
          2084,
          2085,
          2086,
          2087,
          2088,
          2089,
          2090,
          2091,
          2092,
          2093,
          2094,
          2095,
          2096,
          2097,
          2098,
          2099,
          2100
         ],
         "y": [
          0,
          0,
          0,
          0,
          0,
          0,
          0,
          0,
          0,
          0,
          0,
          0,
          0,
          0,
          0,
          0,
          0,
          0,
          0,
          0,
          0,
          0,
          0,
          0,
          0,
          0,
          0,
          0,
          0,
          0,
          0,
          0,
          0,
          0,
          0,
          0,
          0,
          0,
          0,
          0,
          0,
          0,
          0,
          0,
          0,
          0,
          0,
          0,
          0,
          0,
          0,
          0,
          0,
          0,
          0,
          0,
          0,
          0,
          0,
          0,
          0,
          0,
          0,
          0,
          0,
          0,
          0,
          0,
          0,
          0,
          0,
          0,
          0,
          0,
          0,
          0,
          0,
          0,
          0,
          0,
          0,
          0,
          0,
          0,
          0,
          0,
          0,
          0,
          0,
          0,
          0
         ]
        }
       ],
       "layout": {
        "legend": {
         "x": 0,
         "y": 1
        },
        "paper_bgcolor": "#FFFFFF",
        "plot_bgcolor": "#FFFFFF",
        "showlegend": true,
        "template": {
         "data": {
          "bar": [
           {
            "error_x": {
             "color": "#2a3f5f"
            },
            "error_y": {
             "color": "#2a3f5f"
            },
            "marker": {
             "line": {
              "color": "#E5ECF6",
              "width": 0.5
             },
             "pattern": {
              "fillmode": "overlay",
              "size": 10,
              "solidity": 0.2
             }
            },
            "type": "bar"
           }
          ],
          "barpolar": [
           {
            "marker": {
             "line": {
              "color": "#E5ECF6",
              "width": 0.5
             },
             "pattern": {
              "fillmode": "overlay",
              "size": 10,
              "solidity": 0.2
             }
            },
            "type": "barpolar"
           }
          ],
          "carpet": [
           {
            "aaxis": {
             "endlinecolor": "#2a3f5f",
             "gridcolor": "white",
             "linecolor": "white",
             "minorgridcolor": "white",
             "startlinecolor": "#2a3f5f"
            },
            "baxis": {
             "endlinecolor": "#2a3f5f",
             "gridcolor": "white",
             "linecolor": "white",
             "minorgridcolor": "white",
             "startlinecolor": "#2a3f5f"
            },
            "type": "carpet"
           }
          ],
          "choropleth": [
           {
            "colorbar": {
             "outlinewidth": 0,
             "ticks": ""
            },
            "type": "choropleth"
           }
          ],
          "contour": [
           {
            "colorbar": {
             "outlinewidth": 0,
             "ticks": ""
            },
            "colorscale": [
             [
              0,
              "#0d0887"
             ],
             [
              0.1111111111111111,
              "#46039f"
             ],
             [
              0.2222222222222222,
              "#7201a8"
             ],
             [
              0.3333333333333333,
              "#9c179e"
             ],
             [
              0.4444444444444444,
              "#bd3786"
             ],
             [
              0.5555555555555556,
              "#d8576b"
             ],
             [
              0.6666666666666666,
              "#ed7953"
             ],
             [
              0.7777777777777778,
              "#fb9f3a"
             ],
             [
              0.8888888888888888,
              "#fdca26"
             ],
             [
              1,
              "#f0f921"
             ]
            ],
            "type": "contour"
           }
          ],
          "contourcarpet": [
           {
            "colorbar": {
             "outlinewidth": 0,
             "ticks": ""
            },
            "type": "contourcarpet"
           }
          ],
          "heatmap": [
           {
            "colorbar": {
             "outlinewidth": 0,
             "ticks": ""
            },
            "colorscale": [
             [
              0,
              "#0d0887"
             ],
             [
              0.1111111111111111,
              "#46039f"
             ],
             [
              0.2222222222222222,
              "#7201a8"
             ],
             [
              0.3333333333333333,
              "#9c179e"
             ],
             [
              0.4444444444444444,
              "#bd3786"
             ],
             [
              0.5555555555555556,
              "#d8576b"
             ],
             [
              0.6666666666666666,
              "#ed7953"
             ],
             [
              0.7777777777777778,
              "#fb9f3a"
             ],
             [
              0.8888888888888888,
              "#fdca26"
             ],
             [
              1,
              "#f0f921"
             ]
            ],
            "type": "heatmap"
           }
          ],
          "heatmapgl": [
           {
            "colorbar": {
             "outlinewidth": 0,
             "ticks": ""
            },
            "colorscale": [
             [
              0,
              "#0d0887"
             ],
             [
              0.1111111111111111,
              "#46039f"
             ],
             [
              0.2222222222222222,
              "#7201a8"
             ],
             [
              0.3333333333333333,
              "#9c179e"
             ],
             [
              0.4444444444444444,
              "#bd3786"
             ],
             [
              0.5555555555555556,
              "#d8576b"
             ],
             [
              0.6666666666666666,
              "#ed7953"
             ],
             [
              0.7777777777777778,
              "#fb9f3a"
             ],
             [
              0.8888888888888888,
              "#fdca26"
             ],
             [
              1,
              "#f0f921"
             ]
            ],
            "type": "heatmapgl"
           }
          ],
          "histogram": [
           {
            "marker": {
             "pattern": {
              "fillmode": "overlay",
              "size": 10,
              "solidity": 0.2
             }
            },
            "type": "histogram"
           }
          ],
          "histogram2d": [
           {
            "colorbar": {
             "outlinewidth": 0,
             "ticks": ""
            },
            "colorscale": [
             [
              0,
              "#0d0887"
             ],
             [
              0.1111111111111111,
              "#46039f"
             ],
             [
              0.2222222222222222,
              "#7201a8"
             ],
             [
              0.3333333333333333,
              "#9c179e"
             ],
             [
              0.4444444444444444,
              "#bd3786"
             ],
             [
              0.5555555555555556,
              "#d8576b"
             ],
             [
              0.6666666666666666,
              "#ed7953"
             ],
             [
              0.7777777777777778,
              "#fb9f3a"
             ],
             [
              0.8888888888888888,
              "#fdca26"
             ],
             [
              1,
              "#f0f921"
             ]
            ],
            "type": "histogram2d"
           }
          ],
          "histogram2dcontour": [
           {
            "colorbar": {
             "outlinewidth": 0,
             "ticks": ""
            },
            "colorscale": [
             [
              0,
              "#0d0887"
             ],
             [
              0.1111111111111111,
              "#46039f"
             ],
             [
              0.2222222222222222,
              "#7201a8"
             ],
             [
              0.3333333333333333,
              "#9c179e"
             ],
             [
              0.4444444444444444,
              "#bd3786"
             ],
             [
              0.5555555555555556,
              "#d8576b"
             ],
             [
              0.6666666666666666,
              "#ed7953"
             ],
             [
              0.7777777777777778,
              "#fb9f3a"
             ],
             [
              0.8888888888888888,
              "#fdca26"
             ],
             [
              1,
              "#f0f921"
             ]
            ],
            "type": "histogram2dcontour"
           }
          ],
          "mesh3d": [
           {
            "colorbar": {
             "outlinewidth": 0,
             "ticks": ""
            },
            "type": "mesh3d"
           }
          ],
          "parcoords": [
           {
            "line": {
             "colorbar": {
              "outlinewidth": 0,
              "ticks": ""
             }
            },
            "type": "parcoords"
           }
          ],
          "pie": [
           {
            "automargin": true,
            "type": "pie"
           }
          ],
          "scatter": [
           {
            "marker": {
             "colorbar": {
              "outlinewidth": 0,
              "ticks": ""
             }
            },
            "type": "scatter"
           }
          ],
          "scatter3d": [
           {
            "line": {
             "colorbar": {
              "outlinewidth": 0,
              "ticks": ""
             }
            },
            "marker": {
             "colorbar": {
              "outlinewidth": 0,
              "ticks": ""
             }
            },
            "type": "scatter3d"
           }
          ],
          "scattercarpet": [
           {
            "marker": {
             "colorbar": {
              "outlinewidth": 0,
              "ticks": ""
             }
            },
            "type": "scattercarpet"
           }
          ],
          "scattergeo": [
           {
            "marker": {
             "colorbar": {
              "outlinewidth": 0,
              "ticks": ""
             }
            },
            "type": "scattergeo"
           }
          ],
          "scattergl": [
           {
            "marker": {
             "colorbar": {
              "outlinewidth": 0,
              "ticks": ""
             }
            },
            "type": "scattergl"
           }
          ],
          "scattermapbox": [
           {
            "marker": {
             "colorbar": {
              "outlinewidth": 0,
              "ticks": ""
             }
            },
            "type": "scattermapbox"
           }
          ],
          "scatterpolar": [
           {
            "marker": {
             "colorbar": {
              "outlinewidth": 0,
              "ticks": ""
             }
            },
            "type": "scatterpolar"
           }
          ],
          "scatterpolargl": [
           {
            "marker": {
             "colorbar": {
              "outlinewidth": 0,
              "ticks": ""
             }
            },
            "type": "scatterpolargl"
           }
          ],
          "scatterternary": [
           {
            "marker": {
             "colorbar": {
              "outlinewidth": 0,
              "ticks": ""
             }
            },
            "type": "scatterternary"
           }
          ],
          "surface": [
           {
            "colorbar": {
             "outlinewidth": 0,
             "ticks": ""
            },
            "colorscale": [
             [
              0,
              "#0d0887"
             ],
             [
              0.1111111111111111,
              "#46039f"
             ],
             [
              0.2222222222222222,
              "#7201a8"
             ],
             [
              0.3333333333333333,
              "#9c179e"
             ],
             [
              0.4444444444444444,
              "#bd3786"
             ],
             [
              0.5555555555555556,
              "#d8576b"
             ],
             [
              0.6666666666666666,
              "#ed7953"
             ],
             [
              0.7777777777777778,
              "#fb9f3a"
             ],
             [
              0.8888888888888888,
              "#fdca26"
             ],
             [
              1,
              "#f0f921"
             ]
            ],
            "type": "surface"
           }
          ],
          "table": [
           {
            "cells": {
             "fill": {
              "color": "#EBF0F8"
             },
             "line": {
              "color": "white"
             }
            },
            "header": {
             "fill": {
              "color": "#C8D4E3"
             },
             "line": {
              "color": "white"
             }
            },
            "type": "table"
           }
          ]
         },
         "layout": {
          "annotationdefaults": {
           "arrowcolor": "#2a3f5f",
           "arrowhead": 0,
           "arrowwidth": 1
          },
          "autotypenumbers": "strict",
          "coloraxis": {
           "colorbar": {
            "outlinewidth": 0,
            "ticks": ""
           }
          },
          "colorscale": {
           "diverging": [
            [
             0,
             "#8e0152"
            ],
            [
             0.1,
             "#c51b7d"
            ],
            [
             0.2,
             "#de77ae"
            ],
            [
             0.3,
             "#f1b6da"
            ],
            [
             0.4,
             "#fde0ef"
            ],
            [
             0.5,
             "#f7f7f7"
            ],
            [
             0.6,
             "#e6f5d0"
            ],
            [
             0.7,
             "#b8e186"
            ],
            [
             0.8,
             "#7fbc41"
            ],
            [
             0.9,
             "#4d9221"
            ],
            [
             1,
             "#276419"
            ]
           ],
           "sequential": [
            [
             0,
             "#0d0887"
            ],
            [
             0.1111111111111111,
             "#46039f"
            ],
            [
             0.2222222222222222,
             "#7201a8"
            ],
            [
             0.3333333333333333,
             "#9c179e"
            ],
            [
             0.4444444444444444,
             "#bd3786"
            ],
            [
             0.5555555555555556,
             "#d8576b"
            ],
            [
             0.6666666666666666,
             "#ed7953"
            ],
            [
             0.7777777777777778,
             "#fb9f3a"
            ],
            [
             0.8888888888888888,
             "#fdca26"
            ],
            [
             1,
             "#f0f921"
            ]
           ],
           "sequentialminus": [
            [
             0,
             "#0d0887"
            ],
            [
             0.1111111111111111,
             "#46039f"
            ],
            [
             0.2222222222222222,
             "#7201a8"
            ],
            [
             0.3333333333333333,
             "#9c179e"
            ],
            [
             0.4444444444444444,
             "#bd3786"
            ],
            [
             0.5555555555555556,
             "#d8576b"
            ],
            [
             0.6666666666666666,
             "#ed7953"
            ],
            [
             0.7777777777777778,
             "#fb9f3a"
            ],
            [
             0.8888888888888888,
             "#fdca26"
            ],
            [
             1,
             "#f0f921"
            ]
           ]
          },
          "colorway": [
           "#636efa",
           "#EF553B",
           "#00cc96",
           "#ab63fa",
           "#FFA15A",
           "#19d3f3",
           "#FF6692",
           "#B6E880",
           "#FF97FF",
           "#FECB52"
          ],
          "font": {
           "color": "#2a3f5f"
          },
          "geo": {
           "bgcolor": "white",
           "lakecolor": "white",
           "landcolor": "#E5ECF6",
           "showlakes": true,
           "showland": true,
           "subunitcolor": "white"
          },
          "hoverlabel": {
           "align": "left"
          },
          "hovermode": "closest",
          "mapbox": {
           "style": "light"
          },
          "paper_bgcolor": "white",
          "plot_bgcolor": "#E5ECF6",
          "polar": {
           "angularaxis": {
            "gridcolor": "white",
            "linecolor": "white",
            "ticks": ""
           },
           "bgcolor": "#E5ECF6",
           "radialaxis": {
            "gridcolor": "white",
            "linecolor": "white",
            "ticks": ""
           }
          },
          "scene": {
           "xaxis": {
            "backgroundcolor": "#E5ECF6",
            "gridcolor": "white",
            "gridwidth": 2,
            "linecolor": "white",
            "showbackground": true,
            "ticks": "",
            "zerolinecolor": "white"
           },
           "yaxis": {
            "backgroundcolor": "#E5ECF6",
            "gridcolor": "white",
            "gridwidth": 2,
            "linecolor": "white",
            "showbackground": true,
            "ticks": "",
            "zerolinecolor": "white"
           },
           "zaxis": {
            "backgroundcolor": "#E5ECF6",
            "gridcolor": "white",
            "gridwidth": 2,
            "linecolor": "white",
            "showbackground": true,
            "ticks": "",
            "zerolinecolor": "white"
           }
          },
          "shapedefaults": {
           "line": {
            "color": "#2a3f5f"
           }
          },
          "ternary": {
           "aaxis": {
            "gridcolor": "white",
            "linecolor": "white",
            "ticks": ""
           },
           "baxis": {
            "gridcolor": "white",
            "linecolor": "white",
            "ticks": ""
           },
           "bgcolor": "#E5ECF6",
           "caxis": {
            "gridcolor": "white",
            "linecolor": "white",
            "ticks": ""
           }
          },
          "title": {
           "x": 0.05
          },
          "xaxis": {
           "automargin": true,
           "gridcolor": "white",
           "linecolor": "white",
           "ticks": "",
           "title": {
            "standoff": 15
           },
           "zerolinecolor": "white",
           "zerolinewidth": 2
          },
          "yaxis": {
           "automargin": true,
           "gridcolor": "white",
           "linecolor": "white",
           "ticks": "",
           "title": {
            "standoff": 15
           },
           "zerolinecolor": "white",
           "zerolinewidth": 2
          }
         }
        },
        "title": {
         "text": "Normalized Multi-Hazard Predictive Risk Exposure : 33837"
        },
        "transition": {
         "duration": 50
        },
        "xaxis": {
         "linecolor": "rgb(82, 82, 82)",
         "linewidth": 2,
         "rangeselector": {
          "buttons": [
           {
            "count": 1,
            "label": "1y",
            "step": "year",
            "stepmode": "backward"
           },
           {
            "count": 3,
            "label": "3y",
            "step": "year",
            "stepmode": "backward"
           },
           {
            "count": 6,
            "label": "10y",
            "step": "year",
            "stepmode": "backward"
           },
           {
            "step": "all"
           }
          ]
         },
         "rangeslider": {
          "visible": true
         },
         "showgrid": false,
         "showline": true,
         "showticklabels": true,
         "tickfont": {
          "color": "rgb(82, 82, 82)",
          "family": "Arial",
          "size": 12
         },
         "ticks": "outside",
         "title": {
          "text": "Year of Assessment"
         },
         "type": "date"
        },
        "yaxis": {
         "linecolor": "rgb(82, 82, 82)",
         "linewidth": 2,
         "range": [
          0,
          1.1
         ],
         "showgrid": false,
         "showline": true,
         "showticklabels": true,
         "tickfont": {
          "color": "rgb(82, 82, 82)",
          "family": "Arial",
          "size": 12
         },
         "ticks": "outside",
         "title": {
          "text": "Risk Exposure"
         }
        }
       }
      },
      "text/html": [
       "<div>                            <div id=\"7aa12bd5-4e33-472d-9f72-983f98db1723\" class=\"plotly-graph-div\" style=\"height:525px; width:100%;\"></div>            <script type=\"text/javascript\">                require([\"plotly\"], function(Plotly) {                    window.PLOTLYENV=window.PLOTLYENV || {};                                    if (document.getElementById(\"7aa12bd5-4e33-472d-9f72-983f98db1723\")) {                    Plotly.newPlot(                        \"7aa12bd5-4e33-472d-9f72-983f98db1723\",                        [{\"line\":{\"color\":\"rgba(255, 255, 255, 0)\",\"width\":0.5},\"mode\":\"lines\",\"name\":\"\",\"showlegend\":false,\"type\":\"scatter\",\"x\":[2010,2011,2012,2013,2014,2015,2016,2017,2018,2019,2020,2021,2022,2023,2024,2025,2026,2027,2028,2029,2030,2031,2032,2033,2034,2035,2036,2037,2038,2039,2040,2041,2042,2043,2044,2045,2046,2047,2048,2049,2050,2051,2052,2053,2054,2055,2056,2057,2058,2059,2060,2061,2062,2063,2064,2065,2066,2067,2068,2069,2070,2071,2072,2073,2074,2075,2076,2077,2078,2079,2080,2081,2082,2083,2084,2085,2086,2087,2088,2089,2090,2091,2092,2093,2094,2095,2096,2097,2098,2099,2100],\"y\":[0.02143236401430942,0.009735271285159766,0.012301274426850547,0.014167732267436617,0.02002900626652915,0.01734855946259631,0.008933910960396104,0.007844699898901438,0.021463914041216014,0.02927216805169373,0.01678448092763337,0.009032714762469847,0.015393532919959138,0.023921201521903784,0.013823321563676232,0.006900096949412828,0.010279871621777287,0.011225533839931454,0.00895032616345271,0.011211644686178876,0.019897127146991225,0.015622106942748145,0.013438174053254462,0.012577771998145875,0.01611716205864468,0.01859966734909913,0.02500180168947416,0.008637951385947192,0.02179978707185327,0.01708010396723646,0.008431372100485493,0.01998445869794341,0.01364453537221712,0.01493650562732358,0.013608512950752492,0.01125529280528975,0.012438895070151388,0.008919468207892542,0.017818080526709964,0.0067163112861905955,0.010536022700150513,0.010655025664845696,0.0057274612757265584,0.0031372686850725793,0.007576081533289703,0.009707717799822279,0.004424018060423171,0.006504166513060142,0.010580639227048425,0.009506443735993055,0.00575855486139725,0.0051549809915796664,0.008659769700511416,0.005691773178985304,0.011891256515683525,0.008286514470264942,0.00600817019356185,0.010667525898117041,0.005884125424112659,0.010224159503375458,0.0051503755887948996,0.004135486134786958,0.005410722698239621,0.007742396586437317,0.004030985692358925,0.008513108201382005,0.006400200302328779,0.005758030248869713,0.00579826992662013,0.004447864740543804,0.006773670923072863,0.007678307796413445,0.008160985810607634,0.007672009285605109,0.0043114193133516705,0.003947593387362004,0.0045010435858644,0.004531890454438921,0.00640346143748205,0.0036828792714866496,0.0054778840428022745,0.005904515265148933,0.0052084935727285744,0.005586610586580971,0.003785783796632225,0.0054759969694334045,0.0038063179881287997,0.004683173097161592,0.004033078211534904,0.005555194382787066,0.006160113114536846]},{\"fill\":\"tonexty\",\"fillcolor\":\"rgba(100, 100, 100, 0.2)\",\"line\":{\"color\":\"rgb(255, 0, 0)\",\"width\":3.0},\"mode\":\"lines\",\"name\":\"fire\",\"type\":\"scatter\",\"x\":[2010,2011,2012,2013,2014,2015,2016,2017,2018,2019,2020,2021,2022,2023,2024,2025,2026,2027,2028,2029,2030,2031,2032,2033,2034,2035,2036,2037,2038,2039,2040,2041,2042,2043,2044,2045,2046,2047,2048,2049,2050,2051,2052,2053,2054,2055,2056,2057,2058,2059,2060,2061,2062,2063,2064,2065,2066,2067,2068,2069,2070,2071,2072,2073,2074,2075,2076,2077,2078,2079,2080,2081,2082,2083,2084,2085,2086,2087,2088,2089,2090,2091,2092,2093,2094,2095,2096,2097,2098,2099,2100],\"y\":[0.05051414500205703,0.020909924750246483,0.025679324796376416,0.028211887130896184,0.043147681350199814,0.03970467681387535,0.015585484208888034,0.018251604416477735,0.04995488175731663,0.05170465279572095,0.038112730877251304,0.023007938106288015,0.027012546137711767,0.0483224201016672,0.03627212986790967,0.019481157630687966,0.031012845714368367,0.02593880452551195,0.020306091531452432,0.028030048166906563,0.043638448090177966,0.03222323719044192,0.026597581694725616,0.0270645227360409,0.03483572590435607,0.039615605569423486,0.04023344102883582,0.01777026768992763,0.05286861919066558,0.03725425562400025,0.0219903327121159,0.03358697386004367,0.025788797160636232,0.03814600910510692,0.030913543921714016,0.022851328489639767,0.02715480613701943,0.0190010652874339,0.031114068081571532,0.0176050518516817,0.0239760917231203,0.02503982534974275,0.0131924866138335,0.0080469524062651,0.01643050499205345,0.020763050842960533,0.010268674522870534,0.01674772606047247,0.025792867566960715,0.025401561037867518,0.01623244285701975,0.013988005199458116,0.023516194905617367,0.01230071853750085,0.026150408217084767,0.022158129836326503,0.01581449489800942,0.02395179250776475,0.014953770689945035,0.022768054887071783,0.01475984482699935,0.0123618291504466,0.015831909198679817,0.01720352915590815,0.010489479384216167,0.01844221463232035,0.018382988203802783,0.014488626128821116,0.012648210919527217,0.012193199015447867,0.020457022925455665,0.019537453681024632,0.020779818981043332,0.01784817119234425,0.012484252220787232,0.009198727539512617,0.013099082503982368,0.0125240764835095,0.017559443548513583,0.01003744281939295,0.015176456844514317,0.015851837413779702,0.0159585246550465,0.012736109243817517,0.0105997829714609,0.016406148970273433,0.009529437457618417,0.013593966545121933,0.010720196467546683,0.014377038419574483,0.016451240048055486]},{\"fill\":\"tonexty\",\"fillcolor\":\"rgba(100, 100, 100, 0.2)\",\"line\":{\"color\":\"rgba(255, 255, 255, 0)\",\"width\":0.5},\"mode\":\"lines\",\"name\":\"\",\"showlegend\":false,\"type\":\"scatter\",\"x\":[2010,2011,2012,2013,2014,2015,2016,2017,2018,2019,2020,2021,2022,2023,2024,2025,2026,2027,2028,2029,2030,2031,2032,2033,2034,2035,2036,2037,2038,2039,2040,2041,2042,2043,2044,2045,2046,2047,2048,2049,2050,2051,2052,2053,2054,2055,2056,2057,2058,2059,2060,2061,2062,2063,2064,2065,2066,2067,2068,2069,2070,2071,2072,2073,2074,2075,2076,2077,2078,2079,2080,2081,2082,2083,2084,2085,2086,2087,2088,2089,2090,2091,2092,2093,2094,2095,2096,2097,2098,2099,2100],\"y\":[0.0038247084867190956,0.0007196910899634751,0.0005383879713376625,-6.178870198852083e-05,0.0015448344085707583,0.0025037789443413667,-0.0011411688559520834,0.0012811023093374334,0.003513526837442304,-0.0034198416538332543,0.0022718845109922794,0.0024712542906741666,-0.00188725985110325,0.0002400085289298167,0.0043127433702786,0.002840481865931154,0.005226551235406896,0.001743868422824529,0.0012027196022735083,0.002803379397274408,0.0019220968980977584,0.0004895116524728166,-0.00013938320589165415,0.0009544893698745751,0.0013007008935333542,0.0012081354356126125,-0.004885081175056246,0.000247182459016625,0.004634522523479516,0.0015470238447636625,0.0025637942555724585,-0.0031909717679215748,-0.0007501367918990042,0.004136498925229884,0.0018482590101045167,0.00017037143953013332,0.0011385079983583291,0.0005810644358244083,-0.0022610464859241916,0.0020862146396502584,0.0014520231614096333,0.001864887010025679,0.0008687820311901917,0.0008862075180599709,0.0006391709627370208,0.0006738076216579917,0.0007103192010120999,0.001869696517176096,0.002315794556431929,0.0031943367829407043,0.0023576665671126208,0.0018390216081493917,0.0030983277522972663,0.000458586089765125,0.0011839475928588584,0.0027925504478983044,0.0018990772554428584,0.0013083703557653292,0.0015927599208598626,0.0011598679401604334,0.002229546824704775,0.0020454284404363373,0.0025052319011002874,0.0008593679915167583,0.0012137539997491584,0.0007079991147781751,0.002791293799572613,0.0014862828155408458,0.000525835533143475,0.0016487347671801291,0.0034548405396549707,0.0020904190440988665,0.0022289236799140333,0.0012520763105670167,0.00193070679704195,0.0006517703823943041,0.0020484976661267833,0.0017301477873158293,0.0023762603367747416,0.0013358421382098293,0.0021103443794548873,0.0020214034417409166,0.002770768754794671,0.0007814440353277833,0.001514107689098225,0.0027270775157033126,0.0009584007406804084,0.002113810175399375,0.0013270200222384376,0.001633324827000175,0.0020655069094908957]},{\"line\":{\"color\":\"rgba(255, 255, 255, 0)\",\"width\":0.5},\"mode\":\"lines\",\"name\":\"\",\"showlegend\":false,\"type\":\"scatter\",\"x\":[2010,2011,2012,2013,2014,2015,2016,2017,2018,2019,2020,2021,2022,2023,2024,2025,2026,2027,2028,2029,2030,2031,2032,2033,2034,2035,2036,2037,2038,2039,2040,2041,2042,2043,2044,2045,2046,2047,2048,2049,2050,2051,2052,2053,2054,2055,2056,2057,2058,2059,2060,2061,2062,2063,2064,2065,2066,2067,2068,2069,2070,2071,2072,2073,2074,2075,2076,2077,2078,2079,2080,2081,2082,2083,2084,2085,2086,2087,2088,2089,2090,2091,2092,2093,2094,2095,2096,2097,2098,2099,2100],\"y\":[0.0,0.0,0.0,0.0,0.0,0.0,0.0,0.0,0.0,0.0,0.0,0.0,0.0,0.0,0.0,0.0,0.0,0.0,0.0,0.0,0.0,0.0,0.0,0.0,0.0,0.0,0.0,0.0,0.0,0.0,0.0,0.0,0.0,0.0,0.0,0.0,0.0,0.0,0.0,0.0,0.0,0.0,0.0,0.0,0.0,0.0,0.0,0.0,0.0,0.0,0.0,0.0,0.0,0.0,0.0,0.0,0.0,0.0,0.0,0.0,0.0,0.0,0.0,0.0,0.0,0.0,0.0,0.0,0.0,0.0,0.0,0.0,0.0,0.0,0.0,0.0,0.0,0.0,0.0,0.0,0.0,0.0,0.0,0.0,0.0,0.0,0.0,0.0,0.0,0.0,0.0]},{\"fill\":\"tonexty\",\"fillcolor\":\"rgba(100, 100, 100, 0.2)\",\"line\":{\"color\":\"rgb(0, 255, 255)\",\"width\":3.0},\"mode\":\"lines\",\"name\":\"flood\",\"type\":\"scatter\",\"x\":[2010,2011,2012,2013,2014,2015,2016,2017,2018,2019,2020,2021,2022,2023,2024,2025,2026,2027,2028,2029,2030,2031,2032,2033,2034,2035,2036,2037,2038,2039,2040,2041,2042,2043,2044,2045,2046,2047,2048,2049,2050,2051,2052,2053,2054,2055,2056,2057,2058,2059,2060,2061,2062,2063,2064,2065,2066,2067,2068,2069,2070,2071,2072,2073,2074,2075,2076,2077,2078,2079,2080,2081,2082,2083,2084,2085,2086,2087,2088,2089,2090,2091,2092,2093,2094,2095,2096,2097,2098,2099,2100],\"y\":[0.0,0.0,0.0,0.0,0.0,0.0,0.0,0.0,0.0,0.0,0.0,0.0,0.0,0.0,0.0,0.0,0.0,0.0,0.0,0.0,0.0,0.0,0.0,0.0,0.0,0.0,0.0,0.0,0.0,0.0,0.0,0.0,0.0,0.0,0.0,0.0,0.0,0.0,0.0,0.0,0.0,0.0,0.0,0.0,0.0,0.0,0.0,0.0,0.0,0.0,0.0,0.0,0.0,0.0,0.0,0.0,0.0,0.0,0.0,0.0,0.0,0.0,0.0,0.0,0.0,0.0,0.0,0.0,0.0,0.0,0.0,0.0,0.0,0.0,0.0,0.0,0.0,0.0,0.0,0.0,0.0,0.0,0.0,0.0,0.0,0.0,0.0,0.0,0.0,0.0,0.0]},{\"fill\":\"tonexty\",\"fillcolor\":\"rgba(100, 100, 100, 0.2)\",\"line\":{\"color\":\"rgba(255, 255, 255, 0)\",\"width\":0.5},\"mode\":\"lines\",\"name\":\"\",\"showlegend\":false,\"type\":\"scatter\",\"x\":[2010,2011,2012,2013,2014,2015,2016,2017,2018,2019,2020,2021,2022,2023,2024,2025,2026,2027,2028,2029,2030,2031,2032,2033,2034,2035,2036,2037,2038,2039,2040,2041,2042,2043,2044,2045,2046,2047,2048,2049,2050,2051,2052,2053,2054,2055,2056,2057,2058,2059,2060,2061,2062,2063,2064,2065,2066,2067,2068,2069,2070,2071,2072,2073,2074,2075,2076,2077,2078,2079,2080,2081,2082,2083,2084,2085,2086,2087,2088,2089,2090,2091,2092,2093,2094,2095,2096,2097,2098,2099,2100],\"y\":[0.0,0.0,0.0,0.0,0.0,0.0,0.0,0.0,0.0,0.0,0.0,0.0,0.0,0.0,0.0,0.0,0.0,0.0,0.0,0.0,0.0,0.0,0.0,0.0,0.0,0.0,0.0,0.0,0.0,0.0,0.0,0.0,0.0,0.0,0.0,0.0,0.0,0.0,0.0,0.0,0.0,0.0,0.0,0.0,0.0,0.0,0.0,0.0,0.0,0.0,0.0,0.0,0.0,0.0,0.0,0.0,0.0,0.0,0.0,0.0,0.0,0.0,0.0,0.0,0.0,0.0,0.0,0.0,0.0,0.0,0.0,0.0,0.0,0.0,0.0,0.0,0.0,0.0,0.0,0.0,0.0,0.0,0.0,0.0,0.0,0.0,0.0,0.0,0.0,0.0,0.0]},{\"line\":{\"color\":\"rgba(255, 255, 255, 0)\",\"width\":0.5},\"mode\":\"lines\",\"name\":\"\",\"showlegend\":false,\"type\":\"scatter\",\"x\":[2010,2011,2012,2013,2014,2015,2016,2017,2018,2019,2020,2021,2022,2023,2024,2025,2026,2027,2028,2029,2030,2031,2032,2033,2034,2035,2036,2037,2038,2039,2040,2041,2042,2043,2044,2045,2046,2047,2048,2049,2050,2051,2052,2053,2054,2055,2056,2057,2058,2059,2060,2061,2062,2063,2064,2065,2066,2067,2068,2069,2070,2071,2072,2073,2074,2075,2076,2077,2078,2079,2080,2081,2082,2083,2084,2085,2086,2087,2088,2089,2090,2091,2092,2093,2094,2095,2096,2097,2098,2099,2100],\"y\":[0.019740329237465205,0.01659929089191299,0.034870908405415686,0.03626920557822271,0.020687620077559005,0.029826826147248648,0.0318254742329431,0.02007555053280231,0.03148156633463667,0.03441495203628736,0.02751630254762835,0.02534027081748748,0.019535479730434745,0.025214112305893162,0.027082966271766665,0.04598914043820464,0.043643877397223425,0.029316480964392863,0.055369730834752294,0.0382420809608367,0.043399032947640616,0.05337365450415634,0.0645782714729238,0.05013158750548074,0.04354186526350178,0.038243094034754614,0.054204591106529074,0.05349868578915586,0.05488696168096251,0.06213520889937506,0.0672015319684702,0.07441625751579962,0.07867191309985519,0.06030941771750406,0.06440971729988053,0.08092447463092524,0.06140784037030281,0.0681366893405307,0.08708855372168456,0.06863471053087453,0.08009395326996221,0.0650197963544936,0.08582737277170394,0.07446806035000542,0.0778224527413067,0.0849478346092453,0.08888555413957087,0.09563391663799863,0.10036791413805204,0.09929077120733237,0.09273263113360589,0.09530635064580427,0.0896114661820666,0.10722411516391359,0.10120954056553362,0.11269865898209976,0.1104968358187488,0.10840278182792096,0.12247004044018472,0.13294400783956947,0.1200127735713656,0.1399251153940119,0.1319440918926366,0.11732729823632962,0.1466464682049859,0.14807719736387534,0.1527581598984343,0.13939752793811422,0.13582616472136425,0.15512507249073754,0.1389363796477299,0.14858597358814038,0.1591504214362341,0.15010155789325808,0.1581631969605069,0.16274538909864028,0.1504786186760053,0.19299512185390447,0.16880978208748956,0.17464717286637274,0.160080129507456,0.16983462546236136,0.18086365966175474,0.18064715101016923,0.1931304668939809,0.17517712388342338,0.19779819265097084,0.1889414316719328,0.18394168038887265,0.19256188561975324,0.19113282305225845]},{\"fill\":\"tonexty\",\"fillcolor\":\"rgba(100, 100, 100, 0.2)\",\"line\":{\"color\":\"rgb(153, 0, 0)\",\"width\":3.0},\"mode\":\"lines\",\"name\":\"heatwaves\",\"type\":\"scatter\",\"x\":[2010,2011,2012,2013,2014,2015,2016,2017,2018,2019,2020,2021,2022,2023,2024,2025,2026,2027,2028,2029,2030,2031,2032,2033,2034,2035,2036,2037,2038,2039,2040,2041,2042,2043,2044,2045,2046,2047,2048,2049,2050,2051,2052,2053,2054,2055,2056,2057,2058,2059,2060,2061,2062,2063,2064,2065,2066,2067,2068,2069,2070,2071,2072,2073,2074,2075,2076,2077,2078,2079,2080,2081,2082,2083,2084,2085,2086,2087,2088,2089,2090,2091,2092,2093,2094,2095,2096,2097,2098,2099,2100],\"y\":[0.04302126961353169,0.042533562789953974,0.0904228573186792,0.08419940929954776,0.04792994595935073,0.06391809233516135,0.06582397581361824,0.05733479814809282,0.07742626611559206,0.071576854377257,0.06777033224580452,0.08195212157803336,0.05215659752323435,0.05454424229430188,0.08246822840863471,0.11774360131444142,0.11786760263637971,0.08702596428368775,0.1398892179221866,0.0956857315270965,0.0993510085665969,0.12668435014832288,0.1513355045386414,0.12884410134577604,0.10308824408404657,0.11107036573446068,0.1430542815371683,0.1438519000459525,0.14607965346450466,0.14157624470850666,0.19340700096380486,0.18264896988101323,0.19439373431834486,0.15220816453749392,0.16159884131468083,0.19847444294717506,0.1716585030226894,0.18741523504977436,0.224800285648475,0.17926285343509868,0.20843415666730306,0.19749937648186386,0.25619581749365794,0.2026924485388239,0.20227455677885828,0.24062519383707742,0.24962707312107857,0.25030395767225083,0.23508818184649352,0.2815525312708112,0.28823654358447814,0.23448852433366635,0.2414011318770877,0.28363128237727625,0.25547471300784386,0.29535226137626525,0.2592703444935178,0.25672384584594654,0.336270367956958,0.35950960726286246,0.320442175211207,0.35870127327144125,0.38155350838978613,0.3234139813025475,0.40835016529023493,0.4459544805994284,0.4365754102281862,0.4049852458492405,0.392610905154105,0.4735716304136395,0.38705048714917994,0.3943018441553987,0.43394763383705337,0.42084587199244694,0.4195488366485782,0.5206779519676629,0.474024941066443,0.5753449985954829,0.526219166468233,0.5430024200165664,0.44080481158742735,0.5128057168107032,0.5641489530976466,0.4842983002754544,0.5496056081344025,0.5322669451523726,0.5790917550276046,0.5949261457772902,0.5939332642399482,0.588574967681167,0.608587520227551]},{\"fill\":\"tonexty\",\"fillcolor\":\"rgba(100, 100, 100, 0.2)\",\"line\":{\"color\":\"rgba(255, 255, 255, 0)\",\"width\":0.5},\"mode\":\"lines\",\"name\":\"\",\"showlegend\":false,\"type\":\"scatter\",\"x\":[2010,2011,2012,2013,2014,2015,2016,2017,2018,2019,2020,2021,2022,2023,2024,2025,2026,2027,2028,2029,2030,2031,2032,2033,2034,2035,2036,2037,2038,2039,2040,2041,2042,2043,2044,2045,2046,2047,2048,2049,2050,2051,2052,2053,2054,2055,2056,2057,2058,2059,2060,2061,2062,2063,2064,2065,2066,2067,2068,2069,2070,2071,2072,2073,2074,2075,2076,2077,2078,2079,2080,2081,2082,2083,2084,2085,2086,2087,2088,2089,2090,2091,2092,2093,2094,2095,2096,2097,2098,2099,2100],\"y\":[0.0017703055693006398,0.0046674905030639965,0.010340520253923909,0.005830499071551176,0.0032773529021163606,0.0021322200203320206,0.0010865136738660165,0.0085918485412441,0.007231566723159368,0.001373475152341137,0.006368863575273913,0.015635789971529198,0.006542819031182428,0.002058008841257777,0.014151147932550689,0.012882660219016078,0.015289923920966432,0.01419650117745101,0.014574878126341013,0.009600784802711551,0.006276471335657834,0.009968520570005105,0.011089480796396876,0.014290463167407275,0.008002256778521509,0.017292088832475724,0.01732254966205507,0.01842726423382038,0.01815286505128981,0.00865291345487828,0.029501968513432234,0.016908227424706986,0.018524954059317256,0.015794664551242902,0.016389703357459887,0.018312746842662278,0.024421411141041887,0.025570928184356464,0.02531158910255295,0.020996716186674806,0.02412312506368931,0.03372989188643834,0.04227053597512505,0.02687816391940654,0.02331482564812245,0.03536476230929339,0.0359279824209684,0.0295180621981268,0.017176176785194716,0.04148549442807323,0.0513856406586332,0.02193791152102891,0.031089099756477254,0.03459152602472454,0.0265278159383883,0.0349774717060329,0.019138336428010085,0.019959141095052303,0.045665143538294276,0.04681079579186176,0.04020831403423793,0.039425521241708734,0.058832662302256464,0.04437969241494413,0.057528614440131555,0.07490004293583886,0.06552954521565879,0.06309509498650605,0.06047928785568826,0.0816607427160822,0.05458886392686009,0.04856494848955897,0.057823395482292594,0.06032137810296539,0.051611221363782225,0.09759358688519118,0.08653385185721621,0.09467737744383697,0.09429980114662691,0.09685403714191047,0.060322276286257664,0.08656823294299026,0.1012108168870686,0.061501999127557966,0.08167233717322038,0.09095634869276294,0.09174768486283141,0.1085216412167123,0.11302495173110146,0.10172559822083027,0.1131609370615171]},{\"line\":{\"color\":\"rgba(255, 255, 255, 0)\",\"width\":0.5},\"mode\":\"lines\",\"name\":\"\",\"showlegend\":false,\"type\":\"scatter\",\"x\":[2010,2011,2012,2013,2014,2015,2016,2017,2018,2019,2020,2021,2022,2023,2024,2025,2026,2027,2028,2029,2030,2031,2032,2033,2034,2035,2036,2037,2038,2039,2040,2041,2042,2043,2044,2045,2046,2047,2048,2049,2050,2051,2052,2053,2054,2055,2056,2057,2058,2059,2060,2061,2062,2063,2064,2065,2066,2067,2068,2069,2070,2071,2072,2073,2074,2075,2076,2077,2078,2079,2080,2081,2082,2083,2084,2085,2086,2087,2088,2089,2090,2091,2092,2093,2094,2095,2096,2097,2098,2099,2100],\"y\":[-0.04809026363069305,-0.031169174104218166,-0.09099344669499182,-0.01227606313290261,-0.006699579819137775,-0.014745948402541925,-0.018812233794593416,-0.024554023458861682,0.040139036559759575,-0.09446260649418736,-0.05088011675658156,-0.05513694244331311,-0.0034586204727448835,-0.016214740565743718,0.0010017159898454667,-0.04524679176508898,0.016315920811088094,-0.10029460259553992,-0.08454026108356764,-0.012068226888004375,-0.00809659798469826,-0.05935256750897238,0.02952455482006101,-0.007675682714604275,0.007279620414181717,-0.018085146395527826,0.011650478250699791,-0.08105566919401673,0.0731248545129909,0.022682179010753884,0.04637324116187885,0.07299495525336899,0.04046040419052867,-0.05465493138590221,-0.08208866228877933,0.09279705743879968,0.03423115247917981,0.02289308656274815,-0.06259230691842912,0.010337061994786933,0.02834362941817294,0.10419293671518458,0.037731536777285135,-0.03766871255713548,-0.03323708342888419,0.11769998794876074,0.060156614661249906,-0.04966705670133059,-0.03380322146434971,-0.021780679260257483,0.03905878763052695,-0.001132517491620625,0.06764349354206807,0.060342840607672386,0.06786982510429138,-0.049208310310487634,0.09591897818226369,0.022808174955705418,0.028186542840978417,0.005417984928835567,0.034606342329483154,0.05105527380004749,0.076442935865855,0.1181774713829216,0.049161517208332034,0.02701188903369206,0.014119540781443557,0.07816418707060453,0.08756086899775949,0.05149023743913325,0.062410612549410306,0.00039314560849717503,0.07189332644995794,0.17881617521895757,0.14600784817833543,0.10336916889325466,0.17908054148313768,0.1640457346659836,0.13582142962417668,0.04247959094380379,0.0660606000462566,0.16480035353882366,0.13009427408989618,0.12812863758739565,-0.041520236856781,0.0769503083506585,0.0007227828621863666,0.10475019648216465,0.08258251969289997,0.1561242985319171,0.1030960049784992]},{\"fill\":\"tonexty\",\"fillcolor\":\"rgba(100, 100, 100, 0.2)\",\"line\":{\"color\":\"rgb(255, 123, 0)\",\"width\":3.0},\"mode\":\"lines\",\"name\":\"SPEI\",\"type\":\"scatter\",\"x\":[2010,2011,2012,2013,2014,2015,2016,2017,2018,2019,2020,2021,2022,2023,2024,2025,2026,2027,2028,2029,2030,2031,2032,2033,2034,2035,2036,2037,2038,2039,2040,2041,2042,2043,2044,2045,2046,2047,2048,2049,2050,2051,2052,2053,2054,2055,2056,2057,2058,2059,2060,2061,2062,2063,2064,2065,2066,2067,2068,2069,2070,2071,2072,2073,2074,2075,2076,2077,2078,2079,2080,2081,2082,2083,2084,2085,2086,2087,2088,2089,2090,2091,2092,2093,2094,2095,2096,2097,2098,2099,2100],\"y\":[0.1113242453813178,0.1459728037382895,0.010114943474892533,0.23795623989398731,0.1379561388159183,0.15092194497389516,0.3373185964381881,0.1608998794559244,0.3617328751541316,0.18216318635914264,0.15104897796962366,0.205861076507168,0.3297477011930799,0.20088013725685408,0.3199831657044098,0.24086479111844664,0.3044417112117049,0.11053239409895717,0.22376621486057094,0.32341411776142326,0.15858087060460865,0.15192349291210297,0.34551034408188336,0.34292602577430004,0.3107231415961164,0.27416256563802693,0.3817027152478863,0.1634995704304398,0.5987130226172727,0.4324600944803154,0.47570634644537546,0.4822169111443533,0.5654838191898364,0.2041950214725721,0.21449448332186286,0.6811436835533048,0.4955924733771376,0.4378769175170573,0.18438197346925425,0.3889122887708623,0.44463569498113403,0.6959940172617706,0.47765731307603043,0.31595301145093946,0.30177154881812257,0.6823648569630357,0.5690456951690862,0.32165740214585264,0.28280620102630344,0.3971574139187919,0.5431092724281309,0.4377592544246447,0.6407476336820989,0.5418612803080715,0.555836809282133,0.3706160349454843,0.6915422045459035,0.5019193965922134,0.5295994294962486,0.554440411615172,0.54051004227463,0.514529124049449,0.6666598555653533,0.7150943023363255,0.525029314902858,0.5065598627983662,0.4424140706972204,0.6082693538996452,0.6148980066812267,0.5341089022156055,0.5973569998517223,0.449517172156397,0.591869473862363,0.8772928667629932,0.8127273289462419,0.7150728679989773,0.8307644322058745,0.7981701601322474,0.8189912918879684,0.530454643134833,0.5489129344925411,0.8223772197891978,0.7584011422434319,0.7797350642536732,0.442155170626131,0.7375029203552314,0.5499338323737979,0.761857236245543,0.7050000642471531,0.841255161060785,0.7177219152900826]},{\"fill\":\"tonexty\",\"fillcolor\":\"rgba(100, 100, 100, 0.2)\",\"line\":{\"color\":\"rgba(255, 255, 255, 0)\",\"width\":0.5},\"mode\":\"lines\",\"name\":\"\",\"showlegend\":false,\"type\":\"scatter\",\"x\":[2010,2011,2012,2013,2014,2015,2016,2017,2018,2019,2020,2021,2022,2023,2024,2025,2026,2027,2028,2029,2030,2031,2032,2033,2034,2035,2036,2037,2038,2039,2040,2041,2042,2043,2044,2045,2046,2047,2048,2049,2050,2051,2052,2053,2054,2055,2056,2057,2058,2059,2060,2061,2062,2063,2064,2065,2066,2067,2068,2069,2070,2071,2072,2073,2074,2075,2076,2077,2078,2079,2080,2081,2082,2083,2084,2085,2086,2087,2088,2089,2090,2091,2092,2093,2094,2095,2096,2097,2098,2099,2100],\"y\":[0.10375238632135193,0.10415557597336293,0.09605091843243808,0.13125418307989625,0.07567764922709692,0.09020692088948952,0.1874715320136875,0.10500396318682388,0.1407274010173062,0.18554419967375868,0.12640460574139342,0.1580674806968971,0.1683324710692848,0.11665480919417076,0.1589898668623594,0.16567918732431233,0.13590493479476431,0.15556079964501848,0.19642336851385309,0.173775285768716,0.08738703328700259,0.13531431396502386,0.14323061722088068,0.1791386956017543,0.14808195038387648,0.15516642921454135,0.17920087937324336,0.16280545440923666,0.2262316567956454,0.19354786822940384,0.19147993206080885,0.16811350031880767,0.2422815054043895,0.15675244212218828,0.18933590394971075,0.24777478433785274,0.213565084209389,0.19604537219578053,0.15478329365305624,0.18411908239064423,0.1939742180723941,0.24380407191570075,0.20109711976073008,0.1956452182826052,0.18412285783794546,0.2234824405327571,0.22436623292329325,0.21049575777425691,0.17520632197750144,0.22035938621965342,0.23249584858353847,0.220012144703943,0.25273032329898143,0.21058779954636334,0.21004857953677514,0.23451632778322976,0.24985212409068805,0.22815152334040126,0.2366131719071459,0.27180222087875044,0.23564867880783183,0.206209288224677,0.2568869919168217,0.23936967978524118,0.213353140243097,0.22626804236549103,0.20708749456716666,0.225970489879218,0.21988813434285395,0.2155642136686695,0.23626788737645085,0.22436544046970133,0.22404141048122364,0.259830258162539,0.2603558162947855,0.25416726510623394,0.23630167461979956,0.23503934540014013,0.27367421631980743,0.22274773062361275,0.2083958672000139,0.2463882563557752,0.24910629703181977,0.26173889453944105,0.2625978221698465,0.2918011518269572,0.27424413332471254,0.27617842164060685,0.2699175124306766,0.2645032819984754,0.25576495266654214]},{\"line\":{\"color\":\"rgba(255, 255, 255, 0)\",\"width\":0.5},\"mode\":\"lines\",\"name\":\"\",\"showlegend\":false,\"type\":\"scatter\",\"x\":[2010,2011,2012,2013,2014,2015,2016,2017,2018,2019,2020,2021,2022,2023,2024,2025,2026,2027,2028,2029,2030,2031,2032,2033,2034,2035,2036,2037,2038,2039,2040,2041,2042,2043,2044,2045,2046,2047,2048,2049,2050,2051,2052,2053,2054,2055,2056,2057,2058,2059,2060,2061,2062,2063,2064,2065,2066,2067,2068,2069,2070,2071,2072,2073,2074,2075,2076,2077,2078,2079,2080,2081,2082,2083,2084,2085,2086,2087,2088,2089,2090,2091,2092,2093,2094,2095,2096,2097,2098,2099,2100],\"y\":[0.0,0.0,0.0,0.0,0.0,0.0,0.0,0.0,0.0,0.0,0.0,0.0,0.0,0.0,0.0,0.0,0.0,0.0,0.0,0.0,0.0,0.0,0.0,0.0,0.0,0.0,0.0,0.0,0.0,0.0,0.0,0.0,0.0,0.0,0.0,0.0,0.0,0.0,0.0,0.0,0.0,0.0,0.0,0.0,0.0,0.0,0.0,0.0,0.0,0.0,0.0,0.0,0.0,0.0,0.0,0.0,0.0,0.0,0.0,0.0,0.0,0.0,0.0,0.0,0.0,0.0,0.0,0.0,0.0,0.0,0.0,0.0,0.0,0.0,0.0,0.0,0.0,0.0,0.0,0.0,0.0,0.0,0.0,0.0,0.0,0.0,0.0,0.0,0.0,0.0,0.0]},{\"fill\":\"tonexty\",\"fillcolor\":\"rgba(100, 100, 100, 0.2)\",\"line\":{\"color\":\"rgb(0, 0, 255)\",\"width\":3.0},\"mode\":\"lines\",\"name\":\"SLR\",\"type\":\"scatter\",\"x\":[2010,2011,2012,2013,2014,2015,2016,2017,2018,2019,2020,2021,2022,2023,2024,2025,2026,2027,2028,2029,2030,2031,2032,2033,2034,2035,2036,2037,2038,2039,2040,2041,2042,2043,2044,2045,2046,2047,2048,2049,2050,2051,2052,2053,2054,2055,2056,2057,2058,2059,2060,2061,2062,2063,2064,2065,2066,2067,2068,2069,2070,2071,2072,2073,2074,2075,2076,2077,2078,2079,2080,2081,2082,2083,2084,2085,2086,2087,2088,2089,2090,2091,2092,2093,2094,2095,2096,2097,2098,2099,2100],\"y\":[0.0,0.0,0.0,0.0,0.0,0.0,0.0,0.0,0.0,0.0,0.0,0.0,0.0,0.0,0.0,0.0,0.0,0.0,0.0,0.0,0.0,0.0,0.0,0.0,0.0,0.0,0.0,0.0,0.0,0.0,0.0,0.0,0.0,0.0,0.0,0.0,0.0,0.0,0.0,0.0,0.0,0.0,0.0,0.0,0.0,0.0,0.0,0.0,0.0,0.0,0.0,0.0,0.0,0.0,0.0,0.0,0.0,0.0,0.0,0.0,0.0,0.0,0.0,0.0,0.0,0.0,0.0,0.0,0.0,0.0,0.0,0.0,0.0,0.0,0.0,0.0,0.0,0.0,0.0,0.0,0.0,0.0,0.0,0.0,0.0,0.0,0.0,0.0,0.0,0.0,0.0]},{\"fill\":\"tonexty\",\"fillcolor\":\"rgba(100, 100, 100, 0.2)\",\"line\":{\"color\":\"rgba(255, 255, 255, 0)\",\"width\":0.5},\"mode\":\"lines\",\"name\":\"\",\"showlegend\":false,\"type\":\"scatter\",\"x\":[2010,2011,2012,2013,2014,2015,2016,2017,2018,2019,2020,2021,2022,2023,2024,2025,2026,2027,2028,2029,2030,2031,2032,2033,2034,2035,2036,2037,2038,2039,2040,2041,2042,2043,2044,2045,2046,2047,2048,2049,2050,2051,2052,2053,2054,2055,2056,2057,2058,2059,2060,2061,2062,2063,2064,2065,2066,2067,2068,2069,2070,2071,2072,2073,2074,2075,2076,2077,2078,2079,2080,2081,2082,2083,2084,2085,2086,2087,2088,2089,2090,2091,2092,2093,2094,2095,2096,2097,2098,2099,2100],\"y\":[0.0,0.0,0.0,0.0,0.0,0.0,0.0,0.0,0.0,0.0,0.0,0.0,0.0,0.0,0.0,0.0,0.0,0.0,0.0,0.0,0.0,0.0,0.0,0.0,0.0,0.0,0.0,0.0,0.0,0.0,0.0,0.0,0.0,0.0,0.0,0.0,0.0,0.0,0.0,0.0,0.0,0.0,0.0,0.0,0.0,0.0,0.0,0.0,0.0,0.0,0.0,0.0,0.0,0.0,0.0,0.0,0.0,0.0,0.0,0.0,0.0,0.0,0.0,0.0,0.0,0.0,0.0,0.0,0.0,0.0,0.0,0.0,0.0,0.0,0.0,0.0,0.0,0.0,0.0,0.0,0.0,0.0,0.0,0.0,0.0,0.0,0.0,0.0,0.0,0.0,0.0]}],                        {\"legend\":{\"x\":0,\"y\":1.0},\"paper_bgcolor\":\"#FFFFFF\",\"plot_bgcolor\":\"#FFFFFF\",\"showlegend\":true,\"template\":{\"data\":{\"bar\":[{\"error_x\":{\"color\":\"#2a3f5f\"},\"error_y\":{\"color\":\"#2a3f5f\"},\"marker\":{\"line\":{\"color\":\"#E5ECF6\",\"width\":0.5},\"pattern\":{\"fillmode\":\"overlay\",\"size\":10,\"solidity\":0.2}},\"type\":\"bar\"}],\"barpolar\":[{\"marker\":{\"line\":{\"color\":\"#E5ECF6\",\"width\":0.5},\"pattern\":{\"fillmode\":\"overlay\",\"size\":10,\"solidity\":0.2}},\"type\":\"barpolar\"}],\"carpet\":[{\"aaxis\":{\"endlinecolor\":\"#2a3f5f\",\"gridcolor\":\"white\",\"linecolor\":\"white\",\"minorgridcolor\":\"white\",\"startlinecolor\":\"#2a3f5f\"},\"baxis\":{\"endlinecolor\":\"#2a3f5f\",\"gridcolor\":\"white\",\"linecolor\":\"white\",\"minorgridcolor\":\"white\",\"startlinecolor\":\"#2a3f5f\"},\"type\":\"carpet\"}],\"choropleth\":[{\"colorbar\":{\"outlinewidth\":0,\"ticks\":\"\"},\"type\":\"choropleth\"}],\"contour\":[{\"colorbar\":{\"outlinewidth\":0,\"ticks\":\"\"},\"colorscale\":[[0.0,\"#0d0887\"],[0.1111111111111111,\"#46039f\"],[0.2222222222222222,\"#7201a8\"],[0.3333333333333333,\"#9c179e\"],[0.4444444444444444,\"#bd3786\"],[0.5555555555555556,\"#d8576b\"],[0.6666666666666666,\"#ed7953\"],[0.7777777777777778,\"#fb9f3a\"],[0.8888888888888888,\"#fdca26\"],[1.0,\"#f0f921\"]],\"type\":\"contour\"}],\"contourcarpet\":[{\"colorbar\":{\"outlinewidth\":0,\"ticks\":\"\"},\"type\":\"contourcarpet\"}],\"heatmap\":[{\"colorbar\":{\"outlinewidth\":0,\"ticks\":\"\"},\"colorscale\":[[0.0,\"#0d0887\"],[0.1111111111111111,\"#46039f\"],[0.2222222222222222,\"#7201a8\"],[0.3333333333333333,\"#9c179e\"],[0.4444444444444444,\"#bd3786\"],[0.5555555555555556,\"#d8576b\"],[0.6666666666666666,\"#ed7953\"],[0.7777777777777778,\"#fb9f3a\"],[0.8888888888888888,\"#fdca26\"],[1.0,\"#f0f921\"]],\"type\":\"heatmap\"}],\"heatmapgl\":[{\"colorbar\":{\"outlinewidth\":0,\"ticks\":\"\"},\"colorscale\":[[0.0,\"#0d0887\"],[0.1111111111111111,\"#46039f\"],[0.2222222222222222,\"#7201a8\"],[0.3333333333333333,\"#9c179e\"],[0.4444444444444444,\"#bd3786\"],[0.5555555555555556,\"#d8576b\"],[0.6666666666666666,\"#ed7953\"],[0.7777777777777778,\"#fb9f3a\"],[0.8888888888888888,\"#fdca26\"],[1.0,\"#f0f921\"]],\"type\":\"heatmapgl\"}],\"histogram\":[{\"marker\":{\"pattern\":{\"fillmode\":\"overlay\",\"size\":10,\"solidity\":0.2}},\"type\":\"histogram\"}],\"histogram2d\":[{\"colorbar\":{\"outlinewidth\":0,\"ticks\":\"\"},\"colorscale\":[[0.0,\"#0d0887\"],[0.1111111111111111,\"#46039f\"],[0.2222222222222222,\"#7201a8\"],[0.3333333333333333,\"#9c179e\"],[0.4444444444444444,\"#bd3786\"],[0.5555555555555556,\"#d8576b\"],[0.6666666666666666,\"#ed7953\"],[0.7777777777777778,\"#fb9f3a\"],[0.8888888888888888,\"#fdca26\"],[1.0,\"#f0f921\"]],\"type\":\"histogram2d\"}],\"histogram2dcontour\":[{\"colorbar\":{\"outlinewidth\":0,\"ticks\":\"\"},\"colorscale\":[[0.0,\"#0d0887\"],[0.1111111111111111,\"#46039f\"],[0.2222222222222222,\"#7201a8\"],[0.3333333333333333,\"#9c179e\"],[0.4444444444444444,\"#bd3786\"],[0.5555555555555556,\"#d8576b\"],[0.6666666666666666,\"#ed7953\"],[0.7777777777777778,\"#fb9f3a\"],[0.8888888888888888,\"#fdca26\"],[1.0,\"#f0f921\"]],\"type\":\"histogram2dcontour\"}],\"mesh3d\":[{\"colorbar\":{\"outlinewidth\":0,\"ticks\":\"\"},\"type\":\"mesh3d\"}],\"parcoords\":[{\"line\":{\"colorbar\":{\"outlinewidth\":0,\"ticks\":\"\"}},\"type\":\"parcoords\"}],\"pie\":[{\"automargin\":true,\"type\":\"pie\"}],\"scatter\":[{\"marker\":{\"colorbar\":{\"outlinewidth\":0,\"ticks\":\"\"}},\"type\":\"scatter\"}],\"scatter3d\":[{\"line\":{\"colorbar\":{\"outlinewidth\":0,\"ticks\":\"\"}},\"marker\":{\"colorbar\":{\"outlinewidth\":0,\"ticks\":\"\"}},\"type\":\"scatter3d\"}],\"scattercarpet\":[{\"marker\":{\"colorbar\":{\"outlinewidth\":0,\"ticks\":\"\"}},\"type\":\"scattercarpet\"}],\"scattergeo\":[{\"marker\":{\"colorbar\":{\"outlinewidth\":0,\"ticks\":\"\"}},\"type\":\"scattergeo\"}],\"scattergl\":[{\"marker\":{\"colorbar\":{\"outlinewidth\":0,\"ticks\":\"\"}},\"type\":\"scattergl\"}],\"scattermapbox\":[{\"marker\":{\"colorbar\":{\"outlinewidth\":0,\"ticks\":\"\"}},\"type\":\"scattermapbox\"}],\"scatterpolar\":[{\"marker\":{\"colorbar\":{\"outlinewidth\":0,\"ticks\":\"\"}},\"type\":\"scatterpolar\"}],\"scatterpolargl\":[{\"marker\":{\"colorbar\":{\"outlinewidth\":0,\"ticks\":\"\"}},\"type\":\"scatterpolargl\"}],\"scatterternary\":[{\"marker\":{\"colorbar\":{\"outlinewidth\":0,\"ticks\":\"\"}},\"type\":\"scatterternary\"}],\"surface\":[{\"colorbar\":{\"outlinewidth\":0,\"ticks\":\"\"},\"colorscale\":[[0.0,\"#0d0887\"],[0.1111111111111111,\"#46039f\"],[0.2222222222222222,\"#7201a8\"],[0.3333333333333333,\"#9c179e\"],[0.4444444444444444,\"#bd3786\"],[0.5555555555555556,\"#d8576b\"],[0.6666666666666666,\"#ed7953\"],[0.7777777777777778,\"#fb9f3a\"],[0.8888888888888888,\"#fdca26\"],[1.0,\"#f0f921\"]],\"type\":\"surface\"}],\"table\":[{\"cells\":{\"fill\":{\"color\":\"#EBF0F8\"},\"line\":{\"color\":\"white\"}},\"header\":{\"fill\":{\"color\":\"#C8D4E3\"},\"line\":{\"color\":\"white\"}},\"type\":\"table\"}]},\"layout\":{\"annotationdefaults\":{\"arrowcolor\":\"#2a3f5f\",\"arrowhead\":0,\"arrowwidth\":1},\"autotypenumbers\":\"strict\",\"coloraxis\":{\"colorbar\":{\"outlinewidth\":0,\"ticks\":\"\"}},\"colorscale\":{\"diverging\":[[0,\"#8e0152\"],[0.1,\"#c51b7d\"],[0.2,\"#de77ae\"],[0.3,\"#f1b6da\"],[0.4,\"#fde0ef\"],[0.5,\"#f7f7f7\"],[0.6,\"#e6f5d0\"],[0.7,\"#b8e186\"],[0.8,\"#7fbc41\"],[0.9,\"#4d9221\"],[1,\"#276419\"]],\"sequential\":[[0.0,\"#0d0887\"],[0.1111111111111111,\"#46039f\"],[0.2222222222222222,\"#7201a8\"],[0.3333333333333333,\"#9c179e\"],[0.4444444444444444,\"#bd3786\"],[0.5555555555555556,\"#d8576b\"],[0.6666666666666666,\"#ed7953\"],[0.7777777777777778,\"#fb9f3a\"],[0.8888888888888888,\"#fdca26\"],[1.0,\"#f0f921\"]],\"sequentialminus\":[[0.0,\"#0d0887\"],[0.1111111111111111,\"#46039f\"],[0.2222222222222222,\"#7201a8\"],[0.3333333333333333,\"#9c179e\"],[0.4444444444444444,\"#bd3786\"],[0.5555555555555556,\"#d8576b\"],[0.6666666666666666,\"#ed7953\"],[0.7777777777777778,\"#fb9f3a\"],[0.8888888888888888,\"#fdca26\"],[1.0,\"#f0f921\"]]},\"colorway\":[\"#636efa\",\"#EF553B\",\"#00cc96\",\"#ab63fa\",\"#FFA15A\",\"#19d3f3\",\"#FF6692\",\"#B6E880\",\"#FF97FF\",\"#FECB52\"],\"font\":{\"color\":\"#2a3f5f\"},\"geo\":{\"bgcolor\":\"white\",\"lakecolor\":\"white\",\"landcolor\":\"#E5ECF6\",\"showlakes\":true,\"showland\":true,\"subunitcolor\":\"white\"},\"hoverlabel\":{\"align\":\"left\"},\"hovermode\":\"closest\",\"mapbox\":{\"style\":\"light\"},\"paper_bgcolor\":\"white\",\"plot_bgcolor\":\"#E5ECF6\",\"polar\":{\"angularaxis\":{\"gridcolor\":\"white\",\"linecolor\":\"white\",\"ticks\":\"\"},\"bgcolor\":\"#E5ECF6\",\"radialaxis\":{\"gridcolor\":\"white\",\"linecolor\":\"white\",\"ticks\":\"\"}},\"scene\":{\"xaxis\":{\"backgroundcolor\":\"#E5ECF6\",\"gridcolor\":\"white\",\"gridwidth\":2,\"linecolor\":\"white\",\"showbackground\":true,\"ticks\":\"\",\"zerolinecolor\":\"white\"},\"yaxis\":{\"backgroundcolor\":\"#E5ECF6\",\"gridcolor\":\"white\",\"gridwidth\":2,\"linecolor\":\"white\",\"showbackground\":true,\"ticks\":\"\",\"zerolinecolor\":\"white\"},\"zaxis\":{\"backgroundcolor\":\"#E5ECF6\",\"gridcolor\":\"white\",\"gridwidth\":2,\"linecolor\":\"white\",\"showbackground\":true,\"ticks\":\"\",\"zerolinecolor\":\"white\"}},\"shapedefaults\":{\"line\":{\"color\":\"#2a3f5f\"}},\"ternary\":{\"aaxis\":{\"gridcolor\":\"white\",\"linecolor\":\"white\",\"ticks\":\"\"},\"baxis\":{\"gridcolor\":\"white\",\"linecolor\":\"white\",\"ticks\":\"\"},\"bgcolor\":\"#E5ECF6\",\"caxis\":{\"gridcolor\":\"white\",\"linecolor\":\"white\",\"ticks\":\"\"}},\"title\":{\"x\":0.05},\"xaxis\":{\"automargin\":true,\"gridcolor\":\"white\",\"linecolor\":\"white\",\"ticks\":\"\",\"title\":{\"standoff\":15},\"zerolinecolor\":\"white\",\"zerolinewidth\":2},\"yaxis\":{\"automargin\":true,\"gridcolor\":\"white\",\"linecolor\":\"white\",\"ticks\":\"\",\"title\":{\"standoff\":15},\"zerolinecolor\":\"white\",\"zerolinewidth\":2}}},\"title\":{\"text\":\"Normalized Multi-Hazard Predictive Risk Exposure : 33837\"},\"transition\":{\"duration\":50},\"xaxis\":{\"linecolor\":\"rgb(82, 82, 82)\",\"linewidth\":2,\"rangeselector\":{\"buttons\":[{\"count\":1,\"label\":\"1y\",\"step\":\"year\",\"stepmode\":\"backward\"},{\"count\":3,\"label\":\"3y\",\"step\":\"year\",\"stepmode\":\"backward\"},{\"count\":6,\"label\":\"10y\",\"step\":\"year\",\"stepmode\":\"backward\"},{\"step\":\"all\"}]},\"rangeslider\":{\"visible\":true},\"showgrid\":false,\"showline\":true,\"showticklabels\":true,\"tickfont\":{\"color\":\"rgb(82, 82, 82)\",\"family\":\"Arial\",\"size\":12},\"ticks\":\"outside\",\"title\":{\"text\":\"Year of Assessment\"},\"type\":\"date\"},\"yaxis\":{\"linecolor\":\"rgb(82, 82, 82)\",\"linewidth\":2,\"range\":[0,1.1],\"showgrid\":false,\"showline\":true,\"showticklabels\":true,\"tickfont\":{\"color\":\"rgb(82, 82, 82)\",\"family\":\"Arial\",\"size\":12},\"ticks\":\"outside\",\"title\":{\"text\":\"Risk Exposure\"}}},                        {\"responsive\": true}                    ).then(function(){\n",
       "                            \n",
       "var gd = document.getElementById('7aa12bd5-4e33-472d-9f72-983f98db1723');\n",
       "var x = new MutationObserver(function (mutations, observer) {{\n",
       "        var display = window.getComputedStyle(gd).display;\n",
       "        if (!display || display === 'none') {{\n",
       "            console.log([gd, 'removed!']);\n",
       "            Plotly.purge(gd);\n",
       "            observer.disconnect();\n",
       "        }}\n",
       "}});\n",
       "\n",
       "// Listen for the removal of the full notebook cells\n",
       "var notebookContainer = gd.closest('#notebook-container');\n",
       "if (notebookContainer) {{\n",
       "    x.observe(notebookContainer, {childList: true});\n",
       "}}\n",
       "\n",
       "// Listen for the clearing of the current output cell\n",
       "var outputEl = gd.closest('.output');\n",
       "if (outputEl) {{\n",
       "    x.observe(outputEl, {childList: true});\n",
       "}}\n",
       "\n",
       "                        })                };                });            </script>        </div>"
      ]
     },
     "metadata": {},
     "output_type": "display_data"
    }
   ],
   "source": [
    "fig = display_fwd_timeseries_data(asset_index, scenario, portfolio)\n",
    "fig.show()"
   ]
  },
  {
   "cell_type": "markdown",
   "id": "3f960a04",
   "metadata": {},
   "source": [
    "## Pick a risk mode and plot the historic series for a specific asset\n",
    "\n",
    "Results are derived from observations of risk events. `his_risk_mode` can be either `Fire` or `Flood` or `Cyclone`"
   ]
  },
  {
   "cell_type": "code",
   "execution_count": 59,
   "id": "2180d748",
   "metadata": {},
   "outputs": [
    {
     "name": "stdout",
     "output_type": "stream",
     "text": [
      "Address :  33837\n"
     ]
    },
    {
     "data": {
      "application/vnd.plotly.v1+json": {
       "config": {
        "plotlyServerURL": "https://plot.ly"
       },
       "data": [
        {
         "fill": "tonexty",
         "fillcolor": "rgba(100, 100, 100, 0.2)",
         "line": {
          "color": "rgb(50, 50, 50)"
         },
         "mode": "lines",
         "name": "",
         "type": "scatter",
         "x": [
          "2010-01-01",
          "2010-02-01",
          "2010-03-01",
          "2010-04-01",
          "2010-05-01",
          "2010-06-01",
          "2010-07-01",
          "2010-08-01",
          "2010-09-01",
          "2010-10-01",
          "2010-11-01",
          "2010-12-01",
          "2011-01-01",
          "2011-02-01",
          "2011-03-01",
          "2011-04-01",
          "2011-05-01",
          "2011-06-01",
          "2011-07-01",
          "2011-08-01",
          "2011-09-01",
          "2011-10-01",
          "2011-11-01",
          "2011-12-01",
          "2012-01-01",
          "2012-02-01",
          "2012-03-01",
          "2012-04-01",
          "2012-05-01",
          "2012-06-01",
          "2012-07-01",
          "2012-08-01",
          "2012-09-01",
          "2012-10-01",
          "2012-11-01",
          "2012-12-01",
          "2013-01-01",
          "2013-02-01",
          "2013-03-01",
          "2013-04-01",
          "2013-05-01",
          "2013-06-01",
          "2013-07-01",
          "2013-08-01",
          "2013-09-01",
          "2013-10-01",
          "2013-11-01",
          "2013-12-01",
          "2014-01-01",
          "2014-02-01",
          "2014-03-01",
          "2014-04-01",
          "2014-05-01",
          "2014-06-01",
          "2014-07-01",
          "2014-08-01",
          "2014-09-01",
          "2014-10-01",
          "2014-11-01",
          "2014-12-01",
          "2015-01-01",
          "2015-02-01",
          "2015-03-01",
          "2015-04-01",
          "2015-05-01",
          "2015-06-01",
          "2015-07-01",
          "2015-08-01",
          "2015-09-01",
          "2015-10-01",
          "2015-11-01",
          "2015-12-01",
          "2016-01-01",
          "2016-02-01",
          "2016-03-01",
          "2016-04-01",
          "2016-05-01",
          "2016-06-01",
          "2016-07-01",
          "2016-08-01",
          "2016-09-01",
          "2016-10-01",
          "2016-11-01",
          "2016-12-01",
          "2017-01-01",
          "2017-02-01",
          "2017-03-01",
          "2017-04-01",
          "2017-05-01",
          "2017-06-01",
          "2017-07-01",
          "2017-08-01",
          "2017-09-01",
          "2017-10-01",
          "2017-11-01",
          "2017-12-01",
          "2018-01-01",
          "2018-02-01",
          "2018-03-01",
          "2018-04-01",
          "2018-05-01",
          "2018-06-01",
          "2018-07-01",
          "2018-08-01",
          "2018-09-01",
          "2018-10-01",
          "2018-11-01",
          "2018-12-01",
          "2019-01-01",
          "2019-02-01",
          "2019-03-01",
          "2019-04-01",
          "2019-05-01",
          "2019-06-01",
          "2019-07-01",
          "2019-08-01",
          "2019-09-01",
          "2019-10-01",
          "2019-11-01",
          "2019-12-01",
          "2020-01-01",
          "2020-02-01",
          "2020-03-01",
          "2020-04-01",
          "2020-05-01",
          "2020-06-01",
          "2020-07-01",
          "2020-08-01",
          "2020-09-01",
          "2020-10-01",
          "2020-11-01",
          "2020-12-01"
         ],
         "y": [
          0,
          0,
          0,
          0,
          0,
          0,
          0,
          0,
          0,
          0,
          0,
          0,
          0,
          0,
          0,
          0,
          0,
          0,
          0,
          0,
          0,
          0,
          0,
          0,
          0,
          0,
          0,
          0,
          0,
          0,
          0,
          0,
          0,
          0,
          0,
          0,
          0,
          0,
          0,
          0,
          0,
          0,
          0,
          0,
          0,
          0,
          0,
          0,
          0,
          0,
          0,
          0,
          0,
          0,
          0,
          0,
          0,
          0,
          0,
          0,
          0,
          0,
          0,
          0,
          0,
          0,
          0,
          0,
          0,
          0,
          0,
          0,
          0,
          0,
          0,
          0,
          0,
          0,
          0,
          0,
          0,
          0,
          0,
          0,
          0,
          0,
          0,
          0,
          0,
          0,
          0,
          0,
          1,
          0,
          0,
          0,
          0,
          0,
          0,
          0,
          0,
          0,
          0,
          0,
          0,
          0,
          0,
          0,
          0,
          0,
          0,
          0,
          0,
          0,
          0,
          0,
          0,
          0,
          0,
          0,
          0,
          0,
          0,
          0,
          0,
          0,
          0,
          0,
          0,
          0,
          0,
          0
         ]
        }
       ],
       "layout": {
        "legend": {
         "x": 0,
         "y": 1.1
        },
        "paper_bgcolor": "#FFFFFF",
        "plot_bgcolor": "#FFFFFF",
        "showlegend": false,
        "template": {
         "data": {
          "bar": [
           {
            "error_x": {
             "color": "#2a3f5f"
            },
            "error_y": {
             "color": "#2a3f5f"
            },
            "marker": {
             "line": {
              "color": "#E5ECF6",
              "width": 0.5
             },
             "pattern": {
              "fillmode": "overlay",
              "size": 10,
              "solidity": 0.2
             }
            },
            "type": "bar"
           }
          ],
          "barpolar": [
           {
            "marker": {
             "line": {
              "color": "#E5ECF6",
              "width": 0.5
             },
             "pattern": {
              "fillmode": "overlay",
              "size": 10,
              "solidity": 0.2
             }
            },
            "type": "barpolar"
           }
          ],
          "carpet": [
           {
            "aaxis": {
             "endlinecolor": "#2a3f5f",
             "gridcolor": "white",
             "linecolor": "white",
             "minorgridcolor": "white",
             "startlinecolor": "#2a3f5f"
            },
            "baxis": {
             "endlinecolor": "#2a3f5f",
             "gridcolor": "white",
             "linecolor": "white",
             "minorgridcolor": "white",
             "startlinecolor": "#2a3f5f"
            },
            "type": "carpet"
           }
          ],
          "choropleth": [
           {
            "colorbar": {
             "outlinewidth": 0,
             "ticks": ""
            },
            "type": "choropleth"
           }
          ],
          "contour": [
           {
            "colorbar": {
             "outlinewidth": 0,
             "ticks": ""
            },
            "colorscale": [
             [
              0,
              "#0d0887"
             ],
             [
              0.1111111111111111,
              "#46039f"
             ],
             [
              0.2222222222222222,
              "#7201a8"
             ],
             [
              0.3333333333333333,
              "#9c179e"
             ],
             [
              0.4444444444444444,
              "#bd3786"
             ],
             [
              0.5555555555555556,
              "#d8576b"
             ],
             [
              0.6666666666666666,
              "#ed7953"
             ],
             [
              0.7777777777777778,
              "#fb9f3a"
             ],
             [
              0.8888888888888888,
              "#fdca26"
             ],
             [
              1,
              "#f0f921"
             ]
            ],
            "type": "contour"
           }
          ],
          "contourcarpet": [
           {
            "colorbar": {
             "outlinewidth": 0,
             "ticks": ""
            },
            "type": "contourcarpet"
           }
          ],
          "heatmap": [
           {
            "colorbar": {
             "outlinewidth": 0,
             "ticks": ""
            },
            "colorscale": [
             [
              0,
              "#0d0887"
             ],
             [
              0.1111111111111111,
              "#46039f"
             ],
             [
              0.2222222222222222,
              "#7201a8"
             ],
             [
              0.3333333333333333,
              "#9c179e"
             ],
             [
              0.4444444444444444,
              "#bd3786"
             ],
             [
              0.5555555555555556,
              "#d8576b"
             ],
             [
              0.6666666666666666,
              "#ed7953"
             ],
             [
              0.7777777777777778,
              "#fb9f3a"
             ],
             [
              0.8888888888888888,
              "#fdca26"
             ],
             [
              1,
              "#f0f921"
             ]
            ],
            "type": "heatmap"
           }
          ],
          "heatmapgl": [
           {
            "colorbar": {
             "outlinewidth": 0,
             "ticks": ""
            },
            "colorscale": [
             [
              0,
              "#0d0887"
             ],
             [
              0.1111111111111111,
              "#46039f"
             ],
             [
              0.2222222222222222,
              "#7201a8"
             ],
             [
              0.3333333333333333,
              "#9c179e"
             ],
             [
              0.4444444444444444,
              "#bd3786"
             ],
             [
              0.5555555555555556,
              "#d8576b"
             ],
             [
              0.6666666666666666,
              "#ed7953"
             ],
             [
              0.7777777777777778,
              "#fb9f3a"
             ],
             [
              0.8888888888888888,
              "#fdca26"
             ],
             [
              1,
              "#f0f921"
             ]
            ],
            "type": "heatmapgl"
           }
          ],
          "histogram": [
           {
            "marker": {
             "pattern": {
              "fillmode": "overlay",
              "size": 10,
              "solidity": 0.2
             }
            },
            "type": "histogram"
           }
          ],
          "histogram2d": [
           {
            "colorbar": {
             "outlinewidth": 0,
             "ticks": ""
            },
            "colorscale": [
             [
              0,
              "#0d0887"
             ],
             [
              0.1111111111111111,
              "#46039f"
             ],
             [
              0.2222222222222222,
              "#7201a8"
             ],
             [
              0.3333333333333333,
              "#9c179e"
             ],
             [
              0.4444444444444444,
              "#bd3786"
             ],
             [
              0.5555555555555556,
              "#d8576b"
             ],
             [
              0.6666666666666666,
              "#ed7953"
             ],
             [
              0.7777777777777778,
              "#fb9f3a"
             ],
             [
              0.8888888888888888,
              "#fdca26"
             ],
             [
              1,
              "#f0f921"
             ]
            ],
            "type": "histogram2d"
           }
          ],
          "histogram2dcontour": [
           {
            "colorbar": {
             "outlinewidth": 0,
             "ticks": ""
            },
            "colorscale": [
             [
              0,
              "#0d0887"
             ],
             [
              0.1111111111111111,
              "#46039f"
             ],
             [
              0.2222222222222222,
              "#7201a8"
             ],
             [
              0.3333333333333333,
              "#9c179e"
             ],
             [
              0.4444444444444444,
              "#bd3786"
             ],
             [
              0.5555555555555556,
              "#d8576b"
             ],
             [
              0.6666666666666666,
              "#ed7953"
             ],
             [
              0.7777777777777778,
              "#fb9f3a"
             ],
             [
              0.8888888888888888,
              "#fdca26"
             ],
             [
              1,
              "#f0f921"
             ]
            ],
            "type": "histogram2dcontour"
           }
          ],
          "mesh3d": [
           {
            "colorbar": {
             "outlinewidth": 0,
             "ticks": ""
            },
            "type": "mesh3d"
           }
          ],
          "parcoords": [
           {
            "line": {
             "colorbar": {
              "outlinewidth": 0,
              "ticks": ""
             }
            },
            "type": "parcoords"
           }
          ],
          "pie": [
           {
            "automargin": true,
            "type": "pie"
           }
          ],
          "scatter": [
           {
            "marker": {
             "colorbar": {
              "outlinewidth": 0,
              "ticks": ""
             }
            },
            "type": "scatter"
           }
          ],
          "scatter3d": [
           {
            "line": {
             "colorbar": {
              "outlinewidth": 0,
              "ticks": ""
             }
            },
            "marker": {
             "colorbar": {
              "outlinewidth": 0,
              "ticks": ""
             }
            },
            "type": "scatter3d"
           }
          ],
          "scattercarpet": [
           {
            "marker": {
             "colorbar": {
              "outlinewidth": 0,
              "ticks": ""
             }
            },
            "type": "scattercarpet"
           }
          ],
          "scattergeo": [
           {
            "marker": {
             "colorbar": {
              "outlinewidth": 0,
              "ticks": ""
             }
            },
            "type": "scattergeo"
           }
          ],
          "scattergl": [
           {
            "marker": {
             "colorbar": {
              "outlinewidth": 0,
              "ticks": ""
             }
            },
            "type": "scattergl"
           }
          ],
          "scattermapbox": [
           {
            "marker": {
             "colorbar": {
              "outlinewidth": 0,
              "ticks": ""
             }
            },
            "type": "scattermapbox"
           }
          ],
          "scatterpolar": [
           {
            "marker": {
             "colorbar": {
              "outlinewidth": 0,
              "ticks": ""
             }
            },
            "type": "scatterpolar"
           }
          ],
          "scatterpolargl": [
           {
            "marker": {
             "colorbar": {
              "outlinewidth": 0,
              "ticks": ""
             }
            },
            "type": "scatterpolargl"
           }
          ],
          "scatterternary": [
           {
            "marker": {
             "colorbar": {
              "outlinewidth": 0,
              "ticks": ""
             }
            },
            "type": "scatterternary"
           }
          ],
          "surface": [
           {
            "colorbar": {
             "outlinewidth": 0,
             "ticks": ""
            },
            "colorscale": [
             [
              0,
              "#0d0887"
             ],
             [
              0.1111111111111111,
              "#46039f"
             ],
             [
              0.2222222222222222,
              "#7201a8"
             ],
             [
              0.3333333333333333,
              "#9c179e"
             ],
             [
              0.4444444444444444,
              "#bd3786"
             ],
             [
              0.5555555555555556,
              "#d8576b"
             ],
             [
              0.6666666666666666,
              "#ed7953"
             ],
             [
              0.7777777777777778,
              "#fb9f3a"
             ],
             [
              0.8888888888888888,
              "#fdca26"
             ],
             [
              1,
              "#f0f921"
             ]
            ],
            "type": "surface"
           }
          ],
          "table": [
           {
            "cells": {
             "fill": {
              "color": "#EBF0F8"
             },
             "line": {
              "color": "white"
             }
            },
            "header": {
             "fill": {
              "color": "#C8D4E3"
             },
             "line": {
              "color": "white"
             }
            },
            "type": "table"
           }
          ]
         },
         "layout": {
          "annotationdefaults": {
           "arrowcolor": "#2a3f5f",
           "arrowhead": 0,
           "arrowwidth": 1
          },
          "autotypenumbers": "strict",
          "coloraxis": {
           "colorbar": {
            "outlinewidth": 0,
            "ticks": ""
           }
          },
          "colorscale": {
           "diverging": [
            [
             0,
             "#8e0152"
            ],
            [
             0.1,
             "#c51b7d"
            ],
            [
             0.2,
             "#de77ae"
            ],
            [
             0.3,
             "#f1b6da"
            ],
            [
             0.4,
             "#fde0ef"
            ],
            [
             0.5,
             "#f7f7f7"
            ],
            [
             0.6,
             "#e6f5d0"
            ],
            [
             0.7,
             "#b8e186"
            ],
            [
             0.8,
             "#7fbc41"
            ],
            [
             0.9,
             "#4d9221"
            ],
            [
             1,
             "#276419"
            ]
           ],
           "sequential": [
            [
             0,
             "#0d0887"
            ],
            [
             0.1111111111111111,
             "#46039f"
            ],
            [
             0.2222222222222222,
             "#7201a8"
            ],
            [
             0.3333333333333333,
             "#9c179e"
            ],
            [
             0.4444444444444444,
             "#bd3786"
            ],
            [
             0.5555555555555556,
             "#d8576b"
            ],
            [
             0.6666666666666666,
             "#ed7953"
            ],
            [
             0.7777777777777778,
             "#fb9f3a"
            ],
            [
             0.8888888888888888,
             "#fdca26"
            ],
            [
             1,
             "#f0f921"
            ]
           ],
           "sequentialminus": [
            [
             0,
             "#0d0887"
            ],
            [
             0.1111111111111111,
             "#46039f"
            ],
            [
             0.2222222222222222,
             "#7201a8"
            ],
            [
             0.3333333333333333,
             "#9c179e"
            ],
            [
             0.4444444444444444,
             "#bd3786"
            ],
            [
             0.5555555555555556,
             "#d8576b"
            ],
            [
             0.6666666666666666,
             "#ed7953"
            ],
            [
             0.7777777777777778,
             "#fb9f3a"
            ],
            [
             0.8888888888888888,
             "#fdca26"
            ],
            [
             1,
             "#f0f921"
            ]
           ]
          },
          "colorway": [
           "#636efa",
           "#EF553B",
           "#00cc96",
           "#ab63fa",
           "#FFA15A",
           "#19d3f3",
           "#FF6692",
           "#B6E880",
           "#FF97FF",
           "#FECB52"
          ],
          "font": {
           "color": "#2a3f5f"
          },
          "geo": {
           "bgcolor": "white",
           "lakecolor": "white",
           "landcolor": "#E5ECF6",
           "showlakes": true,
           "showland": true,
           "subunitcolor": "white"
          },
          "hoverlabel": {
           "align": "left"
          },
          "hovermode": "closest",
          "mapbox": {
           "style": "light"
          },
          "paper_bgcolor": "white",
          "plot_bgcolor": "#E5ECF6",
          "polar": {
           "angularaxis": {
            "gridcolor": "white",
            "linecolor": "white",
            "ticks": ""
           },
           "bgcolor": "#E5ECF6",
           "radialaxis": {
            "gridcolor": "white",
            "linecolor": "white",
            "ticks": ""
           }
          },
          "scene": {
           "xaxis": {
            "backgroundcolor": "#E5ECF6",
            "gridcolor": "white",
            "gridwidth": 2,
            "linecolor": "white",
            "showbackground": true,
            "ticks": "",
            "zerolinecolor": "white"
           },
           "yaxis": {
            "backgroundcolor": "#E5ECF6",
            "gridcolor": "white",
            "gridwidth": 2,
            "linecolor": "white",
            "showbackground": true,
            "ticks": "",
            "zerolinecolor": "white"
           },
           "zaxis": {
            "backgroundcolor": "#E5ECF6",
            "gridcolor": "white",
            "gridwidth": 2,
            "linecolor": "white",
            "showbackground": true,
            "ticks": "",
            "zerolinecolor": "white"
           }
          },
          "shapedefaults": {
           "line": {
            "color": "#2a3f5f"
           }
          },
          "ternary": {
           "aaxis": {
            "gridcolor": "white",
            "linecolor": "white",
            "ticks": ""
           },
           "baxis": {
            "gridcolor": "white",
            "linecolor": "white",
            "ticks": ""
           },
           "bgcolor": "#E5ECF6",
           "caxis": {
            "gridcolor": "white",
            "linecolor": "white",
            "ticks": ""
           }
          },
          "title": {
           "x": 0.05
          },
          "xaxis": {
           "automargin": true,
           "gridcolor": "white",
           "linecolor": "white",
           "ticks": "",
           "title": {
            "standoff": 15
           },
           "zerolinecolor": "white",
           "zerolinewidth": 2
          },
          "yaxis": {
           "automargin": true,
           "gridcolor": "white",
           "linecolor": "white",
           "ticks": "",
           "title": {
            "standoff": 15
           },
           "zerolinecolor": "white",
           "zerolinewidth": 2
          }
         }
        },
        "title": {
         "text": "Historic Risk Event Exposure for CYCLONE : 33837"
        },
        "transition": {
         "duration": 500
        },
        "xaxis": {
         "linecolor": "rgb(82, 82, 82)",
         "linewidth": 2,
         "rangeselector": {
          "buttons": [
           {
            "count": 1,
            "label": "1y",
            "step": "year",
            "stepmode": "backward"
           },
           {
            "count": 3,
            "label": "3y",
            "step": "year",
            "stepmode": "backward"
           },
           {
            "count": 6,
            "label": "10y",
            "step": "year",
            "stepmode": "backward"
           },
           {
            "step": "all"
           }
          ]
         },
         "rangeslider": {
          "visible": true
         },
         "showgrid": false,
         "showline": true,
         "showticklabels": true,
         "tickfont": {
          "color": "rgb(82, 82, 82)",
          "family": "Arial",
          "size": 12
         },
         "ticks": "outside",
         "title": {
          "text": "Year of Assessment"
         },
         "type": "date"
        },
        "yaxis": {
         "linecolor": "rgb(82, 82, 82)",
         "linewidth": 2,
         "showgrid": false,
         "showline": true,
         "showticklabels": true,
         "tickfont": {
          "color": "rgb(82, 82, 82)",
          "family": "Arial",
          "size": 12
         },
         "ticks": "outside",
         "title": {
          "text": "Hazard Severity [0.0-1.0]"
         }
        }
       }
      },
      "text/html": [
       "<div>                            <div id=\"e9d37715-9d9c-4e53-9662-fa67465c93f9\" class=\"plotly-graph-div\" style=\"height:525px; width:100%;\"></div>            <script type=\"text/javascript\">                require([\"plotly\"], function(Plotly) {                    window.PLOTLYENV=window.PLOTLYENV || {};                                    if (document.getElementById(\"e9d37715-9d9c-4e53-9662-fa67465c93f9\")) {                    Plotly.newPlot(                        \"e9d37715-9d9c-4e53-9662-fa67465c93f9\",                        [{\"fill\":\"tonexty\",\"fillcolor\":\"rgba(100, 100, 100, 0.2)\",\"line\":{\"color\":\"rgb(50, 50, 50)\"},\"mode\":\"lines\",\"name\":\"\",\"type\":\"scatter\",\"x\":[\"2010-01-01\",\"2010-02-01\",\"2010-03-01\",\"2010-04-01\",\"2010-05-01\",\"2010-06-01\",\"2010-07-01\",\"2010-08-01\",\"2010-09-01\",\"2010-10-01\",\"2010-11-01\",\"2010-12-01\",\"2011-01-01\",\"2011-02-01\",\"2011-03-01\",\"2011-04-01\",\"2011-05-01\",\"2011-06-01\",\"2011-07-01\",\"2011-08-01\",\"2011-09-01\",\"2011-10-01\",\"2011-11-01\",\"2011-12-01\",\"2012-01-01\",\"2012-02-01\",\"2012-03-01\",\"2012-04-01\",\"2012-05-01\",\"2012-06-01\",\"2012-07-01\",\"2012-08-01\",\"2012-09-01\",\"2012-10-01\",\"2012-11-01\",\"2012-12-01\",\"2013-01-01\",\"2013-02-01\",\"2013-03-01\",\"2013-04-01\",\"2013-05-01\",\"2013-06-01\",\"2013-07-01\",\"2013-08-01\",\"2013-09-01\",\"2013-10-01\",\"2013-11-01\",\"2013-12-01\",\"2014-01-01\",\"2014-02-01\",\"2014-03-01\",\"2014-04-01\",\"2014-05-01\",\"2014-06-01\",\"2014-07-01\",\"2014-08-01\",\"2014-09-01\",\"2014-10-01\",\"2014-11-01\",\"2014-12-01\",\"2015-01-01\",\"2015-02-01\",\"2015-03-01\",\"2015-04-01\",\"2015-05-01\",\"2015-06-01\",\"2015-07-01\",\"2015-08-01\",\"2015-09-01\",\"2015-10-01\",\"2015-11-01\",\"2015-12-01\",\"2016-01-01\",\"2016-02-01\",\"2016-03-01\",\"2016-04-01\",\"2016-05-01\",\"2016-06-01\",\"2016-07-01\",\"2016-08-01\",\"2016-09-01\",\"2016-10-01\",\"2016-11-01\",\"2016-12-01\",\"2017-01-01\",\"2017-02-01\",\"2017-03-01\",\"2017-04-01\",\"2017-05-01\",\"2017-06-01\",\"2017-07-01\",\"2017-08-01\",\"2017-09-01\",\"2017-10-01\",\"2017-11-01\",\"2017-12-01\",\"2018-01-01\",\"2018-02-01\",\"2018-03-01\",\"2018-04-01\",\"2018-05-01\",\"2018-06-01\",\"2018-07-01\",\"2018-08-01\",\"2018-09-01\",\"2018-10-01\",\"2018-11-01\",\"2018-12-01\",\"2019-01-01\",\"2019-02-01\",\"2019-03-01\",\"2019-04-01\",\"2019-05-01\",\"2019-06-01\",\"2019-07-01\",\"2019-08-01\",\"2019-09-01\",\"2019-10-01\",\"2019-11-01\",\"2019-12-01\",\"2020-01-01\",\"2020-02-01\",\"2020-03-01\",\"2020-04-01\",\"2020-05-01\",\"2020-06-01\",\"2020-07-01\",\"2020-08-01\",\"2020-09-01\",\"2020-10-01\",\"2020-11-01\",\"2020-12-01\"],\"y\":[0.0,0.0,0.0,0.0,0.0,0.0,0.0,0.0,0.0,0.0,0.0,0.0,0.0,0.0,0.0,0.0,0.0,0.0,0.0,0.0,0.0,0.0,0.0,0.0,0.0,0.0,0.0,0.0,0.0,0.0,0.0,0.0,0.0,0.0,0.0,0.0,0.0,0.0,0.0,0.0,0.0,0.0,0.0,0.0,0.0,0.0,0.0,0.0,0.0,0.0,0.0,0.0,0.0,0.0,0.0,0.0,0.0,0.0,0.0,0.0,0.0,0.0,0.0,0.0,0.0,0.0,0.0,0.0,0.0,0.0,0.0,0.0,0.0,0.0,0.0,0.0,0.0,0.0,0.0,0.0,0.0,0.0,0.0,0.0,0.0,0.0,0.0,0.0,0.0,0.0,0.0,0.0,1.0,0.0,0.0,0.0,0.0,0.0,0.0,0.0,0.0,0.0,0.0,0.0,0.0,0.0,0.0,0.0,0.0,0.0,0.0,0.0,0.0,0.0,0.0,0.0,0.0,0.0,0.0,0.0,0.0,0.0,0.0,0.0,0.0,0.0,0.0,0.0,0.0,0.0,0.0,0.0]}],                        {\"legend\":{\"x\":0,\"y\":1.1},\"paper_bgcolor\":\"#FFFFFF\",\"plot_bgcolor\":\"#FFFFFF\",\"showlegend\":false,\"template\":{\"data\":{\"bar\":[{\"error_x\":{\"color\":\"#2a3f5f\"},\"error_y\":{\"color\":\"#2a3f5f\"},\"marker\":{\"line\":{\"color\":\"#E5ECF6\",\"width\":0.5},\"pattern\":{\"fillmode\":\"overlay\",\"size\":10,\"solidity\":0.2}},\"type\":\"bar\"}],\"barpolar\":[{\"marker\":{\"line\":{\"color\":\"#E5ECF6\",\"width\":0.5},\"pattern\":{\"fillmode\":\"overlay\",\"size\":10,\"solidity\":0.2}},\"type\":\"barpolar\"}],\"carpet\":[{\"aaxis\":{\"endlinecolor\":\"#2a3f5f\",\"gridcolor\":\"white\",\"linecolor\":\"white\",\"minorgridcolor\":\"white\",\"startlinecolor\":\"#2a3f5f\"},\"baxis\":{\"endlinecolor\":\"#2a3f5f\",\"gridcolor\":\"white\",\"linecolor\":\"white\",\"minorgridcolor\":\"white\",\"startlinecolor\":\"#2a3f5f\"},\"type\":\"carpet\"}],\"choropleth\":[{\"colorbar\":{\"outlinewidth\":0,\"ticks\":\"\"},\"type\":\"choropleth\"}],\"contour\":[{\"colorbar\":{\"outlinewidth\":0,\"ticks\":\"\"},\"colorscale\":[[0.0,\"#0d0887\"],[0.1111111111111111,\"#46039f\"],[0.2222222222222222,\"#7201a8\"],[0.3333333333333333,\"#9c179e\"],[0.4444444444444444,\"#bd3786\"],[0.5555555555555556,\"#d8576b\"],[0.6666666666666666,\"#ed7953\"],[0.7777777777777778,\"#fb9f3a\"],[0.8888888888888888,\"#fdca26\"],[1.0,\"#f0f921\"]],\"type\":\"contour\"}],\"contourcarpet\":[{\"colorbar\":{\"outlinewidth\":0,\"ticks\":\"\"},\"type\":\"contourcarpet\"}],\"heatmap\":[{\"colorbar\":{\"outlinewidth\":0,\"ticks\":\"\"},\"colorscale\":[[0.0,\"#0d0887\"],[0.1111111111111111,\"#46039f\"],[0.2222222222222222,\"#7201a8\"],[0.3333333333333333,\"#9c179e\"],[0.4444444444444444,\"#bd3786\"],[0.5555555555555556,\"#d8576b\"],[0.6666666666666666,\"#ed7953\"],[0.7777777777777778,\"#fb9f3a\"],[0.8888888888888888,\"#fdca26\"],[1.0,\"#f0f921\"]],\"type\":\"heatmap\"}],\"heatmapgl\":[{\"colorbar\":{\"outlinewidth\":0,\"ticks\":\"\"},\"colorscale\":[[0.0,\"#0d0887\"],[0.1111111111111111,\"#46039f\"],[0.2222222222222222,\"#7201a8\"],[0.3333333333333333,\"#9c179e\"],[0.4444444444444444,\"#bd3786\"],[0.5555555555555556,\"#d8576b\"],[0.6666666666666666,\"#ed7953\"],[0.7777777777777778,\"#fb9f3a\"],[0.8888888888888888,\"#fdca26\"],[1.0,\"#f0f921\"]],\"type\":\"heatmapgl\"}],\"histogram\":[{\"marker\":{\"pattern\":{\"fillmode\":\"overlay\",\"size\":10,\"solidity\":0.2}},\"type\":\"histogram\"}],\"histogram2d\":[{\"colorbar\":{\"outlinewidth\":0,\"ticks\":\"\"},\"colorscale\":[[0.0,\"#0d0887\"],[0.1111111111111111,\"#46039f\"],[0.2222222222222222,\"#7201a8\"],[0.3333333333333333,\"#9c179e\"],[0.4444444444444444,\"#bd3786\"],[0.5555555555555556,\"#d8576b\"],[0.6666666666666666,\"#ed7953\"],[0.7777777777777778,\"#fb9f3a\"],[0.8888888888888888,\"#fdca26\"],[1.0,\"#f0f921\"]],\"type\":\"histogram2d\"}],\"histogram2dcontour\":[{\"colorbar\":{\"outlinewidth\":0,\"ticks\":\"\"},\"colorscale\":[[0.0,\"#0d0887\"],[0.1111111111111111,\"#46039f\"],[0.2222222222222222,\"#7201a8\"],[0.3333333333333333,\"#9c179e\"],[0.4444444444444444,\"#bd3786\"],[0.5555555555555556,\"#d8576b\"],[0.6666666666666666,\"#ed7953\"],[0.7777777777777778,\"#fb9f3a\"],[0.8888888888888888,\"#fdca26\"],[1.0,\"#f0f921\"]],\"type\":\"histogram2dcontour\"}],\"mesh3d\":[{\"colorbar\":{\"outlinewidth\":0,\"ticks\":\"\"},\"type\":\"mesh3d\"}],\"parcoords\":[{\"line\":{\"colorbar\":{\"outlinewidth\":0,\"ticks\":\"\"}},\"type\":\"parcoords\"}],\"pie\":[{\"automargin\":true,\"type\":\"pie\"}],\"scatter\":[{\"marker\":{\"colorbar\":{\"outlinewidth\":0,\"ticks\":\"\"}},\"type\":\"scatter\"}],\"scatter3d\":[{\"line\":{\"colorbar\":{\"outlinewidth\":0,\"ticks\":\"\"}},\"marker\":{\"colorbar\":{\"outlinewidth\":0,\"ticks\":\"\"}},\"type\":\"scatter3d\"}],\"scattercarpet\":[{\"marker\":{\"colorbar\":{\"outlinewidth\":0,\"ticks\":\"\"}},\"type\":\"scattercarpet\"}],\"scattergeo\":[{\"marker\":{\"colorbar\":{\"outlinewidth\":0,\"ticks\":\"\"}},\"type\":\"scattergeo\"}],\"scattergl\":[{\"marker\":{\"colorbar\":{\"outlinewidth\":0,\"ticks\":\"\"}},\"type\":\"scattergl\"}],\"scattermapbox\":[{\"marker\":{\"colorbar\":{\"outlinewidth\":0,\"ticks\":\"\"}},\"type\":\"scattermapbox\"}],\"scatterpolar\":[{\"marker\":{\"colorbar\":{\"outlinewidth\":0,\"ticks\":\"\"}},\"type\":\"scatterpolar\"}],\"scatterpolargl\":[{\"marker\":{\"colorbar\":{\"outlinewidth\":0,\"ticks\":\"\"}},\"type\":\"scatterpolargl\"}],\"scatterternary\":[{\"marker\":{\"colorbar\":{\"outlinewidth\":0,\"ticks\":\"\"}},\"type\":\"scatterternary\"}],\"surface\":[{\"colorbar\":{\"outlinewidth\":0,\"ticks\":\"\"},\"colorscale\":[[0.0,\"#0d0887\"],[0.1111111111111111,\"#46039f\"],[0.2222222222222222,\"#7201a8\"],[0.3333333333333333,\"#9c179e\"],[0.4444444444444444,\"#bd3786\"],[0.5555555555555556,\"#d8576b\"],[0.6666666666666666,\"#ed7953\"],[0.7777777777777778,\"#fb9f3a\"],[0.8888888888888888,\"#fdca26\"],[1.0,\"#f0f921\"]],\"type\":\"surface\"}],\"table\":[{\"cells\":{\"fill\":{\"color\":\"#EBF0F8\"},\"line\":{\"color\":\"white\"}},\"header\":{\"fill\":{\"color\":\"#C8D4E3\"},\"line\":{\"color\":\"white\"}},\"type\":\"table\"}]},\"layout\":{\"annotationdefaults\":{\"arrowcolor\":\"#2a3f5f\",\"arrowhead\":0,\"arrowwidth\":1},\"autotypenumbers\":\"strict\",\"coloraxis\":{\"colorbar\":{\"outlinewidth\":0,\"ticks\":\"\"}},\"colorscale\":{\"diverging\":[[0,\"#8e0152\"],[0.1,\"#c51b7d\"],[0.2,\"#de77ae\"],[0.3,\"#f1b6da\"],[0.4,\"#fde0ef\"],[0.5,\"#f7f7f7\"],[0.6,\"#e6f5d0\"],[0.7,\"#b8e186\"],[0.8,\"#7fbc41\"],[0.9,\"#4d9221\"],[1,\"#276419\"]],\"sequential\":[[0.0,\"#0d0887\"],[0.1111111111111111,\"#46039f\"],[0.2222222222222222,\"#7201a8\"],[0.3333333333333333,\"#9c179e\"],[0.4444444444444444,\"#bd3786\"],[0.5555555555555556,\"#d8576b\"],[0.6666666666666666,\"#ed7953\"],[0.7777777777777778,\"#fb9f3a\"],[0.8888888888888888,\"#fdca26\"],[1.0,\"#f0f921\"]],\"sequentialminus\":[[0.0,\"#0d0887\"],[0.1111111111111111,\"#46039f\"],[0.2222222222222222,\"#7201a8\"],[0.3333333333333333,\"#9c179e\"],[0.4444444444444444,\"#bd3786\"],[0.5555555555555556,\"#d8576b\"],[0.6666666666666666,\"#ed7953\"],[0.7777777777777778,\"#fb9f3a\"],[0.8888888888888888,\"#fdca26\"],[1.0,\"#f0f921\"]]},\"colorway\":[\"#636efa\",\"#EF553B\",\"#00cc96\",\"#ab63fa\",\"#FFA15A\",\"#19d3f3\",\"#FF6692\",\"#B6E880\",\"#FF97FF\",\"#FECB52\"],\"font\":{\"color\":\"#2a3f5f\"},\"geo\":{\"bgcolor\":\"white\",\"lakecolor\":\"white\",\"landcolor\":\"#E5ECF6\",\"showlakes\":true,\"showland\":true,\"subunitcolor\":\"white\"},\"hoverlabel\":{\"align\":\"left\"},\"hovermode\":\"closest\",\"mapbox\":{\"style\":\"light\"},\"paper_bgcolor\":\"white\",\"plot_bgcolor\":\"#E5ECF6\",\"polar\":{\"angularaxis\":{\"gridcolor\":\"white\",\"linecolor\":\"white\",\"ticks\":\"\"},\"bgcolor\":\"#E5ECF6\",\"radialaxis\":{\"gridcolor\":\"white\",\"linecolor\":\"white\",\"ticks\":\"\"}},\"scene\":{\"xaxis\":{\"backgroundcolor\":\"#E5ECF6\",\"gridcolor\":\"white\",\"gridwidth\":2,\"linecolor\":\"white\",\"showbackground\":true,\"ticks\":\"\",\"zerolinecolor\":\"white\"},\"yaxis\":{\"backgroundcolor\":\"#E5ECF6\",\"gridcolor\":\"white\",\"gridwidth\":2,\"linecolor\":\"white\",\"showbackground\":true,\"ticks\":\"\",\"zerolinecolor\":\"white\"},\"zaxis\":{\"backgroundcolor\":\"#E5ECF6\",\"gridcolor\":\"white\",\"gridwidth\":2,\"linecolor\":\"white\",\"showbackground\":true,\"ticks\":\"\",\"zerolinecolor\":\"white\"}},\"shapedefaults\":{\"line\":{\"color\":\"#2a3f5f\"}},\"ternary\":{\"aaxis\":{\"gridcolor\":\"white\",\"linecolor\":\"white\",\"ticks\":\"\"},\"baxis\":{\"gridcolor\":\"white\",\"linecolor\":\"white\",\"ticks\":\"\"},\"bgcolor\":\"#E5ECF6\",\"caxis\":{\"gridcolor\":\"white\",\"linecolor\":\"white\",\"ticks\":\"\"}},\"title\":{\"x\":0.05},\"xaxis\":{\"automargin\":true,\"gridcolor\":\"white\",\"linecolor\":\"white\",\"ticks\":\"\",\"title\":{\"standoff\":15},\"zerolinecolor\":\"white\",\"zerolinewidth\":2},\"yaxis\":{\"automargin\":true,\"gridcolor\":\"white\",\"linecolor\":\"white\",\"ticks\":\"\",\"title\":{\"standoff\":15},\"zerolinecolor\":\"white\",\"zerolinewidth\":2}}},\"title\":{\"text\":\"Historic Risk Event Exposure for CYCLONE : 33837\"},\"transition\":{\"duration\":500},\"xaxis\":{\"linecolor\":\"rgb(82, 82, 82)\",\"linewidth\":2,\"rangeselector\":{\"buttons\":[{\"count\":1,\"label\":\"1y\",\"step\":\"year\",\"stepmode\":\"backward\"},{\"count\":3,\"label\":\"3y\",\"step\":\"year\",\"stepmode\":\"backward\"},{\"count\":6,\"label\":\"10y\",\"step\":\"year\",\"stepmode\":\"backward\"},{\"step\":\"all\"}]},\"rangeslider\":{\"visible\":true},\"showgrid\":false,\"showline\":true,\"showticklabels\":true,\"tickfont\":{\"color\":\"rgb(82, 82, 82)\",\"family\":\"Arial\",\"size\":12},\"ticks\":\"outside\",\"title\":{\"text\":\"Year of Assessment\"},\"type\":\"date\"},\"yaxis\":{\"linecolor\":\"rgb(82, 82, 82)\",\"linewidth\":2,\"showgrid\":false,\"showline\":true,\"showticklabels\":true,\"tickfont\":{\"color\":\"rgb(82, 82, 82)\",\"family\":\"Arial\",\"size\":12},\"ticks\":\"outside\",\"title\":{\"text\":\"Hazard Severity [0.0-1.0]\"}}},                        {\"responsive\": true}                    ).then(function(){\n",
       "                            \n",
       "var gd = document.getElementById('e9d37715-9d9c-4e53-9662-fa67465c93f9');\n",
       "var x = new MutationObserver(function (mutations, observer) {{\n",
       "        var display = window.getComputedStyle(gd).display;\n",
       "        if (!display || display === 'none') {{\n",
       "            console.log([gd, 'removed!']);\n",
       "            Plotly.purge(gd);\n",
       "            observer.disconnect();\n",
       "        }}\n",
       "}});\n",
       "\n",
       "// Listen for the removal of the full notebook cells\n",
       "var notebookContainer = gd.closest('#notebook-container');\n",
       "if (notebookContainer) {{\n",
       "    x.observe(notebookContainer, {childList: true});\n",
       "}}\n",
       "\n",
       "// Listen for the clearing of the current output cell\n",
       "var outputEl = gd.closest('.output');\n",
       "if (outputEl) {{\n",
       "    x.observe(outputEl, {childList: true});\n",
       "}}\n",
       "\n",
       "                        })                };                });            </script>        </div>"
      ]
     },
     "metadata": {},
     "output_type": "display_data"
    }
   ],
   "source": [
    "his_risk_mode = 'Cyclone'  \n",
    "fig = display_his_timeseries_data(asset_index, portfolio, his_risk_type[his_risk_mode])\n",
    "fig.show()"
   ]
  },
  {
   "cell_type": "code",
   "execution_count": null,
   "id": "96c9c4f5",
   "metadata": {},
   "outputs": [],
   "source": []
  }
 ],
 "metadata": {
  "kernelspec": {
   "display_name": "Python 3 (ipykernel)",
   "language": "python",
   "name": "python3"
  },
  "language_info": {
   "codemirror_mode": {
    "name": "ipython",
    "version": 3
   },
   "file_extension": ".py",
   "mimetype": "text/x-python",
   "name": "python",
   "nbconvert_exporter": "python",
   "pygments_lexer": "ipython3",
   "version": "3.8.7"
  }
 },
 "nbformat": 4,
 "nbformat_minor": 5
}
