{
 "cells": [
  {
   "cell_type": "code",
   "execution_count": null,
   "id": "41210e18",
   "metadata": {},
   "outputs": [],
   "source": [
    "import os\n",
    "import pandas as pd\n",
    "\n",
    "# Your API key and project (optional) must be provided.\n",
    "# Use the environment variables already wired up, or overwrite\n",
    "# the following lines with your own values manually.\n",
    "API_KEY = os.environ.get('SUST_API_KEY')\n",
    "PROJECT = os.environ.get('SUST_PROJECT')\n",
    "\n",
    "# Identify the name of an existing Climate Explorer portfolio below\n",
    "PORTFOLIO = 'DEMO' \n",
    "\n",
    "assert PORTFOLIO, \"must set PORTFOLIO\""
   ]
  },
  {
   "cell_type": "code",
   "execution_count": null,
   "id": "81d09ab9",
   "metadata": {},
   "outputs": [],
   "source": [
    "import sust.api\n",
    "\n",
    "cl = sust.api.ClimateExplorerClient(API_KEY, project=PROJECT)\n",
    "\n",
    "pf = cl.portfolio(PORTFOLIO)"
   ]
  },
  {
   "cell_type": "code",
   "execution_count": null,
   "id": "8344c127",
   "metadata": {},
   "outputs": [],
   "source": [
    "\n",
    "assets = pf.assets()\n",
    "assets.to_df()"
   ]
  },
  {
   "cell_type": "code",
   "execution_count": null,
   "id": "06ddf19a",
   "metadata": {},
   "outputs": [],
   "source": [
    "assets.physical_risk_annual(scenario=sust.api.SSP585, risk_type=sust.api.FIRE).to_df()"
   ]
  }
 ],
 "metadata": {
  "kernelspec": {
   "display_name": "Python 3 (ipykernel)",
   "language": "python",
   "name": "python3"
  },
  "language_info": {
   "codemirror_mode": {
    "name": "ipython",
    "version": 3
   },
   "file_extension": ".py",
   "mimetype": "text/x-python",
   "name": "python",
   "nbconvert_exporter": "python",
   "pygments_lexer": "ipython3",
   "version": "3.9.7"
  }
 },
 "nbformat": 4,
 "nbformat_minor": 5
}
