{
 "cells": [
  {
   "cell_type": "code",
   "execution_count": null,
   "id": "41210e18",
   "metadata": {},
   "outputs": [],
   "source": [
    "import os\n",
    "import pandas as pd\n",
    "\n",
    "# Your API key must be provided, and a project may optionall be selected.\n",
    "# Use the environment variables already wired up, or overwrite the\n",
    "# following lines with your own values manually.\n",
    "API_KEY = os.environ.get('SUST_API_KEY')\n",
    "PROJECT = os.environ.get('SUST_PROJECT')\n",
    "\n",
    "# Identify the name of an existing Climate Explorer portfolio below\n",
    "PORTFOLIO = 'USNP' \n",
    "\n",
    "assert PORTFOLIO, \"must set PORTFOLIO\""
   ]
  },
  {
   "cell_type": "code",
   "execution_count": null,
   "id": "81d09ab9",
   "metadata": {},
   "outputs": [],
   "source": [
    "from sust.api import (ClimateExplorerClient, Scenarios, RiskTypes)\n",
    "\n",
    "cl = ClimateExplorerClient(API_KEY, project=PROJECT)\n",
    "\n",
    "pf = cl.portfolio(PORTFOLIO)"
   ]
  },
  {
   "cell_type": "code",
   "execution_count": null,
   "id": "06ddf19a",
   "metadata": {},
   "outputs": [],
   "source": [
    "pf.assets(labels={'type': 'National Park'}).physical_risk_timeseries(risk_type=RiskTypes.FIRE).to_dicts()\n"
   ]
  },
  {
   "cell_type": "code",
   "execution_count": null,
   "id": "92697360",
   "metadata": {},
   "outputs": [],
   "source": [
    "prs = pf.assets().physical_risk_summary(scenario=Scenarios.SSP585)\n",
    "\n",
    "df = pd.DataFrame(prs.to_dicts())\n",
    "df[df.entity_id == 'YOSE']"
   ]
  }
 ],
 "metadata": {
  "kernelspec": {
   "display_name": "Python 3 (ipykernel)",
   "language": "python",
   "name": "python3"
  },
  "language_info": {
   "codemirror_mode": {
    "name": "ipython",
    "version": 3
   },
   "file_extension": ".py",
   "mimetype": "text/x-python",
   "name": "python",
   "nbconvert_exporter": "python",
   "pygments_lexer": "ipython3",
   "version": "3.9.7"
  }
 },
 "nbformat": 4,
 "nbformat_minor": 5
}
