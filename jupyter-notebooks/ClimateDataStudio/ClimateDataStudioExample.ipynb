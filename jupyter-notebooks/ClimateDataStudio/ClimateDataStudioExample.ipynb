{
 "cells": [
  {
   "cell_type": "markdown",
   "metadata": {},
   "source": [
    "# Climate Data Studio\n",
    "## Getting started with the Sust Global API"
   ]
  },
  {
   "cell_type": "code",
   "execution_count": 1,
   "metadata": {},
   "outputs": [],
   "source": [
    "import requests\n",
    "import pandas as pd\n",
    "import geopandas as gpd\n",
    "from shapely.geometry import Point, shape, Polygon\n",
    "from IPython.display import display, HTML\n",
    "import contextily as ctx\n",
    "import matplotlib.pyplot as plt\n",
    "import folium, matplotlib\n",
    "\n",
    "display_df = lambda df: display(HTML(df.to_html()))\n",
    "\n",
    "API_KEY = \"y22BmlNQLBr1AwSH5Yej\"\n",
    "PORTFOLIO = \"us-counties\"\n",
    "PROJECT = \"cds-demo\"\n",
    "\n",
    "endpoints = {\n",
    "    \"portfolios\": f\"https://explorer.sustglobal.io/api/portfolios/?api_key={API_KEY}&project={PROJECT}\",\n",
    "    \"assets\"    : f\"https://explorer.sustglobal.io/api/portfolios/{PORTFOLIO}/assets?api_key={API_KEY}&project={PROJECT}&rows=200\",\n",
    "    \"summary\"   : f\"https://explorer.sustglobal.io/api/portfolios/{PORTFOLIO}/datasets/physical/summary?api_key={API_KEY}&project={PROJECT}&rows=200\",\n",
    "    \"physical\"  : f\"https://explorer.sustglobal.io/api/portfolios/{PORTFOLIO}/datasets/physical/items?api_key={API_KEY}&project={PROJECT}&rows=200\"\n",
    "}\n",
    "\n",
    "explore_defaults = {\n",
    "    \"tiles\": ctx.providers.Esri.WorldGrayCanvas,\n",
    "    \"marker_kwds\": {\n",
    "        \"radius\": 5\n",
    "    }\n",
    "}\n",
    "\n",
    "def get_endpoint_as_df(endpoint_id, params={}, fetch_args={\"print_pages\": False}):\n",
    "    \n",
    "    def fetch_with_pagination(endpoint_id, **kwargs):\n",
    "        page = 1\n",
    "        buff = []\n",
    "        if endpoint_id == \"portfolios\":\n",
    "            return pd.DataFrame(requests.get(f'{endpoints[endpoint_id]}').json())\n",
    "        while True:\n",
    "            response = requests.get(f'{endpoints[endpoint_id]}&page={page}', params=params).json()\n",
    "            if len(response) > 0:\n",
    "                if kwargs[\"print_pages\"]:\n",
    "                    print(page)\n",
    "                buff = buff + response\n",
    "                page += 1\n",
    "            else:\n",
    "                return pd.DataFrame(buff)\n",
    "            \n",
    "    res_df = fetch_with_pagination(endpoint_id, **fetch_args)\n",
    "    if endpoint_id == \"assets\":\n",
    "        if \"geometry\" in res_df.columns: # Polygons\n",
    "            return gpd.GeoDataFrame(res_df.copy().drop(\"geometry\", axis=1), geometry=res_df.geometry.apply(shape), crs=\"EPSG:4326\")\n",
    "        else: # Points\n",
    "            return gpd.GeoDataFrame(res_df.copy(), geometry=gpd.points_from_xy(res_df.lng, res_df.lat), crs=\"EPSG:4326\")\n",
    "    elif endpoint_id == \"physical\":\n",
    "        return pd.concat([\n",
    "            res_df.drop('risk_exposure', axis=1),\n",
    "            pd.DataFrame(list(res_df.risk_exposure))\n",
    "        ], axis=1)\n",
    "    else:\n",
    "        return res_df\n",
    "    \n",
    "    \n",
    "def map_risk_summary_json_to_single_hazard(summary_series, hazard):\n",
    "    return pd.concat([\n",
    "        summary_series.drop(\"risk_summaries\", axis=1), \n",
    "        pd.DataFrame(list(summary_series.risk_summaries.apply(lambda s: [i for i in s if i[\"hazard\"] == hazard][0])))\n",
    "    ], axis=1)\n",
    "\n",
    "\n",
    "def expand_timeseries_json_to_df(timeseries):\n",
    "    return pd.DataFrame(list(timeseries))\n",
    "\n",
    "\n",
    "def get_top_n(df, col, n=10, **kwargs):\n",
    "    return df.sort_values(col, **kwargs).iloc[0:n].drop(\"geometry\", axis=1)\n",
    "\n",
    "\n",
    "    "
   ]
  },
  {
   "cell_type": "code",
   "execution_count": 2,
   "metadata": {},
   "outputs": [
    {
     "data": {
      "text/html": [
       "<table border=\"1\" class=\"dataframe\">\n",
       "  <thead>\n",
       "    <tr style=\"text-align: right;\">\n",
       "      <th></th>\n",
       "      <th>portfolio_id</th>\n",
       "      <th>portfolio_name</th>\n",
       "      <th>created_at</th>\n",
       "      <th>updated_at</th>\n",
       "      <th>status</th>\n",
       "    </tr>\n",
       "  </thead>\n",
       "  <tbody>\n",
       "    <tr>\n",
       "      <th>0</th>\n",
       "      <td>022256aede96a409</td>\n",
       "      <td>all_national_forests</td>\n",
       "      <td>2022-07-25T21:22:34Z</td>\n",
       "      <td>2022-07-25T21:31:00Z</td>\n",
       "      <td>Risk data available</td>\n",
       "    </tr>\n",
       "    <tr>\n",
       "      <th>1</th>\n",
       "      <td>7440a84ba0101c12</td>\n",
       "      <td>global-mangrove-watch</td>\n",
       "      <td>2022-07-20T21:32:55Z</td>\n",
       "      <td>2022-07-20T22:11:50Z</td>\n",
       "      <td>Risk data available</td>\n",
       "    </tr>\n",
       "    <tr>\n",
       "      <th>2</th>\n",
       "      <td>f37fb494bb33d5e7</td>\n",
       "      <td>us-counties</td>\n",
       "      <td>2022-07-18T23:57:21Z</td>\n",
       "      <td>2022-07-19T21:15:01Z</td>\n",
       "      <td>Risk data available</td>\n",
       "    </tr>\n",
       "  </tbody>\n",
       "</table>"
      ],
      "text/plain": [
       "<IPython.core.display.HTML object>"
      ]
     },
     "metadata": {},
     "output_type": "display_data"
    }
   ],
   "source": [
    "portfolios = get_endpoint_as_df(\"portfolios\")\n",
    "display_df(portfolios)"
   ]
  },
  {
   "cell_type": "code",
   "execution_count": null,
   "metadata": {},
   "outputs": [],
   "source": [
    "gdf_assets = get_endpoint_as_df(\"assets\")\n",
    "gdf_assets.geometry = gdf_assets.geometry.simplify(0.01)\n",
    "gdf_assets.explore(**explore_defaults)"
   ]
  },
  {
   "cell_type": "code",
   "execution_count": null,
   "metadata": {},
   "outputs": [],
   "source": [
    "summaries_15_year = get_endpoint_as_df(\"summary\", params={'window': 15, 'scenario': 'ssp585'})\n",
    "# display_df(summaries)\n"
   ]
  },
  {
   "cell_type": "code",
   "execution_count": null,
   "metadata": {},
   "outputs": [],
   "source": [
    "display_df(summaries_15_year)"
   ]
  },
  {
   "cell_type": "markdown",
   "metadata": {},
   "source": [
    "## Plotting Wildfire Potential"
   ]
  },
  {
   "cell_type": "code",
   "execution_count": null,
   "metadata": {},
   "outputs": [],
   "source": [
    "summary = map_risk_summary_json_to_single_hazard(summaries_15_year, \"wildfire\")\n",
    "assets_combined_summaries = gdf_assets.merge(summary, on=\"portfolio_index\")\n",
    "assets_combined_summaries.explore(column='risk_score', cmap='YlOrRd', **explore_defaults)\n"
   ]
  },
  {
   "cell_type": "markdown",
   "metadata": {},
   "source": [
    "## Get Top Wildfire Geographies"
   ]
  },
  {
   "cell_type": "code",
   "execution_count": null,
   "metadata": {},
   "outputs": [],
   "source": [
    "display_df(get_top_n(assets_combined_summaries, \"risk_score\", ascending=False))"
   ]
  },
  {
   "cell_type": "markdown",
   "metadata": {},
   "source": [
    "## Plotting Water Stress"
   ]
  },
  {
   "cell_type": "code",
   "execution_count": null,
   "metadata": {},
   "outputs": [],
   "source": [
    "summary = map_risk_summary_json_to_single_hazard(summaries_15_year, \"water_stress\")\n",
    "assets_combined_summaries = gdf_assets.merge(summary, on=\"portfolio_index\")\n",
    "assets_combined_summaries.explore(column='risk_score', cmap='YlOrRd', **explore_defaults)"
   ]
  },
  {
   "cell_type": "code",
   "execution_count": null,
   "metadata": {},
   "outputs": [],
   "source": [
    "display_df(get_top_n(assets_combined_summaries, \"risk_score\", ascending=False))"
   ]
  },
  {
   "cell_type": "code",
   "execution_count": null,
   "metadata": {},
   "outputs": [],
   "source": [
    "exposure_timeseries = get_endpoint_as_df(\"physical\", params={\n",
    "    'hazard': 'wildfire', 'indicator': 'unified_prob', 'scenario': 'ssp585', 'measure': 'mid'\n",
    "})"
   ]
  },
  {
   "cell_type": "code",
   "execution_count": null,
   "metadata": {},
   "outputs": [],
   "source": [
    "exposure_timeseries"
   ]
  }
 ],
 "metadata": {
  "kernelspec": {
   "display_name": "Python 3.9.13 64-bit",
   "language": "python",
   "name": "python3"
  },
  "language_info": {
   "codemirror_mode": {
    "name": "ipython",
    "version": 3
   },
   "file_extension": ".py",
   "mimetype": "text/x-python",
   "name": "python",
   "nbconvert_exporter": "python",
   "pygments_lexer": "ipython3",
   "version": "3.9.13"
  },
  "vscode": {
   "interpreter": {
    "hash": "b0fa6594d8f4cbf19f97940f81e996739fb7646882a419484c72d19e05852a7e"
   }
  }
 },
 "nbformat": 4,
 "nbformat_minor": 2
}
